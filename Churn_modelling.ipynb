{
 "cells": [
  {
   "cell_type": "markdown",
   "metadata": {},
   "source": [
    "# TP1 : Build the first Deep Learning NN with Keras"
   ]
  },
  {
   "cell_type": "markdown",
   "metadata": {},
   "source": [
    "Our main goal is to predict the churn rate of a certain bank, that is, the customer who will leave this banking service."
   ]
  },
  {
   "cell_type": "markdown",
   "metadata": {},
   "source": [
    "# 1- Importing libraries"
   ]
  },
  {
   "cell_type": "code",
   "execution_count": 1,
   "metadata": {},
   "outputs": [
    {
     "name": "stderr",
     "output_type": "stream",
     "text": [
      "/home/instadeeprd/miniconda3/envs/learn/lib/python3.6/site-packages/h5py/__init__.py:36: FutureWarning: Conversion of the second argument of issubdtype from `float` to `np.floating` is deprecated. In future, it will be treated as `np.float64 == np.dtype(float).type`.\n",
      "  from ._conv import register_converters as _register_converters\n",
      "Using TensorFlow backend.\n"
     ]
    }
   ],
   "source": [
    "import numpy as np\n",
    "import matplotlib.pyplot as plt\n",
    "import pandas as pd\n",
    "from sklearn.preprocessing import LabelEncoder, OneHotEncoder\n",
    "from sklearn.model_selection import train_test_split\n",
    "from sklearn.preprocessing import StandardScaler\n",
    "from sklearn.metrics import confusion_matrix\n",
    "# Importing the Keras libraries and packages\n",
    "import keras\n",
    "from keras.models import Sequential\n",
    "from keras.layers import Dense"
   ]
  },
  {
   "cell_type": "markdown",
   "metadata": {},
   "source": [
    "# 2- Preprocessing data"
   ]
  },
  {
   "cell_type": "code",
   "execution_count": 2,
   "metadata": {},
   "outputs": [
    {
     "data": {
      "text/html": [
       "<div>\n",
       "<style scoped>\n",
       "    .dataframe tbody tr th:only-of-type {\n",
       "        vertical-align: middle;\n",
       "    }\n",
       "\n",
       "    .dataframe tbody tr th {\n",
       "        vertical-align: top;\n",
       "    }\n",
       "\n",
       "    .dataframe thead th {\n",
       "        text-align: right;\n",
       "    }\n",
       "</style>\n",
       "<table border=\"1\" class=\"dataframe\">\n",
       "  <thead>\n",
       "    <tr style=\"text-align: right;\">\n",
       "      <th></th>\n",
       "      <th>RowNumber</th>\n",
       "      <th>CustomerId</th>\n",
       "      <th>Surname</th>\n",
       "      <th>CreditScore</th>\n",
       "      <th>Geography</th>\n",
       "      <th>Gender</th>\n",
       "      <th>Age</th>\n",
       "      <th>Tenure</th>\n",
       "      <th>Balance</th>\n",
       "      <th>NumOfProducts</th>\n",
       "      <th>HasCrCard</th>\n",
       "      <th>IsActiveMember</th>\n",
       "      <th>EstimatedSalary</th>\n",
       "      <th>Exited</th>\n",
       "    </tr>\n",
       "  </thead>\n",
       "  <tbody>\n",
       "    <tr>\n",
       "      <th>0</th>\n",
       "      <td>1</td>\n",
       "      <td>15634602</td>\n",
       "      <td>Hargrave</td>\n",
       "      <td>619</td>\n",
       "      <td>France</td>\n",
       "      <td>Female</td>\n",
       "      <td>42</td>\n",
       "      <td>2</td>\n",
       "      <td>0.00</td>\n",
       "      <td>1</td>\n",
       "      <td>1</td>\n",
       "      <td>1</td>\n",
       "      <td>101348.88</td>\n",
       "      <td>1</td>\n",
       "    </tr>\n",
       "    <tr>\n",
       "      <th>1</th>\n",
       "      <td>2</td>\n",
       "      <td>15647311</td>\n",
       "      <td>Hill</td>\n",
       "      <td>608</td>\n",
       "      <td>Spain</td>\n",
       "      <td>Female</td>\n",
       "      <td>41</td>\n",
       "      <td>1</td>\n",
       "      <td>83807.86</td>\n",
       "      <td>1</td>\n",
       "      <td>0</td>\n",
       "      <td>1</td>\n",
       "      <td>112542.58</td>\n",
       "      <td>0</td>\n",
       "    </tr>\n",
       "    <tr>\n",
       "      <th>2</th>\n",
       "      <td>3</td>\n",
       "      <td>15619304</td>\n",
       "      <td>Onio</td>\n",
       "      <td>502</td>\n",
       "      <td>France</td>\n",
       "      <td>Female</td>\n",
       "      <td>42</td>\n",
       "      <td>8</td>\n",
       "      <td>159660.80</td>\n",
       "      <td>3</td>\n",
       "      <td>1</td>\n",
       "      <td>0</td>\n",
       "      <td>113931.57</td>\n",
       "      <td>1</td>\n",
       "    </tr>\n",
       "    <tr>\n",
       "      <th>3</th>\n",
       "      <td>4</td>\n",
       "      <td>15701354</td>\n",
       "      <td>Boni</td>\n",
       "      <td>699</td>\n",
       "      <td>France</td>\n",
       "      <td>Female</td>\n",
       "      <td>39</td>\n",
       "      <td>1</td>\n",
       "      <td>0.00</td>\n",
       "      <td>2</td>\n",
       "      <td>0</td>\n",
       "      <td>0</td>\n",
       "      <td>93826.63</td>\n",
       "      <td>0</td>\n",
       "    </tr>\n",
       "    <tr>\n",
       "      <th>4</th>\n",
       "      <td>5</td>\n",
       "      <td>15737888</td>\n",
       "      <td>Mitchell</td>\n",
       "      <td>850</td>\n",
       "      <td>Spain</td>\n",
       "      <td>Female</td>\n",
       "      <td>43</td>\n",
       "      <td>2</td>\n",
       "      <td>125510.82</td>\n",
       "      <td>1</td>\n",
       "      <td>1</td>\n",
       "      <td>1</td>\n",
       "      <td>79084.10</td>\n",
       "      <td>0</td>\n",
       "    </tr>\n",
       "  </tbody>\n",
       "</table>\n",
       "</div>"
      ],
      "text/plain": [
       "   RowNumber  CustomerId   Surname  CreditScore Geography  Gender  Age  \\\n",
       "0          1    15634602  Hargrave          619    France  Female   42   \n",
       "1          2    15647311      Hill          608     Spain  Female   41   \n",
       "2          3    15619304      Onio          502    France  Female   42   \n",
       "3          4    15701354      Boni          699    France  Female   39   \n",
       "4          5    15737888  Mitchell          850     Spain  Female   43   \n",
       "\n",
       "   Tenure    Balance  NumOfProducts  HasCrCard  IsActiveMember  \\\n",
       "0       2       0.00              1          1               1   \n",
       "1       1   83807.86              1          0               1   \n",
       "2       8  159660.80              3          1               0   \n",
       "3       1       0.00              2          0               0   \n",
       "4       2  125510.82              1          1               1   \n",
       "\n",
       "   EstimatedSalary  Exited  \n",
       "0        101348.88       1  \n",
       "1        112542.58       0  \n",
       "2        113931.57       1  \n",
       "3         93826.63       0  \n",
       "4         79084.10       0  "
      ]
     },
     "execution_count": 2,
     "metadata": {},
     "output_type": "execute_result"
    }
   ],
   "source": [
    "# Importing the dataset using pandas\n",
    "dataset = pd.read_csv('data.csv')\n",
    "dataset.head()"
   ]
  },
  {
   "cell_type": "markdown",
   "metadata": {},
   "source": [
    "## 2.1- Exploring data"
   ]
  },
  {
   "cell_type": "code",
   "execution_count": 3,
   "metadata": {},
   "outputs": [
    {
     "data": {
      "text/html": [
       "<div>\n",
       "<style scoped>\n",
       "    .dataframe tbody tr th:only-of-type {\n",
       "        vertical-align: middle;\n",
       "    }\n",
       "\n",
       "    .dataframe tbody tr th {\n",
       "        vertical-align: top;\n",
       "    }\n",
       "\n",
       "    .dataframe thead th {\n",
       "        text-align: right;\n",
       "    }\n",
       "</style>\n",
       "<table border=\"1\" class=\"dataframe\">\n",
       "  <thead>\n",
       "    <tr style=\"text-align: right;\">\n",
       "      <th></th>\n",
       "      <th>RowNumber</th>\n",
       "      <th>CustomerId</th>\n",
       "      <th>CreditScore</th>\n",
       "      <th>Age</th>\n",
       "      <th>Tenure</th>\n",
       "      <th>Balance</th>\n",
       "      <th>NumOfProducts</th>\n",
       "      <th>HasCrCard</th>\n",
       "      <th>IsActiveMember</th>\n",
       "      <th>EstimatedSalary</th>\n",
       "      <th>Exited</th>\n",
       "    </tr>\n",
       "  </thead>\n",
       "  <tbody>\n",
       "    <tr>\n",
       "      <th>count</th>\n",
       "      <td>10000.00000</td>\n",
       "      <td>1.000000e+04</td>\n",
       "      <td>10000.000000</td>\n",
       "      <td>10000.000000</td>\n",
       "      <td>10000.000000</td>\n",
       "      <td>10000.000000</td>\n",
       "      <td>10000.000000</td>\n",
       "      <td>10000.00000</td>\n",
       "      <td>10000.000000</td>\n",
       "      <td>10000.000000</td>\n",
       "      <td>10000.000000</td>\n",
       "    </tr>\n",
       "    <tr>\n",
       "      <th>mean</th>\n",
       "      <td>5000.50000</td>\n",
       "      <td>1.569094e+07</td>\n",
       "      <td>650.528800</td>\n",
       "      <td>38.921800</td>\n",
       "      <td>5.012800</td>\n",
       "      <td>76485.889288</td>\n",
       "      <td>1.530200</td>\n",
       "      <td>0.70550</td>\n",
       "      <td>0.515100</td>\n",
       "      <td>100090.239881</td>\n",
       "      <td>0.203700</td>\n",
       "    </tr>\n",
       "    <tr>\n",
       "      <th>std</th>\n",
       "      <td>2886.89568</td>\n",
       "      <td>7.193619e+04</td>\n",
       "      <td>96.653299</td>\n",
       "      <td>10.487806</td>\n",
       "      <td>2.892174</td>\n",
       "      <td>62397.405202</td>\n",
       "      <td>0.581654</td>\n",
       "      <td>0.45584</td>\n",
       "      <td>0.499797</td>\n",
       "      <td>57510.492818</td>\n",
       "      <td>0.402769</td>\n",
       "    </tr>\n",
       "    <tr>\n",
       "      <th>min</th>\n",
       "      <td>1.00000</td>\n",
       "      <td>1.556570e+07</td>\n",
       "      <td>350.000000</td>\n",
       "      <td>18.000000</td>\n",
       "      <td>0.000000</td>\n",
       "      <td>0.000000</td>\n",
       "      <td>1.000000</td>\n",
       "      <td>0.00000</td>\n",
       "      <td>0.000000</td>\n",
       "      <td>11.580000</td>\n",
       "      <td>0.000000</td>\n",
       "    </tr>\n",
       "    <tr>\n",
       "      <th>25%</th>\n",
       "      <td>2500.75000</td>\n",
       "      <td>1.562853e+07</td>\n",
       "      <td>584.000000</td>\n",
       "      <td>32.000000</td>\n",
       "      <td>3.000000</td>\n",
       "      <td>0.000000</td>\n",
       "      <td>1.000000</td>\n",
       "      <td>0.00000</td>\n",
       "      <td>0.000000</td>\n",
       "      <td>51002.110000</td>\n",
       "      <td>0.000000</td>\n",
       "    </tr>\n",
       "    <tr>\n",
       "      <th>50%</th>\n",
       "      <td>5000.50000</td>\n",
       "      <td>1.569074e+07</td>\n",
       "      <td>652.000000</td>\n",
       "      <td>37.000000</td>\n",
       "      <td>5.000000</td>\n",
       "      <td>97198.540000</td>\n",
       "      <td>1.000000</td>\n",
       "      <td>1.00000</td>\n",
       "      <td>1.000000</td>\n",
       "      <td>100193.915000</td>\n",
       "      <td>0.000000</td>\n",
       "    </tr>\n",
       "    <tr>\n",
       "      <th>75%</th>\n",
       "      <td>7500.25000</td>\n",
       "      <td>1.575323e+07</td>\n",
       "      <td>718.000000</td>\n",
       "      <td>44.000000</td>\n",
       "      <td>7.000000</td>\n",
       "      <td>127644.240000</td>\n",
       "      <td>2.000000</td>\n",
       "      <td>1.00000</td>\n",
       "      <td>1.000000</td>\n",
       "      <td>149388.247500</td>\n",
       "      <td>0.000000</td>\n",
       "    </tr>\n",
       "    <tr>\n",
       "      <th>max</th>\n",
       "      <td>10000.00000</td>\n",
       "      <td>1.581569e+07</td>\n",
       "      <td>850.000000</td>\n",
       "      <td>92.000000</td>\n",
       "      <td>10.000000</td>\n",
       "      <td>250898.090000</td>\n",
       "      <td>4.000000</td>\n",
       "      <td>1.00000</td>\n",
       "      <td>1.000000</td>\n",
       "      <td>199992.480000</td>\n",
       "      <td>1.000000</td>\n",
       "    </tr>\n",
       "  </tbody>\n",
       "</table>\n",
       "</div>"
      ],
      "text/plain": [
       "         RowNumber    CustomerId   CreditScore           Age        Tenure  \\\n",
       "count  10000.00000  1.000000e+04  10000.000000  10000.000000  10000.000000   \n",
       "mean    5000.50000  1.569094e+07    650.528800     38.921800      5.012800   \n",
       "std     2886.89568  7.193619e+04     96.653299     10.487806      2.892174   \n",
       "min        1.00000  1.556570e+07    350.000000     18.000000      0.000000   \n",
       "25%     2500.75000  1.562853e+07    584.000000     32.000000      3.000000   \n",
       "50%     5000.50000  1.569074e+07    652.000000     37.000000      5.000000   \n",
       "75%     7500.25000  1.575323e+07    718.000000     44.000000      7.000000   \n",
       "max    10000.00000  1.581569e+07    850.000000     92.000000     10.000000   \n",
       "\n",
       "             Balance  NumOfProducts    HasCrCard  IsActiveMember  \\\n",
       "count   10000.000000   10000.000000  10000.00000    10000.000000   \n",
       "mean    76485.889288       1.530200      0.70550        0.515100   \n",
       "std     62397.405202       0.581654      0.45584        0.499797   \n",
       "min         0.000000       1.000000      0.00000        0.000000   \n",
       "25%         0.000000       1.000000      0.00000        0.000000   \n",
       "50%     97198.540000       1.000000      1.00000        1.000000   \n",
       "75%    127644.240000       2.000000      1.00000        1.000000   \n",
       "max    250898.090000       4.000000      1.00000        1.000000   \n",
       "\n",
       "       EstimatedSalary        Exited  \n",
       "count     10000.000000  10000.000000  \n",
       "mean     100090.239881      0.203700  \n",
       "std       57510.492818      0.402769  \n",
       "min          11.580000      0.000000  \n",
       "25%       51002.110000      0.000000  \n",
       "50%      100193.915000      0.000000  \n",
       "75%      149388.247500      0.000000  \n",
       "max      199992.480000      1.000000  "
      ]
     },
     "execution_count": 3,
     "metadata": {},
     "output_type": "execute_result"
    }
   ],
   "source": [
    "dataset.describe()"
   ]
  },
  {
   "cell_type": "code",
   "execution_count": 4,
   "metadata": {},
   "outputs": [
    {
     "data": {
      "text/plain": [
       "France     5014\n",
       "Germany    2509\n",
       "Spain      2477\n",
       "Name: Geography, dtype: int64"
      ]
     },
     "execution_count": 4,
     "metadata": {},
     "output_type": "execute_result"
    }
   ],
   "source": [
    "dataset.Geography.value_counts()"
   ]
  },
  {
   "cell_type": "code",
   "execution_count": 5,
   "metadata": {},
   "outputs": [
    {
     "data": {
      "text/plain": [
       "Male      5457\n",
       "Female    4543\n",
       "Name: Gender, dtype: int64"
      ]
     },
     "execution_count": 5,
     "metadata": {},
     "output_type": "execute_result"
    }
   ],
   "source": [
    "dataset.Gender.value_counts()"
   ]
  },
  {
   "cell_type": "markdown",
   "metadata": {},
   "source": [
    "## 2.2- Dividing data to features and targets"
   ]
  },
  {
   "cell_type": "code",
   "execution_count": 6,
   "metadata": {},
   "outputs": [],
   "source": [
    "# Create matrix of features and matrix of target variable.\n",
    "X = dataset.iloc[:, 3:13].values\n",
    "y = dataset.iloc[:, 13].values"
   ]
  },
  {
   "cell_type": "code",
   "execution_count": 7,
   "metadata": {},
   "outputs": [
    {
     "data": {
      "text/plain": [
       "array([['France', 'Female'],\n",
       "       ['Spain', 'Female'],\n",
       "       ['France', 'Female'],\n",
       "       ...,\n",
       "       ['France', 'Female'],\n",
       "       ['Germany', 'Male'],\n",
       "       ['France', 'Female']], dtype=object)"
      ]
     },
     "execution_count": 7,
     "metadata": {},
     "output_type": "execute_result"
    }
   ],
   "source": [
    "X[:,1:3]"
   ]
  },
  {
   "cell_type": "markdown",
   "metadata": {},
   "source": [
    "## 2.3- Encoding data"
   ]
  },
  {
   "cell_type": "markdown",
   "metadata": {},
   "source": [
    "Country has string labels such as “France, Spain, Germany” while Gender has “Male, Female”. We have to encode this strings into numeric"
   ]
  },
  {
   "cell_type": "code",
   "execution_count": 8,
   "metadata": {},
   "outputs": [],
   "source": [
    "labelencoder_X_1 = LabelEncoder()\n",
    "X[:, 1] = labelencoder_X_1.fit_transform(X[:, 1])\n",
    "labelencoder_X_2 = LabelEncoder()\n",
    "X[:, 2] = labelencoder_X_2.fit_transform(X[:, 2])"
   ]
  },
  {
   "cell_type": "code",
   "execution_count": 9,
   "metadata": {},
   "outputs": [
    {
     "data": {
      "text/plain": [
       "array([[0, 0],\n",
       "       [2, 0],\n",
       "       [0, 0],\n",
       "       ...,\n",
       "       [0, 0],\n",
       "       [1, 1],\n",
       "       [0, 0]], dtype=object)"
      ]
     },
     "execution_count": 9,
     "metadata": {},
     "output_type": "execute_result"
    }
   ],
   "source": [
    "X[:,1:3]"
   ]
  },
  {
   "cell_type": "code",
   "execution_count": 10,
   "metadata": {},
   "outputs": [
    {
     "name": "stdout",
     "output_type": "stream",
     "text": [
      "['France' 'Germany' 'Spain']\n",
      "['Female' 'Male']\n"
     ]
    }
   ],
   "source": [
    "print(labelencoder_X_1.classes_)\n",
    "print(labelencoder_X_2.classes_)"
   ]
  },
  {
   "cell_type": "code",
   "execution_count": 11,
   "metadata": {},
   "outputs": [
    {
     "name": "stdout",
     "output_type": "stream",
     "text": [
      "['France' 'Germany' 'Spain' 'Spain' 'Germany' 'France']\n",
      "['Female' 'Male' 'Male' 'Female']\n"
     ]
    },
    {
     "name": "stderr",
     "output_type": "stream",
     "text": [
      "/home/instadeeprd/miniconda3/envs/learn/lib/python3.6/site-packages/sklearn/preprocessing/label.py:151: DeprecationWarning: The truth value of an empty array is ambiguous. Returning False, but in future this will result in an error. Use `array.size > 0` to check that an array is not empty.\n",
      "  if diff:\n",
      "/home/instadeeprd/miniconda3/envs/learn/lib/python3.6/site-packages/sklearn/preprocessing/label.py:151: DeprecationWarning: The truth value of an empty array is ambiguous. Returning False, but in future this will result in an error. Use `array.size > 0` to check that an array is not empty.\n",
      "  if diff:\n"
     ]
    }
   ],
   "source": [
    "print(labelencoder_X_1.inverse_transform([0,1,2,2,1,0]))\n",
    "print(labelencoder_X_2.inverse_transform([0,1,1,0]))"
   ]
  },
  {
   "cell_type": "markdown",
   "metadata": {},
   "source": [
    "## 2.4- One hot encoding data"
   ]
  },
  {
   "cell_type": "markdown",
   "metadata": {},
   "source": [
    "Label encoding has introduced new problem in our data. LabelEncoder has replaced France with 0, Germany 1 and Spain 2 but Germany is not higher than France and France is not smaller than Spain so we need to create a dummy variable for Country."
   ]
  },
  {
   "cell_type": "code",
   "execution_count": 12,
   "metadata": {},
   "outputs": [],
   "source": [
    "onehotencoder = OneHotEncoder(categorical_features = [1])\n",
    "X = onehotencoder.fit_transform(X).toarray()\n",
    "X = X[:, 1:]"
   ]
  },
  {
   "cell_type": "code",
   "execution_count": 13,
   "metadata": {},
   "outputs": [
    {
     "name": "stdout",
     "output_type": "stream",
     "text": [
      "[[0.0000000e+00 0.0000000e+00 6.1900000e+02 0.0000000e+00 4.2000000e+01\n",
      "  2.0000000e+00 0.0000000e+00 1.0000000e+00 1.0000000e+00 1.0000000e+00\n",
      "  1.0134888e+05]\n",
      " [0.0000000e+00 1.0000000e+00 6.0800000e+02 0.0000000e+00 4.1000000e+01\n",
      "  1.0000000e+00 8.3807860e+04 1.0000000e+00 0.0000000e+00 1.0000000e+00\n",
      "  1.1254258e+05]\n",
      " [0.0000000e+00 0.0000000e+00 5.0200000e+02 0.0000000e+00 4.2000000e+01\n",
      "  8.0000000e+00 1.5966080e+05 3.0000000e+00 1.0000000e+00 0.0000000e+00\n",
      "  1.1393157e+05]\n",
      " [0.0000000e+00 0.0000000e+00 6.9900000e+02 0.0000000e+00 3.9000000e+01\n",
      "  1.0000000e+00 0.0000000e+00 2.0000000e+00 0.0000000e+00 0.0000000e+00\n",
      "  9.3826630e+04]\n",
      " [0.0000000e+00 1.0000000e+00 8.5000000e+02 0.0000000e+00 4.3000000e+01\n",
      "  2.0000000e+00 1.2551082e+05 1.0000000e+00 1.0000000e+00 1.0000000e+00\n",
      "  7.9084100e+04]]\n"
     ]
    }
   ],
   "source": [
    "print(X[0:5,:])"
   ]
  },
  {
   "cell_type": "code",
   "execution_count": 14,
   "metadata": {},
   "outputs": [
    {
     "data": {
      "text/plain": [
       "array([0.0000000e+00, 1.0000000e+00, 6.0800000e+02, 0.0000000e+00,\n",
       "       4.1000000e+01, 1.0000000e+00, 8.3807860e+04, 1.0000000e+00,\n",
       "       0.0000000e+00, 1.0000000e+00, 1.1254258e+05])"
      ]
     },
     "execution_count": 14,
     "metadata": {},
     "output_type": "execute_result"
    }
   ],
   "source": [
    "X[1]"
   ]
  },
  {
   "cell_type": "markdown",
   "metadata": {},
   "source": [
    "## 2.5- Dividing data to training and test sets "
   ]
  },
  {
   "cell_type": "markdown",
   "metadata": {},
   "source": [
    "In Machine Learning, we always divide our data into training and testing part meaning that we train our model on training data and then we check the accuracy of a model on testing data. Testing your model on testing data will only help you evaluate the efficiency of model."
   ]
  },
  {
   "cell_type": "code",
   "execution_count": 15,
   "metadata": {},
   "outputs": [],
   "source": [
    "# Splitting the dataset into the Training set and Test set\n",
    "X_train, X_test, y_train, y_test = train_test_split(X, y, test_size = 0.2)"
   ]
  },
  {
   "cell_type": "markdown",
   "metadata": {},
   "source": [
    "## 2.6- Scaling data"
   ]
  },
  {
   "cell_type": "markdown",
   "metadata": {},
   "source": [
    "If you carefully observe data, you will find that data is not scaled properly. Some variable has value in thousands while some have value is tens or ones. We don’t want any of our variable to dominate on other so let’s go and scale data."
   ]
  },
  {
   "cell_type": "code",
   "execution_count": 16,
   "metadata": {},
   "outputs": [],
   "source": [
    "# Feature Scaling\n",
    "sc = StandardScaler()\n",
    "X_train = sc.fit_transform(X_train)\n",
    "X_test = sc.transform(X_test)"
   ]
  },
  {
   "cell_type": "markdown",
   "metadata": {},
   "source": [
    "# 3- Creating NN and training it"
   ]
  },
  {
   "cell_type": "markdown",
   "metadata": {},
   "source": [
    "## 3.1- Building the Neuraul Network"
   ]
  },
  {
   "cell_type": "code",
   "execution_count": 17,
   "metadata": {},
   "outputs": [
    {
     "name": "stderr",
     "output_type": "stream",
     "text": [
      "/home/instadeeprd/miniconda3/envs/learn/lib/python3.6/site-packages/ipykernel_launcher.py:4: UserWarning: Update your `Dense` call to the Keras 2 API: `Dense(activation=\"relu\", input_dim=11, units=6, kernel_initializer=\"uniform\")`\n",
      "  after removing the cwd from sys.path.\n",
      "/home/instadeeprd/miniconda3/envs/learn/lib/python3.6/site-packages/ipykernel_launcher.py:6: UserWarning: Update your `Dense` call to the Keras 2 API: `Dense(activation=\"relu\", units=6, kernel_initializer=\"uniform\")`\n",
      "  \n",
      "/home/instadeeprd/miniconda3/envs/learn/lib/python3.6/site-packages/ipykernel_launcher.py:8: UserWarning: Update your `Dense` call to the Keras 2 API: `Dense(activation=\"sigmoid\", units=1, kernel_initializer=\"uniform\")`\n",
      "  \n"
     ]
    }
   ],
   "source": [
    "#Initializing Neural Network\n",
    "classifier = Sequential()\n",
    "# Adding the input layer and the first hidden layer\n",
    "classifier.add(Dense(output_dim = 6, init = 'uniform', activation = 'relu', input_dim = 11))\n",
    "# Adding the second hidden layer\n",
    "classifier.add(Dense(output_dim = 6, init = 'uniform', activation = 'relu'))\n",
    "# Adding the output layer\n",
    "classifier.add(Dense(output_dim = 1, init = 'uniform', activation = 'sigmoid'))"
   ]
  },
  {
   "cell_type": "markdown",
   "metadata": {},
   "source": [
    "## 3.2- Define all functions for compilation"
   ]
  },
  {
   "cell_type": "markdown",
   "metadata": {},
   "source": [
    "1- optimizer : the optimization technique for Gradient descent\n",
    "\n",
    "2- loss : the cost (loss) function\n",
    "\n",
    "3- metrics : define what metrics are used for evaluation during training"
   ]
  },
  {
   "cell_type": "code",
   "execution_count": 18,
   "metadata": {},
   "outputs": [],
   "source": [
    "# Compiling Neural Network\n",
    "classifier.compile(optimizer = 'adam', loss = 'binary_crossentropy', metrics = ['accuracy'])"
   ]
  },
  {
   "cell_type": "code",
   "execution_count": 19,
   "metadata": {
    "scrolled": true
   },
   "outputs": [
    {
     "name": "stdout",
     "output_type": "stream",
     "text": [
      "Epoch 1/100\n",
      "8000/8000 [==============================] - 9s 1ms/step - loss: 0.4830 - acc: 0.7967\n",
      "Epoch 2/100\n",
      "8000/8000 [==============================] - 2s 206us/step - loss: 0.4268 - acc: 0.7967\n",
      "Epoch 3/100\n",
      "8000/8000 [==============================] - 3s 339us/step - loss: 0.4211 - acc: 0.7986\n",
      "Epoch 4/100\n",
      "8000/8000 [==============================] - 2s 283us/step - loss: 0.4167 - acc: 0.8226\n",
      "Epoch 5/100\n",
      "8000/8000 [==============================] - 3s 317us/step - loss: 0.4134 - acc: 0.8275\n",
      "Epoch 6/100\n",
      "8000/8000 [==============================] - 2s 284us/step - loss: 0.4119 - acc: 0.8305\n",
      "Epoch 7/100\n",
      "8000/8000 [==============================] - 2s 288us/step - loss: 0.4099 - acc: 0.8339\n",
      "Epoch 8/100\n",
      "8000/8000 [==============================] - 2s 228us/step - loss: 0.4081 - acc: 0.8334\n",
      "Epoch 9/100\n",
      "8000/8000 [==============================] - 2s 236us/step - loss: 0.4071 - acc: 0.8332\n",
      "Epoch 10/100\n",
      "8000/8000 [==============================] - 2s 266us/step - loss: 0.4056 - acc: 0.8350\n",
      "Epoch 11/100\n",
      "8000/8000 [==============================] - 2s 213us/step - loss: 0.4052 - acc: 0.8339\n",
      "Epoch 12/100\n",
      "8000/8000 [==============================] - 2s 212us/step - loss: 0.4040 - acc: 0.8360\n",
      "Epoch 13/100\n",
      "8000/8000 [==============================] - 2s 211us/step - loss: 0.4033 - acc: 0.8345\n",
      "Epoch 14/100\n",
      "8000/8000 [==============================] - 2s 208us/step - loss: 0.4028 - acc: 0.8346\n",
      "Epoch 15/100\n",
      "8000/8000 [==============================] - 2s 212us/step - loss: 0.4023 - acc: 0.8339\n",
      "Epoch 16/100\n",
      "8000/8000 [==============================] - 2s 208us/step - loss: 0.4015 - acc: 0.8369\n",
      "Epoch 17/100\n",
      "8000/8000 [==============================] - 2s 191us/step - loss: 0.4014 - acc: 0.8347\n",
      "Epoch 18/100\n",
      "8000/8000 [==============================] - 2s 243us/step - loss: 0.4007 - acc: 0.8357\n",
      "Epoch 19/100\n",
      "8000/8000 [==============================] - 2s 205us/step - loss: 0.4004 - acc: 0.8352\n",
      "Epoch 20/100\n",
      "8000/8000 [==============================] - 2s 208us/step - loss: 0.4003 - acc: 0.8356\n",
      "Epoch 21/100\n",
      "8000/8000 [==============================] - 2s 192us/step - loss: 0.4000 - acc: 0.8362\n",
      "Epoch 22/100\n",
      "8000/8000 [==============================] - 2s 285us/step - loss: 0.3999 - acc: 0.8355\n",
      "Epoch 23/100\n",
      "8000/8000 [==============================] - 2s 238us/step - loss: 0.3992 - acc: 0.8366\n",
      "Epoch 24/100\n",
      "8000/8000 [==============================] - 2s 230us/step - loss: 0.3992 - acc: 0.8354\n",
      "Epoch 25/100\n",
      "8000/8000 [==============================] - 2s 294us/step - loss: 0.3989 - acc: 0.8374\n",
      "Epoch 26/100\n",
      "8000/8000 [==============================] - 2s 306us/step - loss: 0.3989 - acc: 0.8359\n",
      "Epoch 27/100\n",
      "8000/8000 [==============================] - 2s 228us/step - loss: 0.3988 - acc: 0.8367\n",
      "Epoch 28/100\n",
      "8000/8000 [==============================] - 2s 198us/step - loss: 0.3984 - acc: 0.8375\n",
      "Epoch 29/100\n",
      "8000/8000 [==============================] - 2s 195us/step - loss: 0.3984 - acc: 0.8370\n",
      "Epoch 30/100\n",
      "8000/8000 [==============================] - 2s 192us/step - loss: 0.3980 - acc: 0.8367\n",
      "Epoch 31/100\n",
      "8000/8000 [==============================] - 2s 195us/step - loss: 0.3978 - acc: 0.8360\n",
      "Epoch 32/100\n",
      "8000/8000 [==============================] - 2s 219us/step - loss: 0.3977 - acc: 0.8372\n",
      "Epoch 33/100\n",
      "8000/8000 [==============================] - 2s 236us/step - loss: 0.3975 - acc: 0.8366\n",
      "Epoch 34/100\n",
      "8000/8000 [==============================] - 2s 236us/step - loss: 0.3980 - acc: 0.8374\n",
      "Epoch 35/100\n",
      "8000/8000 [==============================] - 2s 253us/step - loss: 0.3976 - acc: 0.8350\n",
      "Epoch 36/100\n",
      "8000/8000 [==============================] - 2s 227us/step - loss: 0.3976 - acc: 0.8392\n",
      "Epoch 37/100\n",
      "8000/8000 [==============================] - 2s 215us/step - loss: 0.3973 - acc: 0.8369\n",
      "Epoch 38/100\n",
      "8000/8000 [==============================] - 2s 222us/step - loss: 0.3974 - acc: 0.8366\n",
      "Epoch 39/100\n",
      "8000/8000 [==============================] - 2s 216us/step - loss: 0.3975 - acc: 0.8384\n",
      "Epoch 40/100\n",
      "8000/8000 [==============================] - 2s 217us/step - loss: 0.3977 - acc: 0.8386\n",
      "Epoch 41/100\n",
      "8000/8000 [==============================] - 2s 249us/step - loss: 0.3976 - acc: 0.8372\n",
      "Epoch 42/100\n",
      "8000/8000 [==============================] - 2s 270us/step - loss: 0.3973 - acc: 0.8386\n",
      "Epoch 43/100\n",
      "8000/8000 [==============================] - 2s 202us/step - loss: 0.3974 - acc: 0.8372\n",
      "Epoch 44/100\n",
      "8000/8000 [==============================] - 2s 271us/step - loss: 0.3971 - acc: 0.8401\n",
      "Epoch 45/100\n",
      "8000/8000 [==============================] - 2s 247us/step - loss: 0.3968 - acc: 0.8377\n",
      "Epoch 46/100\n",
      "8000/8000 [==============================] - 2s 298us/step - loss: 0.3975 - acc: 0.8369\n",
      "Epoch 47/100\n",
      "8000/8000 [==============================] - 2s 282us/step - loss: 0.3969 - acc: 0.8376\n",
      "Epoch 48/100\n",
      "8000/8000 [==============================] - 2s 271us/step - loss: 0.3967 - acc: 0.8365\n",
      "Epoch 49/100\n",
      "8000/8000 [==============================] - 2s 281us/step - loss: 0.3965 - acc: 0.8379\n",
      "Epoch 50/100\n",
      "8000/8000 [==============================] - 2s 240us/step - loss: 0.3969 - acc: 0.8379\n",
      "Epoch 51/100\n",
      "8000/8000 [==============================] - 2s 237us/step - loss: 0.3967 - acc: 0.8371\n",
      "Epoch 52/100\n",
      "8000/8000 [==============================] - 2s 224us/step - loss: 0.3960 - acc: 0.8390\n",
      "Epoch 53/100\n",
      "8000/8000 [==============================] - 2s 251us/step - loss: 0.3966 - acc: 0.8387\n",
      "Epoch 54/100\n",
      "8000/8000 [==============================] - 2s 238us/step - loss: 0.3966 - acc: 0.8369\n",
      "Epoch 55/100\n",
      "8000/8000 [==============================] - 2s 193us/step - loss: 0.3965 - acc: 0.8385\n",
      "Epoch 56/100\n",
      "8000/8000 [==============================] - 2s 215us/step - loss: 0.3967 - acc: 0.8365\n",
      "Epoch 57/100\n",
      "8000/8000 [==============================] - 2s 287us/step - loss: 0.3962 - acc: 0.8369\n",
      "Epoch 58/100\n",
      "8000/8000 [==============================] - 2s 244us/step - loss: 0.3965 - acc: 0.8374\n",
      "Epoch 59/100\n",
      "8000/8000 [==============================] - 2s 222us/step - loss: 0.3968 - acc: 0.8367\n",
      "Epoch 60/100\n",
      "8000/8000 [==============================] - 2s 258us/step - loss: 0.3962 - acc: 0.8389\n",
      "Epoch 61/100\n",
      "8000/8000 [==============================] - 2s 271us/step - loss: 0.3961 - acc: 0.8380\n",
      "Epoch 62/100\n",
      "8000/8000 [==============================] - 2s 260us/step - loss: 0.3961 - acc: 0.8390\n",
      "Epoch 63/100\n",
      "8000/8000 [==============================] - 2s 295us/step - loss: 0.3966 - acc: 0.8375\n",
      "Epoch 64/100\n",
      "8000/8000 [==============================] - 2s 213us/step - loss: 0.3958 - acc: 0.8377\n",
      "Epoch 65/100\n",
      "8000/8000 [==============================] - 2s 210us/step - loss: 0.3963 - acc: 0.8386\n",
      "Epoch 66/100\n",
      "8000/8000 [==============================] - 2s 252us/step - loss: 0.3961 - acc: 0.8394\n",
      "Epoch 67/100\n",
      "8000/8000 [==============================] - 2s 251us/step - loss: 0.3962 - acc: 0.8375\n",
      "Epoch 68/100\n",
      "8000/8000 [==============================] - 2s 249us/step - loss: 0.3954 - acc: 0.8402\n",
      "Epoch 69/100\n",
      "8000/8000 [==============================] - 2s 218us/step - loss: 0.3959 - acc: 0.8385\n",
      "Epoch 70/100\n",
      "8000/8000 [==============================] - 2s 289us/step - loss: 0.3959 - acc: 0.8370\n",
      "Epoch 71/100\n",
      "8000/8000 [==============================] - 2s 287us/step - loss: 0.3957 - acc: 0.8391\n",
      "Epoch 72/100\n",
      "8000/8000 [==============================] - 2s 214us/step - loss: 0.3959 - acc: 0.8387\n",
      "Epoch 73/100\n",
      "8000/8000 [==============================] - 2s 211us/step - loss: 0.3961 - acc: 0.8387\n",
      "Epoch 74/100\n",
      "8000/8000 [==============================] - 2s 236us/step - loss: 0.3959 - acc: 0.8377\n",
      "Epoch 75/100\n",
      "8000/8000 [==============================] - 2s 207us/step - loss: 0.3957 - acc: 0.8372\n",
      "Epoch 76/100\n",
      "8000/8000 [==============================] - 2s 192us/step - loss: 0.3960 - acc: 0.8375\n",
      "Epoch 77/100\n",
      "8000/8000 [==============================] - 2s 192us/step - loss: 0.3958 - acc: 0.8385\n",
      "Epoch 78/100\n",
      "8000/8000 [==============================] - 2s 212us/step - loss: 0.3961 - acc: 0.8386\n",
      "Epoch 79/100\n",
      "8000/8000 [==============================] - 2s 209us/step - loss: 0.3957 - acc: 0.8371\n",
      "Epoch 80/100\n",
      "8000/8000 [==============================] - 2s 208us/step - loss: 0.3953 - acc: 0.8371\n",
      "Epoch 81/100\n",
      "8000/8000 [==============================] - 2s 206us/step - loss: 0.3958 - acc: 0.8395\n",
      "Epoch 82/100\n",
      "8000/8000 [==============================] - 2s 261us/step - loss: 0.3961 - acc: 0.8374\n",
      "Epoch 83/100\n",
      "8000/8000 [==============================] - 2s 252us/step - loss: 0.3958 - acc: 0.8379\n",
      "Epoch 84/100\n",
      "8000/8000 [==============================] - 2s 297us/step - loss: 0.3955 - acc: 0.8391\n",
      "Epoch 85/100\n",
      "8000/8000 [==============================] - 2s 191us/step - loss: 0.3957 - acc: 0.8386\n",
      "Epoch 86/100\n",
      "8000/8000 [==============================] - 2s 190us/step - loss: 0.3959 - acc: 0.8379\n",
      "Epoch 87/100\n",
      "8000/8000 [==============================] - 2s 191us/step - loss: 0.3954 - acc: 0.8384\n",
      "Epoch 88/100\n",
      "8000/8000 [==============================] - 3s 317us/step - loss: 0.3957 - acc: 0.8391\n",
      "Epoch 89/100\n",
      "8000/8000 [==============================] - 2s 240us/step - loss: 0.3956 - acc: 0.8382\n",
      "Epoch 90/100\n",
      "8000/8000 [==============================] - 2s 239us/step - loss: 0.3955 - acc: 0.8364\n",
      "Epoch 91/100\n",
      "8000/8000 [==============================] - 2s 224us/step - loss: 0.3958 - acc: 0.8386\n",
      "Epoch 92/100\n",
      "8000/8000 [==============================] - 3s 336us/step - loss: 0.3956 - acc: 0.8381\n",
      "Epoch 93/100\n",
      "8000/8000 [==============================] - 3s 330us/step - loss: 0.3957 - acc: 0.8371\n",
      "Epoch 94/100\n",
      "8000/8000 [==============================] - 2s 282us/step - loss: 0.3959 - acc: 0.8390\n",
      "Epoch 95/100\n",
      "8000/8000 [==============================] - 2s 274us/step - loss: 0.3955 - acc: 0.8379\n",
      "Epoch 96/100\n",
      "8000/8000 [==============================] - 2s 197us/step - loss: 0.3955 - acc: 0.8377\n",
      "Epoch 97/100\n",
      "8000/8000 [==============================] - 2s 259us/step - loss: 0.3957 - acc: 0.8385\n",
      "Epoch 98/100\n",
      "8000/8000 [==============================] - 2s 296us/step - loss: 0.3955 - acc: 0.8382\n",
      "Epoch 99/100\n",
      "8000/8000 [==============================] - 2s 228us/step - loss: 0.3955 - acc: 0.8389\n",
      "Epoch 100/100\n",
      "8000/8000 [==============================] - 2s 202us/step - loss: 0.3956 - acc: 0.8380\n"
     ]
    },
    {
     "data": {
      "text/plain": [
       "<keras.callbacks.History at 0x7f6f093e8e80>"
      ]
     },
     "execution_count": 19,
     "metadata": {},
     "output_type": "execute_result"
    }
   ],
   "source": [
    "# Fitting our model \n",
    "classifier.fit(X_train, y_train, batch_size = 10, epochs = 100)"
   ]
  },
  {
   "cell_type": "markdown",
   "metadata": {},
   "source": [
    "## 3.3- Predicting the Test set results"
   ]
  },
  {
   "cell_type": "code",
   "execution_count": 20,
   "metadata": {},
   "outputs": [
    {
     "name": "stdout",
     "output_type": "stream",
     "text": [
      "[[False]\n",
      " [ True]\n",
      " [False]\n",
      " ...\n",
      " [False]\n",
      " [False]\n",
      " [False]]\n"
     ]
    }
   ],
   "source": [
    "y_pred = classifier.predict(X_test)\n",
    "y_pred = (y_pred > 0.5)\n",
    "print(y_pred)"
   ]
  },
  {
   "cell_type": "markdown",
   "metadata": {},
   "source": [
    "## 3.4- Creating the Confusion Matrix"
   ]
  },
  {
   "cell_type": "markdown",
   "metadata": {},
   "source": [
    "![title](Img/confusion_matrix.png)"
   ]
  },
  {
   "cell_type": "code",
   "execution_count": 21,
   "metadata": {},
   "outputs": [
    {
     "name": "stdout",
     "output_type": "stream",
     "text": [
      "[[1552   37]\n",
      " [ 294  117]]\n"
     ]
    }
   ],
   "source": [
    "cm = confusion_matrix(y_test, y_pred)\n",
    "print(cm)"
   ]
  },
  {
   "cell_type": "code",
   "execution_count": 22,
   "metadata": {},
   "outputs": [
    {
     "name": "stdout",
     "output_type": "stream",
     "text": [
      "The accuracy of our model is 83.5 %\n"
     ]
    }
   ],
   "source": [
    "# Accuracy of our model\n",
    "accuracy = (cm[0,0]+cm[1,1]) * 100/ cm.sum()\n",
    "print(\"The accuracy of our model is %2.1f %%\" % accuracy)"
   ]
  }
 ],
 "metadata": {
  "kernelspec": {
   "display_name": "Python 3",
   "language": "python",
   "name": "python3"
  },
  "language_info": {
   "codemirror_mode": {
    "name": "ipython",
    "version": 3
   },
   "file_extension": ".py",
   "mimetype": "text/x-python",
   "name": "python",
   "nbconvert_exporter": "python",
   "pygments_lexer": "ipython3",
   "version": "3.6.5"
  }
 },
 "nbformat": 4,
 "nbformat_minor": 2
}
