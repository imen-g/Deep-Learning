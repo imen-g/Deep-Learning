{
  "nbformat": 4,
  "nbformat_minor": 0,
  "metadata": {
    "colab": {
      "name": "MULTICLASS_classification.ipynb",
      "provenance": [],
      "collapsed_sections": [],
      "authorship_tag": "ABX9TyNwQCoA/5edOTBTf+c0b6pY"
    },
    "kernelspec": {
      "display_name": "Python 3",
      "name": "python3"
    }
  },
  "cells": [
    {
      "cell_type": "markdown",
      "metadata": {
        "id": "BAjDZqn1BFBP"
      },
      "source": [
        "\n",
        "\n",
        "**Importing libraries**\n",
        "\n"
      ]
    },
    {
      "cell_type": "code",
      "metadata": {
        "id": "yXgbzyFYAlav"
      },
      "source": [
        "import numpy\n",
        "import pandas as pd\n",
        "from keras.models import Sequential\n",
        "from keras.layers import Dense\n",
        "from keras.wrappers.scikit_learn import KerasClassifier\n",
        "from keras.utils import np_utils\n",
        "from sklearn.model_selection import cross_val_score\n",
        "from sklearn.model_selection import KFold\n",
        "from sklearn.preprocessing import LabelEncoder\n",
        "from sklearn.pipeline import Pipeline\n",
        "import matplotlib.pyplot as plt"
      ],
      "execution_count": 29,
      "outputs": []
    },
    {
      "cell_type": "markdown",
      "metadata": {
        "id": "-vb9-l5IBRah"
      },
      "source": [
        "**Importing the Dataset**"
      ]
    },
    {
      "cell_type": "code",
      "metadata": {
        "id": "5voQddgVFCgm",
        "outputId": "6e24cec2-c102-41ad-b057-e1330b148e52",
        "colab": {
          "base_uri": "https://localhost:8080/",
          "height": 198
        }
      },
      "source": [
        "data = pd.read_csv('iris.csv',parse_dates=True) \n",
        "data.sample(5)"
      ],
      "execution_count": 7,
      "outputs": [
        {
          "output_type": "execute_result",
          "data": {
            "text/html": [
              "<div>\n",
              "<style scoped>\n",
              "    .dataframe tbody tr th:only-of-type {\n",
              "        vertical-align: middle;\n",
              "    }\n",
              "\n",
              "    .dataframe tbody tr th {\n",
              "        vertical-align: top;\n",
              "    }\n",
              "\n",
              "    .dataframe thead th {\n",
              "        text-align: right;\n",
              "    }\n",
              "</style>\n",
              "<table border=\"1\" class=\"dataframe\">\n",
              "  <thead>\n",
              "    <tr style=\"text-align: right;\">\n",
              "      <th></th>\n",
              "      <th>sepal.length</th>\n",
              "      <th>sepal.width</th>\n",
              "      <th>petal.length</th>\n",
              "      <th>petal.width</th>\n",
              "      <th>variety</th>\n",
              "    </tr>\n",
              "  </thead>\n",
              "  <tbody>\n",
              "    <tr>\n",
              "      <th>63</th>\n",
              "      <td>6.1</td>\n",
              "      <td>2.9</td>\n",
              "      <td>4.7</td>\n",
              "      <td>1.4</td>\n",
              "      <td>Versicolor</td>\n",
              "    </tr>\n",
              "    <tr>\n",
              "      <th>138</th>\n",
              "      <td>6.0</td>\n",
              "      <td>3.0</td>\n",
              "      <td>4.8</td>\n",
              "      <td>1.8</td>\n",
              "      <td>Virginica</td>\n",
              "    </tr>\n",
              "    <tr>\n",
              "      <th>71</th>\n",
              "      <td>6.1</td>\n",
              "      <td>2.8</td>\n",
              "      <td>4.0</td>\n",
              "      <td>1.3</td>\n",
              "      <td>Versicolor</td>\n",
              "    </tr>\n",
              "    <tr>\n",
              "      <th>127</th>\n",
              "      <td>6.1</td>\n",
              "      <td>3.0</td>\n",
              "      <td>4.9</td>\n",
              "      <td>1.8</td>\n",
              "      <td>Virginica</td>\n",
              "    </tr>\n",
              "    <tr>\n",
              "      <th>17</th>\n",
              "      <td>5.1</td>\n",
              "      <td>3.5</td>\n",
              "      <td>1.4</td>\n",
              "      <td>0.3</td>\n",
              "      <td>Setosa</td>\n",
              "    </tr>\n",
              "  </tbody>\n",
              "</table>\n",
              "</div>"
            ],
            "text/plain": [
              "     sepal.length  sepal.width  petal.length  petal.width     variety\n",
              "63            6.1          2.9           4.7          1.4  Versicolor\n",
              "138           6.0          3.0           4.8          1.8   Virginica\n",
              "71            6.1          2.8           4.0          1.3  Versicolor\n",
              "127           6.1          3.0           4.9          1.8   Virginica\n",
              "17            5.1          3.5           1.4          0.3      Setosa"
            ]
          },
          "metadata": {
            "tags": []
          },
          "execution_count": 7
        }
      ]
    },
    {
      "cell_type": "markdown",
      "metadata": {
        "id": "x6n6-iKYGmQP"
      },
      "source": [
        "**Data processing**"
      ]
    },
    {
      "cell_type": "code",
      "metadata": {
        "id": "HED8GZjqGlrv",
        "outputId": "af667c58-f5bb-4935-9d47-8cfc7beacbe2",
        "colab": {
          "base_uri": "https://localhost:8080/"
        }
      },
      "source": [
        "data.isna().sum() #Checking for missing values"
      ],
      "execution_count": 8,
      "outputs": [
        {
          "output_type": "execute_result",
          "data": {
            "text/plain": [
              "sepal.length    0\n",
              "sepal.width     0\n",
              "petal.length    0\n",
              "petal.width     0\n",
              "variety         0\n",
              "dtype: int64"
            ]
          },
          "metadata": {
            "tags": []
          },
          "execution_count": 8
        }
      ]
    },
    {
      "cell_type": "code",
      "metadata": {
        "id": "SfvwFsSCF4ib",
        "outputId": "a492a41c-f0ef-4f69-b67a-628e73d9921a",
        "colab": {
          "base_uri": "https://localhost:8080/"
        }
      },
      "source": [
        "data.info()"
      ],
      "execution_count": 9,
      "outputs": [
        {
          "output_type": "stream",
          "text": [
            "<class 'pandas.core.frame.DataFrame'>\n",
            "RangeIndex: 150 entries, 0 to 149\n",
            "Data columns (total 5 columns):\n",
            " #   Column        Non-Null Count  Dtype  \n",
            "---  ------        --------------  -----  \n",
            " 0   sepal.length  150 non-null    float64\n",
            " 1   sepal.width   150 non-null    float64\n",
            " 2   petal.length  150 non-null    float64\n",
            " 3   petal.width   150 non-null    float64\n",
            " 4   variety       150 non-null    object \n",
            "dtypes: float64(4), object(1)\n",
            "memory usage: 6.0+ KB\n"
          ],
          "name": "stdout"
        }
      ]
    },
    {
      "cell_type": "code",
      "metadata": {
        "id": "dszaHogZgkgS",
        "outputId": "020aaec8-9f07-4f0a-a2dc-26c3e1ba54da",
        "colab": {
          "base_uri": "https://localhost:8080/"
        }
      },
      "source": [
        "data.variety.value_counts()"
      ],
      "execution_count": 10,
      "outputs": [
        {
          "output_type": "execute_result",
          "data": {
            "text/plain": [
              "Versicolor    50\n",
              "Virginica     50\n",
              "Setosa        50\n",
              "Name: variety, dtype: int64"
            ]
          },
          "metadata": {
            "tags": []
          },
          "execution_count": 10
        }
      ]
    },
    {
      "cell_type": "code",
      "metadata": {
        "id": "rxOvIe62F9Jx",
        "outputId": "18256d39-862e-45f9-eecc-53fd308de31e",
        "colab": {
          "base_uri": "https://localhost:8080/",
          "height": 288
        }
      },
      "source": [
        "data.describe()"
      ],
      "execution_count": 11,
      "outputs": [
        {
          "output_type": "execute_result",
          "data": {
            "text/html": [
              "<div>\n",
              "<style scoped>\n",
              "    .dataframe tbody tr th:only-of-type {\n",
              "        vertical-align: middle;\n",
              "    }\n",
              "\n",
              "    .dataframe tbody tr th {\n",
              "        vertical-align: top;\n",
              "    }\n",
              "\n",
              "    .dataframe thead th {\n",
              "        text-align: right;\n",
              "    }\n",
              "</style>\n",
              "<table border=\"1\" class=\"dataframe\">\n",
              "  <thead>\n",
              "    <tr style=\"text-align: right;\">\n",
              "      <th></th>\n",
              "      <th>sepal.length</th>\n",
              "      <th>sepal.width</th>\n",
              "      <th>petal.length</th>\n",
              "      <th>petal.width</th>\n",
              "    </tr>\n",
              "  </thead>\n",
              "  <tbody>\n",
              "    <tr>\n",
              "      <th>count</th>\n",
              "      <td>150.000000</td>\n",
              "      <td>150.000000</td>\n",
              "      <td>150.000000</td>\n",
              "      <td>150.000000</td>\n",
              "    </tr>\n",
              "    <tr>\n",
              "      <th>mean</th>\n",
              "      <td>5.843333</td>\n",
              "      <td>3.057333</td>\n",
              "      <td>3.758000</td>\n",
              "      <td>1.199333</td>\n",
              "    </tr>\n",
              "    <tr>\n",
              "      <th>std</th>\n",
              "      <td>0.828066</td>\n",
              "      <td>0.435866</td>\n",
              "      <td>1.765298</td>\n",
              "      <td>0.762238</td>\n",
              "    </tr>\n",
              "    <tr>\n",
              "      <th>min</th>\n",
              "      <td>4.300000</td>\n",
              "      <td>2.000000</td>\n",
              "      <td>1.000000</td>\n",
              "      <td>0.100000</td>\n",
              "    </tr>\n",
              "    <tr>\n",
              "      <th>25%</th>\n",
              "      <td>5.100000</td>\n",
              "      <td>2.800000</td>\n",
              "      <td>1.600000</td>\n",
              "      <td>0.300000</td>\n",
              "    </tr>\n",
              "    <tr>\n",
              "      <th>50%</th>\n",
              "      <td>5.800000</td>\n",
              "      <td>3.000000</td>\n",
              "      <td>4.350000</td>\n",
              "      <td>1.300000</td>\n",
              "    </tr>\n",
              "    <tr>\n",
              "      <th>75%</th>\n",
              "      <td>6.400000</td>\n",
              "      <td>3.300000</td>\n",
              "      <td>5.100000</td>\n",
              "      <td>1.800000</td>\n",
              "    </tr>\n",
              "    <tr>\n",
              "      <th>max</th>\n",
              "      <td>7.900000</td>\n",
              "      <td>4.400000</td>\n",
              "      <td>6.900000</td>\n",
              "      <td>2.500000</td>\n",
              "    </tr>\n",
              "  </tbody>\n",
              "</table>\n",
              "</div>"
            ],
            "text/plain": [
              "       sepal.length  sepal.width  petal.length  petal.width\n",
              "count    150.000000   150.000000    150.000000   150.000000\n",
              "mean       5.843333     3.057333      3.758000     1.199333\n",
              "std        0.828066     0.435866      1.765298     0.762238\n",
              "min        4.300000     2.000000      1.000000     0.100000\n",
              "25%        5.100000     2.800000      1.600000     0.300000\n",
              "50%        5.800000     3.000000      4.350000     1.300000\n",
              "75%        6.400000     3.300000      5.100000     1.800000\n",
              "max        7.900000     4.400000      6.900000     2.500000"
            ]
          },
          "metadata": {
            "tags": []
          },
          "execution_count": 11
        }
      ]
    },
    {
      "cell_type": "markdown",
      "metadata": {
        "id": "KXcNxiqGHwnp"
      },
      "source": [
        "For better performance of our model we need to keep numerical values between 0 and 1"
      ]
    },
    {
      "cell_type": "code",
      "metadata": {
        "id": "fM1WKP8UHgEE",
        "outputId": "142a853b-df1a-4076-86cd-b353c25744dd",
        "colab": {
          "base_uri": "https://localhost:8080/"
        }
      },
      "source": [
        "data.max() #displays the max of every column"
      ],
      "execution_count": 12,
      "outputs": [
        {
          "output_type": "execute_result",
          "data": {
            "text/plain": [
              "sepal.length          7.9\n",
              "sepal.width           4.4\n",
              "petal.length          6.9\n",
              "petal.width           2.5\n",
              "variety         Virginica\n",
              "dtype: object"
            ]
          },
          "metadata": {
            "tags": []
          },
          "execution_count": 12
        }
      ]
    },
    {
      "cell_type": "code",
      "metadata": {
        "id": "F09rU5YBH8OW"
      },
      "source": [
        "data['sepal.length'] = data['sepal.length']/7.9\n",
        "data['sepal.width'] = data['sepal.width']/4.4\n",
        "data['petal.length'] = data['petal.length']/6.9\n",
        "data['petal.width'] = data['petal.width']/2.5\n"
      ],
      "execution_count": 13,
      "outputs": []
    },
    {
      "cell_type": "code",
      "metadata": {
        "id": "jmsbuarTJ-kx",
        "outputId": "dd927a79-528d-40b3-a303-8b4616b83e85",
        "colab": {
          "base_uri": "https://localhost:8080/",
          "height": 198
        }
      },
      "source": [
        "data.sample(5)"
      ],
      "execution_count": 14,
      "outputs": [
        {
          "output_type": "execute_result",
          "data": {
            "text/html": [
              "<div>\n",
              "<style scoped>\n",
              "    .dataframe tbody tr th:only-of-type {\n",
              "        vertical-align: middle;\n",
              "    }\n",
              "\n",
              "    .dataframe tbody tr th {\n",
              "        vertical-align: top;\n",
              "    }\n",
              "\n",
              "    .dataframe thead th {\n",
              "        text-align: right;\n",
              "    }\n",
              "</style>\n",
              "<table border=\"1\" class=\"dataframe\">\n",
              "  <thead>\n",
              "    <tr style=\"text-align: right;\">\n",
              "      <th></th>\n",
              "      <th>sepal.length</th>\n",
              "      <th>sepal.width</th>\n",
              "      <th>petal.length</th>\n",
              "      <th>petal.width</th>\n",
              "      <th>variety</th>\n",
              "    </tr>\n",
              "  </thead>\n",
              "  <tbody>\n",
              "    <tr>\n",
              "      <th>130</th>\n",
              "      <td>0.936709</td>\n",
              "      <td>0.636364</td>\n",
              "      <td>0.884058</td>\n",
              "      <td>0.76</td>\n",
              "      <td>Virginica</td>\n",
              "    </tr>\n",
              "    <tr>\n",
              "      <th>109</th>\n",
              "      <td>0.911392</td>\n",
              "      <td>0.818182</td>\n",
              "      <td>0.884058</td>\n",
              "      <td>1.00</td>\n",
              "      <td>Virginica</td>\n",
              "    </tr>\n",
              "    <tr>\n",
              "      <th>126</th>\n",
              "      <td>0.784810</td>\n",
              "      <td>0.636364</td>\n",
              "      <td>0.695652</td>\n",
              "      <td>0.72</td>\n",
              "      <td>Virginica</td>\n",
              "    </tr>\n",
              "    <tr>\n",
              "      <th>75</th>\n",
              "      <td>0.835443</td>\n",
              "      <td>0.681818</td>\n",
              "      <td>0.637681</td>\n",
              "      <td>0.56</td>\n",
              "      <td>Versicolor</td>\n",
              "    </tr>\n",
              "    <tr>\n",
              "      <th>10</th>\n",
              "      <td>0.683544</td>\n",
              "      <td>0.840909</td>\n",
              "      <td>0.217391</td>\n",
              "      <td>0.08</td>\n",
              "      <td>Setosa</td>\n",
              "    </tr>\n",
              "  </tbody>\n",
              "</table>\n",
              "</div>"
            ],
            "text/plain": [
              "     sepal.length  sepal.width  petal.length  petal.width     variety\n",
              "130      0.936709     0.636364      0.884058         0.76   Virginica\n",
              "109      0.911392     0.818182      0.884058         1.00   Virginica\n",
              "126      0.784810     0.636364      0.695652         0.72   Virginica\n",
              "75       0.835443     0.681818      0.637681         0.56  Versicolor\n",
              "10       0.683544     0.840909      0.217391         0.08      Setosa"
            ]
          },
          "metadata": {
            "tags": []
          },
          "execution_count": 14
        }
      ]
    },
    {
      "cell_type": "markdown",
      "metadata": {
        "id": "kovNhYdPafQ8"
      },
      "source": [
        "**Model creation**\n",
        "\n"
      ]
    },
    {
      "cell_type": "code",
      "metadata": {
        "id": "x9WSecMOoOVl"
      },
      "source": [
        "data = data.values\n",
        "X = data[:,0:4].astype(float)\n",
        "Y = data[:,4]"
      ],
      "execution_count": 15,
      "outputs": []
    },
    {
      "cell_type": "code",
      "metadata": {
        "id": "ysN0AIRvoy6f",
        "outputId": "fedf024e-4d35-4aec-a9e4-3df03e181529",
        "colab": {
          "base_uri": "https://localhost:8080/"
        }
      },
      "source": [
        "X"
      ],
      "execution_count": 16,
      "outputs": [
        {
          "output_type": "execute_result",
          "data": {
            "text/plain": [
              "array([[0.64556962, 0.79545455, 0.20289855, 0.08      ],\n",
              "       [0.62025316, 0.68181818, 0.20289855, 0.08      ],\n",
              "       [0.59493671, 0.72727273, 0.1884058 , 0.08      ],\n",
              "       [0.58227848, 0.70454545, 0.2173913 , 0.08      ],\n",
              "       [0.63291139, 0.81818182, 0.20289855, 0.08      ],\n",
              "       [0.6835443 , 0.88636364, 0.24637681, 0.16      ],\n",
              "       [0.58227848, 0.77272727, 0.20289855, 0.12      ],\n",
              "       [0.63291139, 0.77272727, 0.2173913 , 0.08      ],\n",
              "       [0.55696203, 0.65909091, 0.20289855, 0.08      ],\n",
              "       [0.62025316, 0.70454545, 0.2173913 , 0.04      ],\n",
              "       [0.6835443 , 0.84090909, 0.2173913 , 0.08      ],\n",
              "       [0.60759494, 0.77272727, 0.23188406, 0.08      ],\n",
              "       [0.60759494, 0.68181818, 0.20289855, 0.04      ],\n",
              "       [0.5443038 , 0.68181818, 0.15942029, 0.04      ],\n",
              "       [0.73417722, 0.90909091, 0.17391304, 0.08      ],\n",
              "       [0.72151899, 1.        , 0.2173913 , 0.16      ],\n",
              "       [0.6835443 , 0.88636364, 0.1884058 , 0.16      ],\n",
              "       [0.64556962, 0.79545455, 0.20289855, 0.12      ],\n",
              "       [0.72151899, 0.86363636, 0.24637681, 0.12      ],\n",
              "       [0.64556962, 0.86363636, 0.2173913 , 0.12      ],\n",
              "       [0.6835443 , 0.77272727, 0.24637681, 0.08      ],\n",
              "       [0.64556962, 0.84090909, 0.2173913 , 0.16      ],\n",
              "       [0.58227848, 0.81818182, 0.14492754, 0.08      ],\n",
              "       [0.64556962, 0.75      , 0.24637681, 0.2       ],\n",
              "       [0.60759494, 0.77272727, 0.27536232, 0.08      ],\n",
              "       [0.63291139, 0.68181818, 0.23188406, 0.08      ],\n",
              "       [0.63291139, 0.77272727, 0.23188406, 0.16      ],\n",
              "       [0.65822785, 0.79545455, 0.2173913 , 0.08      ],\n",
              "       [0.65822785, 0.77272727, 0.20289855, 0.08      ],\n",
              "       [0.59493671, 0.72727273, 0.23188406, 0.08      ],\n",
              "       [0.60759494, 0.70454545, 0.23188406, 0.08      ],\n",
              "       [0.6835443 , 0.77272727, 0.2173913 , 0.16      ],\n",
              "       [0.65822785, 0.93181818, 0.2173913 , 0.04      ],\n",
              "       [0.69620253, 0.95454545, 0.20289855, 0.08      ],\n",
              "       [0.62025316, 0.70454545, 0.2173913 , 0.08      ],\n",
              "       [0.63291139, 0.72727273, 0.17391304, 0.08      ],\n",
              "       [0.69620253, 0.79545455, 0.1884058 , 0.08      ],\n",
              "       [0.62025316, 0.81818182, 0.20289855, 0.04      ],\n",
              "       [0.55696203, 0.68181818, 0.1884058 , 0.08      ],\n",
              "       [0.64556962, 0.77272727, 0.2173913 , 0.08      ],\n",
              "       [0.63291139, 0.79545455, 0.1884058 , 0.12      ],\n",
              "       [0.56962025, 0.52272727, 0.1884058 , 0.12      ],\n",
              "       [0.55696203, 0.72727273, 0.1884058 , 0.08      ],\n",
              "       [0.63291139, 0.79545455, 0.23188406, 0.24      ],\n",
              "       [0.64556962, 0.86363636, 0.27536232, 0.16      ],\n",
              "       [0.60759494, 0.68181818, 0.20289855, 0.12      ],\n",
              "       [0.64556962, 0.86363636, 0.23188406, 0.08      ],\n",
              "       [0.58227848, 0.72727273, 0.20289855, 0.08      ],\n",
              "       [0.67088608, 0.84090909, 0.2173913 , 0.08      ],\n",
              "       [0.63291139, 0.75      , 0.20289855, 0.08      ],\n",
              "       [0.88607595, 0.72727273, 0.68115942, 0.56      ],\n",
              "       [0.81012658, 0.72727273, 0.65217391, 0.6       ],\n",
              "       [0.87341772, 0.70454545, 0.71014493, 0.6       ],\n",
              "       [0.69620253, 0.52272727, 0.57971014, 0.52      ],\n",
              "       [0.82278481, 0.63636364, 0.66666667, 0.6       ],\n",
              "       [0.72151899, 0.63636364, 0.65217391, 0.52      ],\n",
              "       [0.79746835, 0.75      , 0.68115942, 0.64      ],\n",
              "       [0.62025316, 0.54545455, 0.47826087, 0.4       ],\n",
              "       [0.83544304, 0.65909091, 0.66666667, 0.52      ],\n",
              "       [0.65822785, 0.61363636, 0.56521739, 0.56      ],\n",
              "       [0.63291139, 0.45454545, 0.50724638, 0.4       ],\n",
              "       [0.74683544, 0.68181818, 0.60869565, 0.6       ],\n",
              "       [0.75949367, 0.5       , 0.57971014, 0.4       ],\n",
              "       [0.7721519 , 0.65909091, 0.68115942, 0.56      ],\n",
              "       [0.70886076, 0.65909091, 0.52173913, 0.52      ],\n",
              "       [0.84810127, 0.70454545, 0.63768116, 0.56      ],\n",
              "       [0.70886076, 0.68181818, 0.65217391, 0.6       ],\n",
              "       [0.73417722, 0.61363636, 0.5942029 , 0.4       ],\n",
              "       [0.78481013, 0.5       , 0.65217391, 0.6       ],\n",
              "       [0.70886076, 0.56818182, 0.56521739, 0.44      ],\n",
              "       [0.74683544, 0.72727273, 0.69565217, 0.72      ],\n",
              "       [0.7721519 , 0.63636364, 0.57971014, 0.52      ],\n",
              "       [0.79746835, 0.56818182, 0.71014493, 0.6       ],\n",
              "       [0.7721519 , 0.63636364, 0.68115942, 0.48      ],\n",
              "       [0.81012658, 0.65909091, 0.62318841, 0.52      ],\n",
              "       [0.83544304, 0.68181818, 0.63768116, 0.56      ],\n",
              "       [0.86075949, 0.63636364, 0.69565217, 0.56      ],\n",
              "       [0.84810127, 0.68181818, 0.72463768, 0.68      ],\n",
              "       [0.75949367, 0.65909091, 0.65217391, 0.6       ],\n",
              "       [0.72151899, 0.59090909, 0.50724638, 0.4       ],\n",
              "       [0.69620253, 0.54545455, 0.55072464, 0.44      ],\n",
              "       [0.69620253, 0.54545455, 0.53623188, 0.4       ],\n",
              "       [0.73417722, 0.61363636, 0.56521739, 0.48      ],\n",
              "       [0.75949367, 0.61363636, 0.73913043, 0.64      ],\n",
              "       [0.6835443 , 0.68181818, 0.65217391, 0.6       ],\n",
              "       [0.75949367, 0.77272727, 0.65217391, 0.64      ],\n",
              "       [0.84810127, 0.70454545, 0.68115942, 0.6       ],\n",
              "       [0.79746835, 0.52272727, 0.63768116, 0.52      ],\n",
              "       [0.70886076, 0.68181818, 0.5942029 , 0.52      ],\n",
              "       [0.69620253, 0.56818182, 0.57971014, 0.52      ],\n",
              "       [0.69620253, 0.59090909, 0.63768116, 0.48      ],\n",
              "       [0.7721519 , 0.68181818, 0.66666667, 0.56      ],\n",
              "       [0.73417722, 0.59090909, 0.57971014, 0.48      ],\n",
              "       [0.63291139, 0.52272727, 0.47826087, 0.4       ],\n",
              "       [0.70886076, 0.61363636, 0.60869565, 0.52      ],\n",
              "       [0.72151899, 0.68181818, 0.60869565, 0.48      ],\n",
              "       [0.72151899, 0.65909091, 0.60869565, 0.52      ],\n",
              "       [0.78481013, 0.65909091, 0.62318841, 0.52      ],\n",
              "       [0.64556962, 0.56818182, 0.43478261, 0.44      ],\n",
              "       [0.72151899, 0.63636364, 0.5942029 , 0.52      ],\n",
              "       [0.79746835, 0.75      , 0.86956522, 1.        ],\n",
              "       [0.73417722, 0.61363636, 0.73913043, 0.76      ],\n",
              "       [0.89873418, 0.68181818, 0.85507246, 0.84      ],\n",
              "       [0.79746835, 0.65909091, 0.8115942 , 0.72      ],\n",
              "       [0.82278481, 0.68181818, 0.84057971, 0.88      ],\n",
              "       [0.96202532, 0.68181818, 0.95652174, 0.84      ],\n",
              "       [0.62025316, 0.56818182, 0.65217391, 0.68      ],\n",
              "       [0.92405063, 0.65909091, 0.91304348, 0.72      ],\n",
              "       [0.84810127, 0.56818182, 0.84057971, 0.72      ],\n",
              "       [0.91139241, 0.81818182, 0.88405797, 1.        ],\n",
              "       [0.82278481, 0.72727273, 0.73913043, 0.8       ],\n",
              "       [0.81012658, 0.61363636, 0.76811594, 0.76      ],\n",
              "       [0.86075949, 0.68181818, 0.79710145, 0.84      ],\n",
              "       [0.72151899, 0.56818182, 0.72463768, 0.8       ],\n",
              "       [0.73417722, 0.63636364, 0.73913043, 0.96      ],\n",
              "       [0.81012658, 0.72727273, 0.76811594, 0.92      ],\n",
              "       [0.82278481, 0.68181818, 0.79710145, 0.72      ],\n",
              "       [0.97468354, 0.86363636, 0.97101449, 0.88      ],\n",
              "       [0.97468354, 0.59090909, 1.        , 0.92      ],\n",
              "       [0.75949367, 0.5       , 0.72463768, 0.6       ],\n",
              "       [0.87341772, 0.72727273, 0.82608696, 0.92      ],\n",
              "       [0.70886076, 0.63636364, 0.71014493, 0.8       ],\n",
              "       [0.97468354, 0.63636364, 0.97101449, 0.8       ],\n",
              "       [0.79746835, 0.61363636, 0.71014493, 0.72      ],\n",
              "       [0.84810127, 0.75      , 0.82608696, 0.84      ],\n",
              "       [0.91139241, 0.72727273, 0.86956522, 0.72      ],\n",
              "       [0.78481013, 0.63636364, 0.69565217, 0.72      ],\n",
              "       [0.7721519 , 0.68181818, 0.71014493, 0.72      ],\n",
              "       [0.81012658, 0.63636364, 0.8115942 , 0.84      ],\n",
              "       [0.91139241, 0.68181818, 0.84057971, 0.64      ],\n",
              "       [0.93670886, 0.63636364, 0.88405797, 0.76      ],\n",
              "       [1.        , 0.86363636, 0.92753623, 0.8       ],\n",
              "       [0.81012658, 0.63636364, 0.8115942 , 0.88      ],\n",
              "       [0.79746835, 0.63636364, 0.73913043, 0.6       ],\n",
              "       [0.7721519 , 0.59090909, 0.8115942 , 0.56      ],\n",
              "       [0.97468354, 0.68181818, 0.88405797, 0.92      ],\n",
              "       [0.79746835, 0.77272727, 0.8115942 , 0.96      ],\n",
              "       [0.81012658, 0.70454545, 0.79710145, 0.72      ],\n",
              "       [0.75949367, 0.68181818, 0.69565217, 0.72      ],\n",
              "       [0.87341772, 0.70454545, 0.7826087 , 0.84      ],\n",
              "       [0.84810127, 0.70454545, 0.8115942 , 0.96      ],\n",
              "       [0.87341772, 0.70454545, 0.73913043, 0.92      ],\n",
              "       [0.73417722, 0.61363636, 0.73913043, 0.76      ],\n",
              "       [0.86075949, 0.72727273, 0.85507246, 0.92      ],\n",
              "       [0.84810127, 0.75      , 0.82608696, 1.        ],\n",
              "       [0.84810127, 0.68181818, 0.75362319, 0.92      ],\n",
              "       [0.79746835, 0.56818182, 0.72463768, 0.76      ],\n",
              "       [0.82278481, 0.68181818, 0.75362319, 0.8       ],\n",
              "       [0.78481013, 0.77272727, 0.7826087 , 0.92      ],\n",
              "       [0.74683544, 0.68181818, 0.73913043, 0.72      ]])"
            ]
          },
          "metadata": {
            "tags": []
          },
          "execution_count": 16
        }
      ]
    },
    {
      "cell_type": "code",
      "metadata": {
        "id": "aUyIADYUpTPF",
        "outputId": "aa85a00c-2c04-4a49-9205-478c25ca690a",
        "colab": {
          "base_uri": "https://localhost:8080/"
        }
      },
      "source": [
        "Y"
      ],
      "execution_count": 17,
      "outputs": [
        {
          "output_type": "execute_result",
          "data": {
            "text/plain": [
              "array(['Setosa', 'Setosa', 'Setosa', 'Setosa', 'Setosa', 'Setosa',\n",
              "       'Setosa', 'Setosa', 'Setosa', 'Setosa', 'Setosa', 'Setosa',\n",
              "       'Setosa', 'Setosa', 'Setosa', 'Setosa', 'Setosa', 'Setosa',\n",
              "       'Setosa', 'Setosa', 'Setosa', 'Setosa', 'Setosa', 'Setosa',\n",
              "       'Setosa', 'Setosa', 'Setosa', 'Setosa', 'Setosa', 'Setosa',\n",
              "       'Setosa', 'Setosa', 'Setosa', 'Setosa', 'Setosa', 'Setosa',\n",
              "       'Setosa', 'Setosa', 'Setosa', 'Setosa', 'Setosa', 'Setosa',\n",
              "       'Setosa', 'Setosa', 'Setosa', 'Setosa', 'Setosa', 'Setosa',\n",
              "       'Setosa', 'Setosa', 'Versicolor', 'Versicolor', 'Versicolor',\n",
              "       'Versicolor', 'Versicolor', 'Versicolor', 'Versicolor',\n",
              "       'Versicolor', 'Versicolor', 'Versicolor', 'Versicolor',\n",
              "       'Versicolor', 'Versicolor', 'Versicolor', 'Versicolor',\n",
              "       'Versicolor', 'Versicolor', 'Versicolor', 'Versicolor',\n",
              "       'Versicolor', 'Versicolor', 'Versicolor', 'Versicolor',\n",
              "       'Versicolor', 'Versicolor', 'Versicolor', 'Versicolor',\n",
              "       'Versicolor', 'Versicolor', 'Versicolor', 'Versicolor',\n",
              "       'Versicolor', 'Versicolor', 'Versicolor', 'Versicolor',\n",
              "       'Versicolor', 'Versicolor', 'Versicolor', 'Versicolor',\n",
              "       'Versicolor', 'Versicolor', 'Versicolor', 'Versicolor',\n",
              "       'Versicolor', 'Versicolor', 'Versicolor', 'Versicolor',\n",
              "       'Versicolor', 'Versicolor', 'Versicolor', 'Virginica', 'Virginica',\n",
              "       'Virginica', 'Virginica', 'Virginica', 'Virginica', 'Virginica',\n",
              "       'Virginica', 'Virginica', 'Virginica', 'Virginica', 'Virginica',\n",
              "       'Virginica', 'Virginica', 'Virginica', 'Virginica', 'Virginica',\n",
              "       'Virginica', 'Virginica', 'Virginica', 'Virginica', 'Virginica',\n",
              "       'Virginica', 'Virginica', 'Virginica', 'Virginica', 'Virginica',\n",
              "       'Virginica', 'Virginica', 'Virginica', 'Virginica', 'Virginica',\n",
              "       'Virginica', 'Virginica', 'Virginica', 'Virginica', 'Virginica',\n",
              "       'Virginica', 'Virginica', 'Virginica', 'Virginica', 'Virginica',\n",
              "       'Virginica', 'Virginica', 'Virginica', 'Virginica', 'Virginica',\n",
              "       'Virginica', 'Virginica', 'Virginica'], dtype=object)"
            ]
          },
          "metadata": {
            "tags": []
          },
          "execution_count": 17
        }
      ]
    },
    {
      "cell_type": "code",
      "metadata": {
        "id": "1FFz7fGJuX67"
      },
      "source": [
        "# encode class values as integers\n",
        "encoder = LabelEncoder()\n",
        "encoder.fit(Y)\n",
        "encoded_Y = encoder.transform(Y)\n",
        "# convert integers to dummy variables \n",
        "dummy_y = np_utils.to_categorical(encoded_Y)"
      ],
      "execution_count": 18,
      "outputs": []
    },
    {
      "cell_type": "code",
      "metadata": {
        "id": "i6MjFXgVUgZa",
        "outputId": "b0ca93a0-cdbf-44b8-bb69-12c875af037b",
        "colab": {
          "base_uri": "https://localhost:8080/"
        }
      },
      "source": [
        "dummy_y"
      ],
      "execution_count": 19,
      "outputs": [
        {
          "output_type": "execute_result",
          "data": {
            "text/plain": [
              "array([[1., 0., 0.],\n",
              "       [1., 0., 0.],\n",
              "       [1., 0., 0.],\n",
              "       [1., 0., 0.],\n",
              "       [1., 0., 0.],\n",
              "       [1., 0., 0.],\n",
              "       [1., 0., 0.],\n",
              "       [1., 0., 0.],\n",
              "       [1., 0., 0.],\n",
              "       [1., 0., 0.],\n",
              "       [1., 0., 0.],\n",
              "       [1., 0., 0.],\n",
              "       [1., 0., 0.],\n",
              "       [1., 0., 0.],\n",
              "       [1., 0., 0.],\n",
              "       [1., 0., 0.],\n",
              "       [1., 0., 0.],\n",
              "       [1., 0., 0.],\n",
              "       [1., 0., 0.],\n",
              "       [1., 0., 0.],\n",
              "       [1., 0., 0.],\n",
              "       [1., 0., 0.],\n",
              "       [1., 0., 0.],\n",
              "       [1., 0., 0.],\n",
              "       [1., 0., 0.],\n",
              "       [1., 0., 0.],\n",
              "       [1., 0., 0.],\n",
              "       [1., 0., 0.],\n",
              "       [1., 0., 0.],\n",
              "       [1., 0., 0.],\n",
              "       [1., 0., 0.],\n",
              "       [1., 0., 0.],\n",
              "       [1., 0., 0.],\n",
              "       [1., 0., 0.],\n",
              "       [1., 0., 0.],\n",
              "       [1., 0., 0.],\n",
              "       [1., 0., 0.],\n",
              "       [1., 0., 0.],\n",
              "       [1., 0., 0.],\n",
              "       [1., 0., 0.],\n",
              "       [1., 0., 0.],\n",
              "       [1., 0., 0.],\n",
              "       [1., 0., 0.],\n",
              "       [1., 0., 0.],\n",
              "       [1., 0., 0.],\n",
              "       [1., 0., 0.],\n",
              "       [1., 0., 0.],\n",
              "       [1., 0., 0.],\n",
              "       [1., 0., 0.],\n",
              "       [1., 0., 0.],\n",
              "       [0., 1., 0.],\n",
              "       [0., 1., 0.],\n",
              "       [0., 1., 0.],\n",
              "       [0., 1., 0.],\n",
              "       [0., 1., 0.],\n",
              "       [0., 1., 0.],\n",
              "       [0., 1., 0.],\n",
              "       [0., 1., 0.],\n",
              "       [0., 1., 0.],\n",
              "       [0., 1., 0.],\n",
              "       [0., 1., 0.],\n",
              "       [0., 1., 0.],\n",
              "       [0., 1., 0.],\n",
              "       [0., 1., 0.],\n",
              "       [0., 1., 0.],\n",
              "       [0., 1., 0.],\n",
              "       [0., 1., 0.],\n",
              "       [0., 1., 0.],\n",
              "       [0., 1., 0.],\n",
              "       [0., 1., 0.],\n",
              "       [0., 1., 0.],\n",
              "       [0., 1., 0.],\n",
              "       [0., 1., 0.],\n",
              "       [0., 1., 0.],\n",
              "       [0., 1., 0.],\n",
              "       [0., 1., 0.],\n",
              "       [0., 1., 0.],\n",
              "       [0., 1., 0.],\n",
              "       [0., 1., 0.],\n",
              "       [0., 1., 0.],\n",
              "       [0., 1., 0.],\n",
              "       [0., 1., 0.],\n",
              "       [0., 1., 0.],\n",
              "       [0., 1., 0.],\n",
              "       [0., 1., 0.],\n",
              "       [0., 1., 0.],\n",
              "       [0., 1., 0.],\n",
              "       [0., 1., 0.],\n",
              "       [0., 1., 0.],\n",
              "       [0., 1., 0.],\n",
              "       [0., 1., 0.],\n",
              "       [0., 1., 0.],\n",
              "       [0., 1., 0.],\n",
              "       [0., 1., 0.],\n",
              "       [0., 1., 0.],\n",
              "       [0., 1., 0.],\n",
              "       [0., 1., 0.],\n",
              "       [0., 1., 0.],\n",
              "       [0., 1., 0.],\n",
              "       [0., 1., 0.],\n",
              "       [0., 0., 1.],\n",
              "       [0., 0., 1.],\n",
              "       [0., 0., 1.],\n",
              "       [0., 0., 1.],\n",
              "       [0., 0., 1.],\n",
              "       [0., 0., 1.],\n",
              "       [0., 0., 1.],\n",
              "       [0., 0., 1.],\n",
              "       [0., 0., 1.],\n",
              "       [0., 0., 1.],\n",
              "       [0., 0., 1.],\n",
              "       [0., 0., 1.],\n",
              "       [0., 0., 1.],\n",
              "       [0., 0., 1.],\n",
              "       [0., 0., 1.],\n",
              "       [0., 0., 1.],\n",
              "       [0., 0., 1.],\n",
              "       [0., 0., 1.],\n",
              "       [0., 0., 1.],\n",
              "       [0., 0., 1.],\n",
              "       [0., 0., 1.],\n",
              "       [0., 0., 1.],\n",
              "       [0., 0., 1.],\n",
              "       [0., 0., 1.],\n",
              "       [0., 0., 1.],\n",
              "       [0., 0., 1.],\n",
              "       [0., 0., 1.],\n",
              "       [0., 0., 1.],\n",
              "       [0., 0., 1.],\n",
              "       [0., 0., 1.],\n",
              "       [0., 0., 1.],\n",
              "       [0., 0., 1.],\n",
              "       [0., 0., 1.],\n",
              "       [0., 0., 1.],\n",
              "       [0., 0., 1.],\n",
              "       [0., 0., 1.],\n",
              "       [0., 0., 1.],\n",
              "       [0., 0., 1.],\n",
              "       [0., 0., 1.],\n",
              "       [0., 0., 1.],\n",
              "       [0., 0., 1.],\n",
              "       [0., 0., 1.],\n",
              "       [0., 0., 1.],\n",
              "       [0., 0., 1.],\n",
              "       [0., 0., 1.],\n",
              "       [0., 0., 1.],\n",
              "       [0., 0., 1.],\n",
              "       [0., 0., 1.],\n",
              "       [0., 0., 1.],\n",
              "       [0., 0., 1.]], dtype=float32)"
            ]
          },
          "metadata": {
            "tags": []
          },
          "execution_count": 19
        }
      ]
    },
    {
      "cell_type": "code",
      "metadata": {
        "id": "pdDgwwaDzybA"
      },
      "source": [
        "# define baseline model\n",
        "def baseline_model():\n",
        "\t# create model\n",
        "\tmodel = Sequential()\n",
        "\tmodel.add(Dense(8, input_dim=4, activation='relu'))\n",
        "\tmodel.add(Dense(3, activation='softmax'))\n",
        "\t# Compile model\n",
        "\tmodel.compile(loss='categorical_crossentropy', optimizer='adam', metrics=['accuracy'])\n",
        "\treturn model"
      ],
      "execution_count": 20,
      "outputs": []
    },
    {
      "cell_type": "code",
      "metadata": {
        "id": "R6NGvR8Q8t-x",
        "outputId": "8554369a-5c67-4db7-f51a-ed2c1721fafa",
        "colab": {
          "base_uri": "https://localhost:8080/"
        }
      },
      "source": [
        "hist = baseline_model().fit(X, dummy_y, batch_size=5, epochs=200, verbose=2)\n",
        "                 "
      ],
      "execution_count": 21,
      "outputs": [
        {
          "output_type": "stream",
          "text": [
            "Epoch 1/200\n",
            "30/30 - 0s - loss: 1.1315 - accuracy: 0.3333\n",
            "Epoch 2/200\n",
            "30/30 - 0s - loss: 1.1170 - accuracy: 0.3333\n",
            "Epoch 3/200\n",
            "30/30 - 0s - loss: 1.1031 - accuracy: 0.3333\n",
            "Epoch 4/200\n",
            "30/30 - 0s - loss: 1.0857 - accuracy: 0.4467\n",
            "Epoch 5/200\n",
            "30/30 - 0s - loss: 1.0676 - accuracy: 0.4467\n",
            "Epoch 6/200\n",
            "30/30 - 0s - loss: 1.0494 - accuracy: 0.5467\n",
            "Epoch 7/200\n",
            "30/30 - 0s - loss: 1.0294 - accuracy: 0.6000\n",
            "Epoch 8/200\n",
            "30/30 - 0s - loss: 1.0094 - accuracy: 0.6333\n",
            "Epoch 9/200\n",
            "30/30 - 0s - loss: 0.9887 - accuracy: 0.6467\n",
            "Epoch 10/200\n",
            "30/30 - 0s - loss: 0.9667 - accuracy: 0.6533\n",
            "Epoch 11/200\n",
            "30/30 - 0s - loss: 0.9437 - accuracy: 0.6533\n",
            "Epoch 12/200\n",
            "30/30 - 0s - loss: 0.9199 - accuracy: 0.6800\n",
            "Epoch 13/200\n",
            "30/30 - 0s - loss: 0.8952 - accuracy: 0.8533\n",
            "Epoch 14/200\n",
            "30/30 - 0s - loss: 0.8706 - accuracy: 0.8733\n",
            "Epoch 15/200\n",
            "30/30 - 0s - loss: 0.8453 - accuracy: 0.8133\n",
            "Epoch 16/200\n",
            "30/30 - 0s - loss: 0.8200 - accuracy: 0.8667\n",
            "Epoch 17/200\n",
            "30/30 - 0s - loss: 0.7952 - accuracy: 0.8400\n",
            "Epoch 18/200\n",
            "30/30 - 0s - loss: 0.7701 - accuracy: 0.7733\n",
            "Epoch 19/200\n",
            "30/30 - 0s - loss: 0.7462 - accuracy: 0.6867\n",
            "Epoch 20/200\n",
            "30/30 - 0s - loss: 0.7229 - accuracy: 0.7267\n",
            "Epoch 21/200\n",
            "30/30 - 0s - loss: 0.7008 - accuracy: 0.7133\n",
            "Epoch 22/200\n",
            "30/30 - 0s - loss: 0.6799 - accuracy: 0.7667\n",
            "Epoch 23/200\n",
            "30/30 - 0s - loss: 0.6614 - accuracy: 0.7200\n",
            "Epoch 24/200\n",
            "30/30 - 0s - loss: 0.6417 - accuracy: 0.7333\n",
            "Epoch 25/200\n",
            "30/30 - 0s - loss: 0.6236 - accuracy: 0.7933\n",
            "Epoch 26/200\n",
            "30/30 - 0s - loss: 0.6066 - accuracy: 0.8067\n",
            "Epoch 27/200\n",
            "30/30 - 0s - loss: 0.5909 - accuracy: 0.8067\n",
            "Epoch 28/200\n",
            "30/30 - 0s - loss: 0.5758 - accuracy: 0.8133\n",
            "Epoch 29/200\n",
            "30/30 - 0s - loss: 0.5629 - accuracy: 0.8800\n",
            "Epoch 30/200\n",
            "30/30 - 0s - loss: 0.5493 - accuracy: 0.8400\n",
            "Epoch 31/200\n",
            "30/30 - 0s - loss: 0.5354 - accuracy: 0.8467\n",
            "Epoch 32/200\n",
            "30/30 - 0s - loss: 0.5243 - accuracy: 0.8667\n",
            "Epoch 33/200\n",
            "30/30 - 0s - loss: 0.5137 - accuracy: 0.9400\n",
            "Epoch 34/200\n",
            "30/30 - 0s - loss: 0.5020 - accuracy: 0.9200\n",
            "Epoch 35/200\n",
            "30/30 - 0s - loss: 0.4913 - accuracy: 0.9267\n",
            "Epoch 36/200\n",
            "30/30 - 0s - loss: 0.4819 - accuracy: 0.9200\n",
            "Epoch 37/200\n",
            "30/30 - 0s - loss: 0.4718 - accuracy: 0.9333\n",
            "Epoch 38/200\n",
            "30/30 - 0s - loss: 0.4624 - accuracy: 0.9600\n",
            "Epoch 39/200\n",
            "30/30 - 0s - loss: 0.4538 - accuracy: 0.9600\n",
            "Epoch 40/200\n",
            "30/30 - 0s - loss: 0.4458 - accuracy: 0.9600\n",
            "Epoch 41/200\n",
            "30/30 - 0s - loss: 0.4363 - accuracy: 0.9667\n",
            "Epoch 42/200\n",
            "30/30 - 0s - loss: 0.4284 - accuracy: 0.9667\n",
            "Epoch 43/200\n",
            "30/30 - 0s - loss: 0.4224 - accuracy: 0.9533\n",
            "Epoch 44/200\n",
            "30/30 - 0s - loss: 0.4124 - accuracy: 0.9667\n",
            "Epoch 45/200\n",
            "30/30 - 0s - loss: 0.4054 - accuracy: 0.9600\n",
            "Epoch 46/200\n",
            "30/30 - 0s - loss: 0.3985 - accuracy: 0.9600\n",
            "Epoch 47/200\n",
            "30/30 - 0s - loss: 0.3943 - accuracy: 0.9533\n",
            "Epoch 48/200\n",
            "30/30 - 0s - loss: 0.3840 - accuracy: 0.9533\n",
            "Epoch 49/200\n",
            "30/30 - 0s - loss: 0.3777 - accuracy: 0.9667\n",
            "Epoch 50/200\n",
            "30/30 - 0s - loss: 0.3711 - accuracy: 0.9600\n",
            "Epoch 51/200\n",
            "30/30 - 0s - loss: 0.3650 - accuracy: 0.9533\n",
            "Epoch 52/200\n",
            "30/30 - 0s - loss: 0.3588 - accuracy: 0.9533\n",
            "Epoch 53/200\n",
            "30/30 - 0s - loss: 0.3531 - accuracy: 0.9533\n",
            "Epoch 54/200\n",
            "30/30 - 0s - loss: 0.3484 - accuracy: 0.9533\n",
            "Epoch 55/200\n",
            "30/30 - 0s - loss: 0.3417 - accuracy: 0.9533\n",
            "Epoch 56/200\n",
            "30/30 - 0s - loss: 0.3361 - accuracy: 0.9533\n",
            "Epoch 57/200\n",
            "30/30 - 0s - loss: 0.3306 - accuracy: 0.9533\n",
            "Epoch 58/200\n",
            "30/30 - 0s - loss: 0.3262 - accuracy: 0.9600\n",
            "Epoch 59/200\n",
            "30/30 - 0s - loss: 0.3208 - accuracy: 0.9533\n",
            "Epoch 60/200\n",
            "30/30 - 0s - loss: 0.3153 - accuracy: 0.9533\n",
            "Epoch 61/200\n",
            "30/30 - 0s - loss: 0.3105 - accuracy: 0.9533\n",
            "Epoch 62/200\n",
            "30/30 - 0s - loss: 0.3058 - accuracy: 0.9533\n",
            "Epoch 63/200\n",
            "30/30 - 0s - loss: 0.3006 - accuracy: 0.9533\n",
            "Epoch 64/200\n",
            "30/30 - 0s - loss: 0.2967 - accuracy: 0.9600\n",
            "Epoch 65/200\n",
            "30/30 - 0s - loss: 0.2922 - accuracy: 0.9533\n",
            "Epoch 66/200\n",
            "30/30 - 0s - loss: 0.2884 - accuracy: 0.9533\n",
            "Epoch 67/200\n",
            "30/30 - 0s - loss: 0.2834 - accuracy: 0.9533\n",
            "Epoch 68/200\n",
            "30/30 - 0s - loss: 0.2792 - accuracy: 0.9533\n",
            "Epoch 69/200\n",
            "30/30 - 0s - loss: 0.2759 - accuracy: 0.9600\n",
            "Epoch 70/200\n",
            "30/30 - 0s - loss: 0.2728 - accuracy: 0.9533\n",
            "Epoch 71/200\n",
            "30/30 - 0s - loss: 0.2685 - accuracy: 0.9600\n",
            "Epoch 72/200\n",
            "30/30 - 0s - loss: 0.2654 - accuracy: 0.9667\n",
            "Epoch 73/200\n",
            "30/30 - 0s - loss: 0.2604 - accuracy: 0.9600\n",
            "Epoch 74/200\n",
            "30/30 - 0s - loss: 0.2569 - accuracy: 0.9533\n",
            "Epoch 75/200\n",
            "30/30 - 0s - loss: 0.2526 - accuracy: 0.9533\n",
            "Epoch 76/200\n",
            "30/30 - 0s - loss: 0.2493 - accuracy: 0.9533\n",
            "Epoch 77/200\n",
            "30/30 - 0s - loss: 0.2468 - accuracy: 0.9533\n",
            "Epoch 78/200\n",
            "30/30 - 0s - loss: 0.2436 - accuracy: 0.9667\n",
            "Epoch 79/200\n",
            "30/30 - 0s - loss: 0.2396 - accuracy: 0.9533\n",
            "Epoch 80/200\n",
            "30/30 - 0s - loss: 0.2363 - accuracy: 0.9533\n",
            "Epoch 81/200\n",
            "30/30 - 0s - loss: 0.2339 - accuracy: 0.9533\n",
            "Epoch 82/200\n",
            "30/30 - 0s - loss: 0.2310 - accuracy: 0.9600\n",
            "Epoch 83/200\n",
            "30/30 - 0s - loss: 0.2292 - accuracy: 0.9533\n",
            "Epoch 84/200\n",
            "30/30 - 0s - loss: 0.2262 - accuracy: 0.9533\n",
            "Epoch 85/200\n",
            "30/30 - 0s - loss: 0.2232 - accuracy: 0.9667\n",
            "Epoch 86/200\n",
            "30/30 - 0s - loss: 0.2206 - accuracy: 0.9533\n",
            "Epoch 87/200\n",
            "30/30 - 0s - loss: 0.2162 - accuracy: 0.9600\n",
            "Epoch 88/200\n",
            "30/30 - 0s - loss: 0.2143 - accuracy: 0.9733\n",
            "Epoch 89/200\n",
            "30/30 - 0s - loss: 0.2113 - accuracy: 0.9600\n",
            "Epoch 90/200\n",
            "30/30 - 0s - loss: 0.2089 - accuracy: 0.9533\n",
            "Epoch 91/200\n",
            "30/30 - 0s - loss: 0.2069 - accuracy: 0.9533\n",
            "Epoch 92/200\n",
            "30/30 - 0s - loss: 0.2040 - accuracy: 0.9600\n",
            "Epoch 93/200\n",
            "30/30 - 0s - loss: 0.2014 - accuracy: 0.9533\n",
            "Epoch 94/200\n",
            "30/30 - 0s - loss: 0.1994 - accuracy: 0.9533\n",
            "Epoch 95/200\n",
            "30/30 - 0s - loss: 0.1971 - accuracy: 0.9600\n",
            "Epoch 96/200\n",
            "30/30 - 0s - loss: 0.1948 - accuracy: 0.9533\n",
            "Epoch 97/200\n",
            "30/30 - 0s - loss: 0.1929 - accuracy: 0.9533\n",
            "Epoch 98/200\n",
            "30/30 - 0s - loss: 0.1903 - accuracy: 0.9533\n",
            "Epoch 99/200\n",
            "30/30 - 0s - loss: 0.1885 - accuracy: 0.9667\n",
            "Epoch 100/200\n",
            "30/30 - 0s - loss: 0.1867 - accuracy: 0.9600\n",
            "Epoch 101/200\n",
            "30/30 - 0s - loss: 0.1849 - accuracy: 0.9533\n",
            "Epoch 102/200\n",
            "30/30 - 0s - loss: 0.1836 - accuracy: 0.9600\n",
            "Epoch 103/200\n",
            "30/30 - 0s - loss: 0.1808 - accuracy: 0.9667\n",
            "Epoch 104/200\n",
            "30/30 - 0s - loss: 0.1791 - accuracy: 0.9533\n",
            "Epoch 105/200\n",
            "30/30 - 0s - loss: 0.1768 - accuracy: 0.9600\n",
            "Epoch 106/200\n",
            "30/30 - 0s - loss: 0.1756 - accuracy: 0.9600\n",
            "Epoch 107/200\n",
            "30/30 - 0s - loss: 0.1732 - accuracy: 0.9533\n",
            "Epoch 108/200\n",
            "30/30 - 0s - loss: 0.1713 - accuracy: 0.9533\n",
            "Epoch 109/200\n",
            "30/30 - 0s - loss: 0.1697 - accuracy: 0.9600\n",
            "Epoch 110/200\n",
            "30/30 - 0s - loss: 0.1685 - accuracy: 0.9600\n",
            "Epoch 111/200\n",
            "30/30 - 0s - loss: 0.1674 - accuracy: 0.9533\n",
            "Epoch 112/200\n",
            "30/30 - 0s - loss: 0.1648 - accuracy: 0.9600\n",
            "Epoch 113/200\n",
            "30/30 - 0s - loss: 0.1643 - accuracy: 0.9600\n",
            "Epoch 114/200\n",
            "30/30 - 0s - loss: 0.1628 - accuracy: 0.9733\n",
            "Epoch 115/200\n",
            "30/30 - 0s - loss: 0.1605 - accuracy: 0.9533\n",
            "Epoch 116/200\n",
            "30/30 - 0s - loss: 0.1588 - accuracy: 0.9533\n",
            "Epoch 117/200\n",
            "30/30 - 0s - loss: 0.1574 - accuracy: 0.9600\n",
            "Epoch 118/200\n",
            "30/30 - 0s - loss: 0.1565 - accuracy: 0.9600\n",
            "Epoch 119/200\n",
            "30/30 - 0s - loss: 0.1546 - accuracy: 0.9533\n",
            "Epoch 120/200\n",
            "30/30 - 0s - loss: 0.1540 - accuracy: 0.9667\n",
            "Epoch 121/200\n",
            "30/30 - 0s - loss: 0.1522 - accuracy: 0.9533\n",
            "Epoch 122/200\n",
            "30/30 - 0s - loss: 0.1506 - accuracy: 0.9533\n",
            "Epoch 123/200\n",
            "30/30 - 0s - loss: 0.1500 - accuracy: 0.9667\n",
            "Epoch 124/200\n",
            "30/30 - 0s - loss: 0.1487 - accuracy: 0.9600\n",
            "Epoch 125/200\n",
            "30/30 - 0s - loss: 0.1479 - accuracy: 0.9600\n",
            "Epoch 126/200\n",
            "30/30 - 0s - loss: 0.1474 - accuracy: 0.9533\n",
            "Epoch 127/200\n",
            "30/30 - 0s - loss: 0.1448 - accuracy: 0.9667\n",
            "Epoch 128/200\n",
            "30/30 - 0s - loss: 0.1441 - accuracy: 0.9533\n",
            "Epoch 129/200\n",
            "30/30 - 0s - loss: 0.1425 - accuracy: 0.9533\n",
            "Epoch 130/200\n",
            "30/30 - 0s - loss: 0.1420 - accuracy: 0.9733\n",
            "Epoch 131/200\n",
            "30/30 - 0s - loss: 0.1401 - accuracy: 0.9533\n",
            "Epoch 132/200\n",
            "30/30 - 0s - loss: 0.1393 - accuracy: 0.9533\n",
            "Epoch 133/200\n",
            "30/30 - 0s - loss: 0.1379 - accuracy: 0.9533\n",
            "Epoch 134/200\n",
            "30/30 - 0s - loss: 0.1367 - accuracy: 0.9600\n",
            "Epoch 135/200\n",
            "30/30 - 0s - loss: 0.1363 - accuracy: 0.9667\n",
            "Epoch 136/200\n",
            "30/30 - 0s - loss: 0.1352 - accuracy: 0.9600\n",
            "Epoch 137/200\n",
            "30/30 - 0s - loss: 0.1338 - accuracy: 0.9533\n",
            "Epoch 138/200\n",
            "30/30 - 0s - loss: 0.1327 - accuracy: 0.9600\n",
            "Epoch 139/200\n",
            "30/30 - 0s - loss: 0.1325 - accuracy: 0.9667\n",
            "Epoch 140/200\n",
            "30/30 - 0s - loss: 0.1309 - accuracy: 0.9600\n",
            "Epoch 141/200\n",
            "30/30 - 0s - loss: 0.1301 - accuracy: 0.9600\n",
            "Epoch 142/200\n",
            "30/30 - 0s - loss: 0.1289 - accuracy: 0.9533\n",
            "Epoch 143/200\n",
            "30/30 - 0s - loss: 0.1289 - accuracy: 0.9533\n",
            "Epoch 144/200\n",
            "30/30 - 0s - loss: 0.1273 - accuracy: 0.9533\n",
            "Epoch 145/200\n",
            "30/30 - 0s - loss: 0.1275 - accuracy: 0.9533\n",
            "Epoch 146/200\n",
            "30/30 - 0s - loss: 0.1258 - accuracy: 0.9600\n",
            "Epoch 147/200\n",
            "30/30 - 0s - loss: 0.1256 - accuracy: 0.9533\n",
            "Epoch 148/200\n",
            "30/30 - 0s - loss: 0.1255 - accuracy: 0.9533\n",
            "Epoch 149/200\n",
            "30/30 - 0s - loss: 0.1232 - accuracy: 0.9600\n",
            "Epoch 150/200\n",
            "30/30 - 0s - loss: 0.1230 - accuracy: 0.9533\n",
            "Epoch 151/200\n",
            "30/30 - 0s - loss: 0.1216 - accuracy: 0.9600\n",
            "Epoch 152/200\n",
            "30/30 - 0s - loss: 0.1219 - accuracy: 0.9533\n",
            "Epoch 153/200\n",
            "30/30 - 0s - loss: 0.1198 - accuracy: 0.9600\n",
            "Epoch 154/200\n",
            "30/30 - 0s - loss: 0.1198 - accuracy: 0.9600\n",
            "Epoch 155/200\n",
            "30/30 - 0s - loss: 0.1191 - accuracy: 0.9533\n",
            "Epoch 156/200\n",
            "30/30 - 0s - loss: 0.1179 - accuracy: 0.9533\n",
            "Epoch 157/200\n",
            "30/30 - 0s - loss: 0.1180 - accuracy: 0.9600\n",
            "Epoch 158/200\n",
            "30/30 - 0s - loss: 0.1171 - accuracy: 0.9600\n",
            "Epoch 159/200\n",
            "30/30 - 0s - loss: 0.1167 - accuracy: 0.9600\n",
            "Epoch 160/200\n",
            "30/30 - 0s - loss: 0.1169 - accuracy: 0.9600\n",
            "Epoch 161/200\n",
            "30/30 - 0s - loss: 0.1151 - accuracy: 0.9600\n",
            "Epoch 162/200\n",
            "30/30 - 0s - loss: 0.1141 - accuracy: 0.9600\n",
            "Epoch 163/200\n",
            "30/30 - 0s - loss: 0.1140 - accuracy: 0.9600\n",
            "Epoch 164/200\n",
            "30/30 - 0s - loss: 0.1122 - accuracy: 0.9667\n",
            "Epoch 165/200\n",
            "30/30 - 0s - loss: 0.1119 - accuracy: 0.9533\n",
            "Epoch 166/200\n",
            "30/30 - 0s - loss: 0.1123 - accuracy: 0.9600\n",
            "Epoch 167/200\n",
            "30/30 - 0s - loss: 0.1117 - accuracy: 0.9600\n",
            "Epoch 168/200\n",
            "30/30 - 0s - loss: 0.1114 - accuracy: 0.9600\n",
            "Epoch 169/200\n",
            "30/30 - 0s - loss: 0.1115 - accuracy: 0.9533\n",
            "Epoch 170/200\n",
            "30/30 - 0s - loss: 0.1088 - accuracy: 0.9600\n",
            "Epoch 171/200\n",
            "30/30 - 0s - loss: 0.1089 - accuracy: 0.9533\n",
            "Epoch 172/200\n",
            "30/30 - 0s - loss: 0.1082 - accuracy: 0.9600\n",
            "Epoch 173/200\n",
            "30/30 - 0s - loss: 0.1081 - accuracy: 0.9600\n",
            "Epoch 174/200\n",
            "30/30 - 0s - loss: 0.1070 - accuracy: 0.9667\n",
            "Epoch 175/200\n",
            "30/30 - 0s - loss: 0.1071 - accuracy: 0.9533\n",
            "Epoch 176/200\n",
            "30/30 - 0s - loss: 0.1068 - accuracy: 0.9533\n",
            "Epoch 177/200\n",
            "30/30 - 0s - loss: 0.1060 - accuracy: 0.9533\n",
            "Epoch 178/200\n",
            "30/30 - 0s - loss: 0.1050 - accuracy: 0.9600\n",
            "Epoch 179/200\n",
            "30/30 - 0s - loss: 0.1044 - accuracy: 0.9600\n",
            "Epoch 180/200\n",
            "30/30 - 0s - loss: 0.1044 - accuracy: 0.9533\n",
            "Epoch 181/200\n",
            "30/30 - 0s - loss: 0.1035 - accuracy: 0.9600\n",
            "Epoch 182/200\n",
            "30/30 - 0s - loss: 0.1032 - accuracy: 0.9600\n",
            "Epoch 183/200\n",
            "30/30 - 0s - loss: 0.1027 - accuracy: 0.9533\n",
            "Epoch 184/200\n",
            "30/30 - 0s - loss: 0.1019 - accuracy: 0.9600\n",
            "Epoch 185/200\n",
            "30/30 - 0s - loss: 0.1048 - accuracy: 0.9533\n",
            "Epoch 186/200\n",
            "30/30 - 0s - loss: 0.1025 - accuracy: 0.9667\n",
            "Epoch 187/200\n",
            "30/30 - 0s - loss: 0.1011 - accuracy: 0.9600\n",
            "Epoch 188/200\n",
            "30/30 - 0s - loss: 0.1013 - accuracy: 0.9533\n",
            "Epoch 189/200\n",
            "30/30 - 0s - loss: 0.1002 - accuracy: 0.9533\n",
            "Epoch 190/200\n",
            "30/30 - 0s - loss: 0.0993 - accuracy: 0.9600\n",
            "Epoch 191/200\n",
            "30/30 - 0s - loss: 0.0990 - accuracy: 0.9600\n",
            "Epoch 192/200\n",
            "30/30 - 0s - loss: 0.1004 - accuracy: 0.9533\n",
            "Epoch 193/200\n",
            "30/30 - 0s - loss: 0.0987 - accuracy: 0.9533\n",
            "Epoch 194/200\n",
            "30/30 - 0s - loss: 0.0978 - accuracy: 0.9600\n",
            "Epoch 195/200\n",
            "30/30 - 0s - loss: 0.0988 - accuracy: 0.9533\n",
            "Epoch 196/200\n",
            "30/30 - 0s - loss: 0.0967 - accuracy: 0.9600\n",
            "Epoch 197/200\n",
            "30/30 - 0s - loss: 0.0968 - accuracy: 0.9533\n",
            "Epoch 198/200\n",
            "30/30 - 0s - loss: 0.0976 - accuracy: 0.9667\n",
            "Epoch 199/200\n",
            "30/30 - 0s - loss: 0.0967 - accuracy: 0.9533\n",
            "Epoch 200/200\n",
            "30/30 - 0s - loss: 0.0953 - accuracy: 0.9600\n"
          ],
          "name": "stdout"
        }
      ]
    },
    {
      "cell_type": "code",
      "metadata": {
        "id": "E2J4PvOS14K2"
      },
      "source": [
        "estimator = KerasClassifier(build_fn=baseline_model, epochs=200, batch_size=5, verbose=0)"
      ],
      "execution_count": 24,
      "outputs": []
    },
    {
      "cell_type": "code",
      "metadata": {
        "id": "X-LOyxbAlTNs"
      },
      "source": [
        "kfold = KFold(n_splits=10, shuffle=True)"
      ],
      "execution_count": 25,
      "outputs": []
    },
    {
      "cell_type": "code",
      "metadata": {
        "id": "bTdHmLcxvPo8",
        "outputId": "ed6d6ee9-59bb-4744-f0e1-64a80e5c1147",
        "colab": {
          "base_uri": "https://localhost:8080/"
        }
      },
      "source": [
        "results = cross_val_score(estimator, X, dummy_y, cv=kfold)\n",
        "print(\"Baseline: %.2f%% (%.2f%%)\" % (results.mean()*100, results.std()*100))"
      ],
      "execution_count": 26,
      "outputs": [
        {
          "output_type": "stream",
          "text": [
            "WARNING:tensorflow:5 out of the last 13 calls to <function Model.make_test_function.<locals>.test_function at 0x7fa1844e8730> triggered tf.function retracing. Tracing is expensive and the excessive number of tracings could be due to (1) creating @tf.function repeatedly in a loop, (2) passing tensors with different shapes, (3) passing Python objects instead of tensors. For (1), please define your @tf.function outside of the loop. For (2), @tf.function has experimental_relax_shapes=True option that relaxes argument shapes that can avoid unnecessary retracing. For (3), please refer to https://www.tensorflow.org/tutorials/customization/performance#python_or_tensor_args and https://www.tensorflow.org/api_docs/python/tf/function for  more details.\n",
            "WARNING:tensorflow:5 out of the last 13 calls to <function Model.make_test_function.<locals>.test_function at 0x7fa184d33a60> triggered tf.function retracing. Tracing is expensive and the excessive number of tracings could be due to (1) creating @tf.function repeatedly in a loop, (2) passing tensors with different shapes, (3) passing Python objects instead of tensors. For (1), please define your @tf.function outside of the loop. For (2), @tf.function has experimental_relax_shapes=True option that relaxes argument shapes that can avoid unnecessary retracing. For (3), please refer to https://www.tensorflow.org/tutorials/customization/performance#python_or_tensor_args and https://www.tensorflow.org/api_docs/python/tf/function for  more details.\n",
            "WARNING:tensorflow:5 out of the last 13 calls to <function Model.make_test_function.<locals>.test_function at 0x7fa1866fb488> triggered tf.function retracing. Tracing is expensive and the excessive number of tracings could be due to (1) creating @tf.function repeatedly in a loop, (2) passing tensors with different shapes, (3) passing Python objects instead of tensors. For (1), please define your @tf.function outside of the loop. For (2), @tf.function has experimental_relax_shapes=True option that relaxes argument shapes that can avoid unnecessary retracing. For (3), please refer to https://www.tensorflow.org/tutorials/customization/performance#python_or_tensor_args and https://www.tensorflow.org/api_docs/python/tf/function for  more details.\n",
            "WARNING:tensorflow:5 out of the last 13 calls to <function Model.make_test_function.<locals>.test_function at 0x7fa1a01d9bf8> triggered tf.function retracing. Tracing is expensive and the excessive number of tracings could be due to (1) creating @tf.function repeatedly in a loop, (2) passing tensors with different shapes, (3) passing Python objects instead of tensors. For (1), please define your @tf.function outside of the loop. For (2), @tf.function has experimental_relax_shapes=True option that relaxes argument shapes that can avoid unnecessary retracing. For (3), please refer to https://www.tensorflow.org/tutorials/customization/performance#python_or_tensor_args and https://www.tensorflow.org/api_docs/python/tf/function for  more details.\n",
            "WARNING:tensorflow:5 out of the last 13 calls to <function Model.make_test_function.<locals>.test_function at 0x7fa183c336a8> triggered tf.function retracing. Tracing is expensive and the excessive number of tracings could be due to (1) creating @tf.function repeatedly in a loop, (2) passing tensors with different shapes, (3) passing Python objects instead of tensors. For (1), please define your @tf.function outside of the loop. For (2), @tf.function has experimental_relax_shapes=True option that relaxes argument shapes that can avoid unnecessary retracing. For (3), please refer to https://www.tensorflow.org/tutorials/customization/performance#python_or_tensor_args and https://www.tensorflow.org/api_docs/python/tf/function for  more details.\n",
            "WARNING:tensorflow:5 out of the last 13 calls to <function Model.make_test_function.<locals>.test_function at 0x7fa189613510> triggered tf.function retracing. Tracing is expensive and the excessive number of tracings could be due to (1) creating @tf.function repeatedly in a loop, (2) passing tensors with different shapes, (3) passing Python objects instead of tensors. For (1), please define your @tf.function outside of the loop. For (2), @tf.function has experimental_relax_shapes=True option that relaxes argument shapes that can avoid unnecessary retracing. For (3), please refer to https://www.tensorflow.org/tutorials/customization/performance#python_or_tensor_args and https://www.tensorflow.org/api_docs/python/tf/function for  more details.\n",
            "Baseline: 96.67% (4.47%)\n"
          ],
          "name": "stdout"
        }
      ]
    },
    {
      "cell_type": "code",
      "metadata": {
        "id": "RBn6fw0e9l-N"
      },
      "source": [
        "losses = hist.history['loss']\n",
        "epochs = hist.epoch"
      ],
      "execution_count": 27,
      "outputs": []
    },
    {
      "cell_type": "code",
      "metadata": {
        "id": "KsAOOFil92ml",
        "outputId": "8784faaf-f19c-46f0-a1f5-aa3310471939",
        "colab": {
          "base_uri": "https://localhost:8080/",
          "height": 295
        }
      },
      "source": [
        "plt.plot(epochs, losses)\n",
        "plt.xlabel(\"epochs\")\n",
        "plt.ylabel('losses')\n",
        "plt.title('Loss per Epoch')\n",
        "plt.show()"
      ],
      "execution_count": 30,
      "outputs": [
        {
          "output_type": "display_data",
          "data": {
            "image/png": "[encoded data removed]",
            "text/plain": [
              "<Figure size 432x288 with 1 Axes>"
            ]
          },
          "metadata": {
            "tags": [],
            "needs_background": "light"
          }
        }
      ]
    },
    {
      "cell_type": "code",
      "metadata": {
        "id": "bFZ-p5Daeluq",
        "outputId": "bf6c96d4-978d-4215-8eb4-9307877019aa",
        "colab": {
          "base_uri": "https://localhost:8080/",
          "height": 295
        }
      },
      "source": [
        "plt.plot(epochs[120:], losses[120:])\n",
        "plt.xlabel(\"epochs\")\n",
        "plt.ylabel('losses')\n",
        "plt.title('Loss per Epoch')\n",
        "plt.show()"
      ],
      "execution_count": 41,
      "outputs": [
        {
          "output_type": "display_data",
          "data": {
            "image/png": "[encoded data removed]",
            "text/plain": [
              "<Figure size 432x288 with 1 Axes>"
            ]
          },
          "metadata": {
            "tags": [],
            "needs_background": "light"
          }
        }
      ]
    }
  ]
}