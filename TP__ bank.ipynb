{
 "cells": [
  {
   "cell_type": "code",
   "execution_count": 1,
   "metadata": {},
   "outputs": [
    {
     "name": "stderr",
     "output_type": "stream",
     "text": [
      "Using TensorFlow backend.\n"
     ]
    }
   ],
   "source": [
    "import numpy as np\n",
    "import matplotlib.pyplot as plt\n",
    "import pandas as pd\n",
    "from sklearn.preprocessing import LabelEncoder, OneHotEncoder\n",
    "from sklearn.model_selection import train_test_split\n",
    "from sklearn.preprocessing import StandardScaler\n",
    "from sklearn.metrics import confusion_matrix\n",
    "# Importing the Keras libraries and packages\n",
    "import keras\n",
    "from keras.models import Sequential\n",
    "from keras.layers import Dense"
   ]
  },
  {
   "cell_type": "code",
   "execution_count": 2,
   "metadata": {},
   "outputs": [
    {
     "data": {
      "text/html": [
       "<div>\n",
       "<style scoped>\n",
       "    .dataframe tbody tr th:only-of-type {\n",
       "        vertical-align: middle;\n",
       "    }\n",
       "\n",
       "    .dataframe tbody tr th {\n",
       "        vertical-align: top;\n",
       "    }\n",
       "\n",
       "    .dataframe thead th {\n",
       "        text-align: right;\n",
       "    }\n",
       "</style>\n",
       "<table border=\"1\" class=\"dataframe\">\n",
       "  <thead>\n",
       "    <tr style=\"text-align: right;\">\n",
       "      <th></th>\n",
       "      <th>RowNumber</th>\n",
       "      <th>CustomerId</th>\n",
       "      <th>Surname</th>\n",
       "      <th>CreditScore</th>\n",
       "      <th>Geography</th>\n",
       "      <th>Gender</th>\n",
       "      <th>Age</th>\n",
       "      <th>Tenure</th>\n",
       "      <th>Balance</th>\n",
       "      <th>NumOfProducts</th>\n",
       "      <th>HasCrCard</th>\n",
       "      <th>IsActiveMember</th>\n",
       "      <th>EstimatedSalary</th>\n",
       "      <th>Exited</th>\n",
       "    </tr>\n",
       "  </thead>\n",
       "  <tbody>\n",
       "    <tr>\n",
       "      <th>0</th>\n",
       "      <td>1</td>\n",
       "      <td>15634602</td>\n",
       "      <td>Hargrave</td>\n",
       "      <td>619</td>\n",
       "      <td>France</td>\n",
       "      <td>Female</td>\n",
       "      <td>42</td>\n",
       "      <td>2</td>\n",
       "      <td>0.00</td>\n",
       "      <td>1</td>\n",
       "      <td>1</td>\n",
       "      <td>1</td>\n",
       "      <td>101348.88</td>\n",
       "      <td>1</td>\n",
       "    </tr>\n",
       "    <tr>\n",
       "      <th>1</th>\n",
       "      <td>2</td>\n",
       "      <td>15647311</td>\n",
       "      <td>Hill</td>\n",
       "      <td>608</td>\n",
       "      <td>Spain</td>\n",
       "      <td>Female</td>\n",
       "      <td>41</td>\n",
       "      <td>1</td>\n",
       "      <td>83807.86</td>\n",
       "      <td>1</td>\n",
       "      <td>0</td>\n",
       "      <td>1</td>\n",
       "      <td>112542.58</td>\n",
       "      <td>0</td>\n",
       "    </tr>\n",
       "    <tr>\n",
       "      <th>2</th>\n",
       "      <td>3</td>\n",
       "      <td>15619304</td>\n",
       "      <td>Onio</td>\n",
       "      <td>502</td>\n",
       "      <td>France</td>\n",
       "      <td>Female</td>\n",
       "      <td>42</td>\n",
       "      <td>8</td>\n",
       "      <td>159660.80</td>\n",
       "      <td>3</td>\n",
       "      <td>1</td>\n",
       "      <td>0</td>\n",
       "      <td>113931.57</td>\n",
       "      <td>1</td>\n",
       "    </tr>\n",
       "    <tr>\n",
       "      <th>3</th>\n",
       "      <td>4</td>\n",
       "      <td>15701354</td>\n",
       "      <td>Boni</td>\n",
       "      <td>699</td>\n",
       "      <td>France</td>\n",
       "      <td>Female</td>\n",
       "      <td>39</td>\n",
       "      <td>1</td>\n",
       "      <td>0.00</td>\n",
       "      <td>2</td>\n",
       "      <td>0</td>\n",
       "      <td>0</td>\n",
       "      <td>93826.63</td>\n",
       "      <td>0</td>\n",
       "    </tr>\n",
       "    <tr>\n",
       "      <th>4</th>\n",
       "      <td>5</td>\n",
       "      <td>15737888</td>\n",
       "      <td>Mitchell</td>\n",
       "      <td>850</td>\n",
       "      <td>Spain</td>\n",
       "      <td>Female</td>\n",
       "      <td>43</td>\n",
       "      <td>2</td>\n",
       "      <td>125510.82</td>\n",
       "      <td>1</td>\n",
       "      <td>1</td>\n",
       "      <td>1</td>\n",
       "      <td>79084.10</td>\n",
       "      <td>0</td>\n",
       "    </tr>\n",
       "  </tbody>\n",
       "</table>\n",
       "</div>"
      ],
      "text/plain": [
       "   RowNumber  CustomerId   Surname  CreditScore Geography  Gender  Age  \\\n",
       "0          1    15634602  Hargrave          619    France  Female   42   \n",
       "1          2    15647311      Hill          608     Spain  Female   41   \n",
       "2          3    15619304      Onio          502    France  Female   42   \n",
       "3          4    15701354      Boni          699    France  Female   39   \n",
       "4          5    15737888  Mitchell          850     Spain  Female   43   \n",
       "\n",
       "   Tenure    Balance  NumOfProducts  HasCrCard  IsActiveMember  \\\n",
       "0       2       0.00              1          1               1   \n",
       "1       1   83807.86              1          0               1   \n",
       "2       8  159660.80              3          1               0   \n",
       "3       1       0.00              2          0               0   \n",
       "4       2  125510.82              1          1               1   \n",
       "\n",
       "   EstimatedSalary  Exited  \n",
       "0        101348.88       1  \n",
       "1        112542.58       0  \n",
       "2        113931.57       1  \n",
       "3         93826.63       0  \n",
       "4         79084.10       0  "
      ]
     },
     "execution_count": 2,
     "metadata": {},
     "output_type": "execute_result"
    }
   ],
   "source": [
    "dataset = pd.read_csv('data.csv')\n",
    "dataset.head()"
   ]
  },
  {
   "cell_type": "code",
   "execution_count": 3,
   "metadata": {},
   "outputs": [
    {
     "data": {
      "text/html": [
       "<div>\n",
       "<style scoped>\n",
       "    .dataframe tbody tr th:only-of-type {\n",
       "        vertical-align: middle;\n",
       "    }\n",
       "\n",
       "    .dataframe tbody tr th {\n",
       "        vertical-align: top;\n",
       "    }\n",
       "\n",
       "    .dataframe thead th {\n",
       "        text-align: right;\n",
       "    }\n",
       "</style>\n",
       "<table border=\"1\" class=\"dataframe\">\n",
       "  <thead>\n",
       "    <tr style=\"text-align: right;\">\n",
       "      <th></th>\n",
       "      <th>RowNumber</th>\n",
       "      <th>CustomerId</th>\n",
       "      <th>CreditScore</th>\n",
       "      <th>Age</th>\n",
       "      <th>Tenure</th>\n",
       "      <th>Balance</th>\n",
       "      <th>NumOfProducts</th>\n",
       "      <th>HasCrCard</th>\n",
       "      <th>IsActiveMember</th>\n",
       "      <th>EstimatedSalary</th>\n",
       "      <th>Exited</th>\n",
       "    </tr>\n",
       "  </thead>\n",
       "  <tbody>\n",
       "    <tr>\n",
       "      <th>count</th>\n",
       "      <td>10000.00000</td>\n",
       "      <td>1.000000e+04</td>\n",
       "      <td>10000.000000</td>\n",
       "      <td>10000.000000</td>\n",
       "      <td>10000.000000</td>\n",
       "      <td>10000.000000</td>\n",
       "      <td>10000.000000</td>\n",
       "      <td>10000.00000</td>\n",
       "      <td>10000.000000</td>\n",
       "      <td>10000.000000</td>\n",
       "      <td>10000.000000</td>\n",
       "    </tr>\n",
       "    <tr>\n",
       "      <th>mean</th>\n",
       "      <td>5000.50000</td>\n",
       "      <td>1.569094e+07</td>\n",
       "      <td>650.528800</td>\n",
       "      <td>38.921800</td>\n",
       "      <td>5.012800</td>\n",
       "      <td>76485.889288</td>\n",
       "      <td>1.530200</td>\n",
       "      <td>0.70550</td>\n",
       "      <td>0.515100</td>\n",
       "      <td>100090.239881</td>\n",
       "      <td>0.203700</td>\n",
       "    </tr>\n",
       "    <tr>\n",
       "      <th>std</th>\n",
       "      <td>2886.89568</td>\n",
       "      <td>7.193619e+04</td>\n",
       "      <td>96.653299</td>\n",
       "      <td>10.487806</td>\n",
       "      <td>2.892174</td>\n",
       "      <td>62397.405202</td>\n",
       "      <td>0.581654</td>\n",
       "      <td>0.45584</td>\n",
       "      <td>0.499797</td>\n",
       "      <td>57510.492818</td>\n",
       "      <td>0.402769</td>\n",
       "    </tr>\n",
       "    <tr>\n",
       "      <th>min</th>\n",
       "      <td>1.00000</td>\n",
       "      <td>1.556570e+07</td>\n",
       "      <td>350.000000</td>\n",
       "      <td>18.000000</td>\n",
       "      <td>0.000000</td>\n",
       "      <td>0.000000</td>\n",
       "      <td>1.000000</td>\n",
       "      <td>0.00000</td>\n",
       "      <td>0.000000</td>\n",
       "      <td>11.580000</td>\n",
       "      <td>0.000000</td>\n",
       "    </tr>\n",
       "    <tr>\n",
       "      <th>25%</th>\n",
       "      <td>2500.75000</td>\n",
       "      <td>1.562853e+07</td>\n",
       "      <td>584.000000</td>\n",
       "      <td>32.000000</td>\n",
       "      <td>3.000000</td>\n",
       "      <td>0.000000</td>\n",
       "      <td>1.000000</td>\n",
       "      <td>0.00000</td>\n",
       "      <td>0.000000</td>\n",
       "      <td>51002.110000</td>\n",
       "      <td>0.000000</td>\n",
       "    </tr>\n",
       "    <tr>\n",
       "      <th>50%</th>\n",
       "      <td>5000.50000</td>\n",
       "      <td>1.569074e+07</td>\n",
       "      <td>652.000000</td>\n",
       "      <td>37.000000</td>\n",
       "      <td>5.000000</td>\n",
       "      <td>97198.540000</td>\n",
       "      <td>1.000000</td>\n",
       "      <td>1.00000</td>\n",
       "      <td>1.000000</td>\n",
       "      <td>100193.915000</td>\n",
       "      <td>0.000000</td>\n",
       "    </tr>\n",
       "    <tr>\n",
       "      <th>75%</th>\n",
       "      <td>7500.25000</td>\n",
       "      <td>1.575323e+07</td>\n",
       "      <td>718.000000</td>\n",
       "      <td>44.000000</td>\n",
       "      <td>7.000000</td>\n",
       "      <td>127644.240000</td>\n",
       "      <td>2.000000</td>\n",
       "      <td>1.00000</td>\n",
       "      <td>1.000000</td>\n",
       "      <td>149388.247500</td>\n",
       "      <td>0.000000</td>\n",
       "    </tr>\n",
       "    <tr>\n",
       "      <th>max</th>\n",
       "      <td>10000.00000</td>\n",
       "      <td>1.581569e+07</td>\n",
       "      <td>850.000000</td>\n",
       "      <td>92.000000</td>\n",
       "      <td>10.000000</td>\n",
       "      <td>250898.090000</td>\n",
       "      <td>4.000000</td>\n",
       "      <td>1.00000</td>\n",
       "      <td>1.000000</td>\n",
       "      <td>199992.480000</td>\n",
       "      <td>1.000000</td>\n",
       "    </tr>\n",
       "  </tbody>\n",
       "</table>\n",
       "</div>"
      ],
      "text/plain": [
       "         RowNumber    CustomerId   CreditScore           Age        Tenure  \\\n",
       "count  10000.00000  1.000000e+04  10000.000000  10000.000000  10000.000000   \n",
       "mean    5000.50000  1.569094e+07    650.528800     38.921800      5.012800   \n",
       "std     2886.89568  7.193619e+04     96.653299     10.487806      2.892174   \n",
       "min        1.00000  1.556570e+07    350.000000     18.000000      0.000000   \n",
       "25%     2500.75000  1.562853e+07    584.000000     32.000000      3.000000   \n",
       "50%     5000.50000  1.569074e+07    652.000000     37.000000      5.000000   \n",
       "75%     7500.25000  1.575323e+07    718.000000     44.000000      7.000000   \n",
       "max    10000.00000  1.581569e+07    850.000000     92.000000     10.000000   \n",
       "\n",
       "             Balance  NumOfProducts    HasCrCard  IsActiveMember  \\\n",
       "count   10000.000000   10000.000000  10000.00000    10000.000000   \n",
       "mean    76485.889288       1.530200      0.70550        0.515100   \n",
       "std     62397.405202       0.581654      0.45584        0.499797   \n",
       "min         0.000000       1.000000      0.00000        0.000000   \n",
       "25%         0.000000       1.000000      0.00000        0.000000   \n",
       "50%     97198.540000       1.000000      1.00000        1.000000   \n",
       "75%    127644.240000       2.000000      1.00000        1.000000   \n",
       "max    250898.090000       4.000000      1.00000        1.000000   \n",
       "\n",
       "       EstimatedSalary        Exited  \n",
       "count     10000.000000  10000.000000  \n",
       "mean     100090.239881      0.203700  \n",
       "std       57510.492818      0.402769  \n",
       "min          11.580000      0.000000  \n",
       "25%       51002.110000      0.000000  \n",
       "50%      100193.915000      0.000000  \n",
       "75%      149388.247500      0.000000  \n",
       "max      199992.480000      1.000000  "
      ]
     },
     "execution_count": 3,
     "metadata": {},
     "output_type": "execute_result"
    }
   ],
   "source": [
    "dataset.describe()"
   ]
  },
  {
   "cell_type": "code",
   "execution_count": 4,
   "metadata": {},
   "outputs": [
    {
     "data": {
      "text/plain": [
       "France     5014\n",
       "Germany    2509\n",
       "Spain      2477\n",
       "Name: Geography, dtype: int64"
      ]
     },
     "execution_count": 4,
     "metadata": {},
     "output_type": "execute_result"
    }
   ],
   "source": [
    "dataset.Geography.value_counts()"
   ]
  },
  {
   "cell_type": "code",
   "execution_count": 5,
   "metadata": {},
   "outputs": [
    {
     "data": {
      "text/plain": [
       "Male      5457\n",
       "Female    4543\n",
       "Name: Gender, dtype: int64"
      ]
     },
     "execution_count": 5,
     "metadata": {},
     "output_type": "execute_result"
    }
   ],
   "source": [
    "dataset.Gender.value_counts()"
   ]
  },
  {
   "cell_type": "code",
   "execution_count": 6,
   "metadata": {},
   "outputs": [],
   "source": [
    "# Create matrix of features and matrix of target variable.\n",
    "X = dataset.iloc[:, 3:13].values\n",
    "y = dataset.iloc[:, 13].values"
   ]
  },
  {
   "cell_type": "code",
   "execution_count": 7,
   "metadata": {},
   "outputs": [
    {
     "data": {
      "text/plain": [
       "array([['France', 'Female'],\n",
       "       ['Spain', 'Female'],\n",
       "       ['France', 'Female'],\n",
       "       ...,\n",
       "       ['France', 'Female'],\n",
       "       ['Germany', 'Male'],\n",
       "       ['France', 'Female']], dtype=object)"
      ]
     },
     "execution_count": 7,
     "metadata": {},
     "output_type": "execute_result"
    }
   ],
   "source": [
    "X[:,1:3]"
   ]
  },
  {
   "cell_type": "code",
   "execution_count": 8,
   "metadata": {},
   "outputs": [],
   "source": [
    "labelencoder_X_1 = LabelEncoder()\n",
    "X[:, 1] = labelencoder_X_1.fit_transform(X[:, 1])\n",
    "labelencoder_X_2 = LabelEncoder()\n",
    "X[:, 2] = labelencoder_X_2.fit_transform(X[:, 2])"
   ]
  },
  {
   "cell_type": "code",
   "execution_count": 9,
   "metadata": {},
   "outputs": [
    {
     "data": {
      "text/plain": [
       "array([[0, 0],\n",
       "       [2, 0],\n",
       "       [0, 0],\n",
       "       ...,\n",
       "       [0, 0],\n",
       "       [1, 1],\n",
       "       [0, 0]], dtype=object)"
      ]
     },
     "execution_count": 9,
     "metadata": {},
     "output_type": "execute_result"
    }
   ],
   "source": [
    "X[:,1:3]"
   ]
  },
  {
   "cell_type": "code",
   "execution_count": 10,
   "metadata": {},
   "outputs": [
    {
     "name": "stdout",
     "output_type": "stream",
     "text": [
      "['France' 'Germany' 'Spain']\n",
      "['Female' 'Male']\n"
     ]
    }
   ],
   "source": [
    "print(labelencoder_X_1.classes_)\n",
    "print(labelencoder_X_2.classes_)"
   ]
  },
  {
   "cell_type": "code",
   "execution_count": 11,
   "metadata": {},
   "outputs": [
    {
     "name": "stdout",
     "output_type": "stream",
     "text": [
      "['France' 'Germany' 'Spain' 'Spain' 'Germany' 'France']\n",
      "['Female' 'Male' 'Male' 'Female']\n"
     ]
    },
    {
     "name": "stderr",
     "output_type": "stream",
     "text": [
      "c:\\users\\khadija\\appdata\\local\\programs\\python\\python36\\lib\\site-packages\\sklearn\\preprocessing\\label.py:151: DeprecationWarning: The truth value of an empty array is ambiguous. Returning False, but in future this will result in an error. Use `array.size > 0` to check that an array is not empty.\n",
      "  if diff:\n",
      "c:\\users\\khadija\\appdata\\local\\programs\\python\\python36\\lib\\site-packages\\sklearn\\preprocessing\\label.py:151: DeprecationWarning: The truth value of an empty array is ambiguous. Returning False, but in future this will result in an error. Use `array.size > 0` to check that an array is not empty.\n",
      "  if diff:\n"
     ]
    }
   ],
   "source": [
    "print(labelencoder_X_1.inverse_transform([0,1,2,2,1,0]))\n",
    "print(labelencoder_X_2.inverse_transform([0,1,1,0]))"
   ]
  },
  {
   "cell_type": "code",
   "execution_count": 12,
   "metadata": {},
   "outputs": [
    {
     "data": {
      "text/plain": [
       "array([[619, 0, 0, ..., 1, 1, 101348.88],\n",
       "       [608, 2, 0, ..., 0, 1, 112542.58],\n",
       "       [502, 0, 0, ..., 1, 0, 113931.57],\n",
       "       ...,\n",
       "       [709, 0, 0, ..., 0, 1, 42085.58],\n",
       "       [772, 1, 1, ..., 1, 0, 92888.52],\n",
       "       [792, 0, 0, ..., 1, 0, 38190.78]], dtype=object)"
      ]
     },
     "execution_count": 12,
     "metadata": {},
     "output_type": "execute_result"
    }
   ],
   "source": [
    "X"
   ]
  },
  {
   "cell_type": "code",
   "execution_count": 13,
   "metadata": {},
   "outputs": [
    {
     "ename": "AttributeError",
     "evalue": "'numpy.ndarray' object has no attribute 'len'",
     "output_type": "error",
     "traceback": [
      "\u001b[1;31m---------------------------------------------------------------------------\u001b[0m",
      "\u001b[1;31mAttributeError\u001b[0m                            Traceback (most recent call last)",
      "\u001b[1;32m<ipython-input-13-72ee35b0ed86>\u001b[0m in \u001b[0;36m<module>\u001b[1;34m()\u001b[0m\n\u001b[1;32m----> 1\u001b[1;33m \u001b[0mX\u001b[0m\u001b[1;33m.\u001b[0m\u001b[0mlen\u001b[0m\u001b[1;33m(\u001b[0m\u001b[1;33m)\u001b[0m\u001b[1;33m\u001b[0m\u001b[0m\n\u001b[0m",
      "\u001b[1;31mAttributeError\u001b[0m: 'numpy.ndarray' object has no attribute 'len'"
     ]
    }
   ],
   "source": [
    "X.len()"
   ]
  },
  {
   "cell_type": "code",
   "execution_count": 14,
   "metadata": {},
   "outputs": [
    {
     "data": {
      "text/plain": [
       "array([[608, 2, 0, 41, 1, 83807.86, 1, 0, 1, 112542.58],\n",
       "       [502, 0, 0, 42, 8, 159660.8, 3, 1, 0, 113931.57],\n",
       "       [699, 0, 0, 39, 1, 0.0, 2, 0, 0, 93826.63],\n",
       "       [850, 2, 0, 43, 2, 125510.82, 1, 1, 1, 79084.1],\n",
       "       [645, 2, 1, 44, 8, 113755.78, 2, 1, 0, 149756.71],\n",
       "       [822, 0, 1, 50, 7, 0.0, 2, 1, 1, 10062.8],\n",
       "       [376, 1, 0, 29, 4, 115046.74, 4, 1, 0, 119346.88],\n",
       "       [501, 0, 1, 44, 4, 142051.07, 2, 0, 1, 74940.5],\n",
       "       [684, 0, 1, 27, 2, 134603.88, 1, 1, 1, 71725.73],\n",
       "       [528, 0, 1, 31, 6, 102016.72, 2, 0, 0, 80181.12],\n",
       "       [497, 2, 1, 24, 3, 0.0, 2, 1, 0, 76390.01],\n",
       "       [476, 0, 0, 34, 10, 0.0, 2, 1, 0, 26260.98]], dtype=object)"
      ]
     },
     "execution_count": 14,
     "metadata": {},
     "output_type": "execute_result"
    }
   ],
   "source": [
    "X[1:13]"
   ]
  },
  {
   "cell_type": "code",
   "execution_count": 16,
   "metadata": {},
   "outputs": [
    {
     "data": {
      "text/plain": [
       "array([608, 2, 0, 41, 1, 83807.86, 1, 0, 1, 112542.58], dtype=object)"
      ]
     },
     "execution_count": 16,
     "metadata": {},
     "output_type": "execute_result"
    }
   ],
   "source": [
    "X[1,0:13]"
   ]
  },
  {
   "cell_type": "code",
   "execution_count": 17,
   "metadata": {},
   "outputs": [],
   "source": [
    "onehotencoder = OneHotEncoder(categorical_features = [1])\n",
    "X = onehotencoder.fit_transform(X).toarray()\n",
    "X = X[:, 1:]"
   ]
  },
  {
   "cell_type": "code",
   "execution_count": 18,
   "metadata": {},
   "outputs": [
    {
     "name": "stdout",
     "output_type": "stream",
     "text": [
      "[[0.0000000e+00 0.0000000e+00 6.1900000e+02 0.0000000e+00 4.2000000e+01\n",
      "  2.0000000e+00 0.0000000e+00 1.0000000e+00 1.0000000e+00 1.0000000e+00\n",
      "  1.0134888e+05]\n",
      " [0.0000000e+00 1.0000000e+00 6.0800000e+02 0.0000000e+00 4.1000000e+01\n",
      "  1.0000000e+00 8.3807860e+04 1.0000000e+00 0.0000000e+00 1.0000000e+00\n",
      "  1.1254258e+05]\n",
      " [0.0000000e+00 0.0000000e+00 5.0200000e+02 0.0000000e+00 4.2000000e+01\n",
      "  8.0000000e+00 1.5966080e+05 3.0000000e+00 1.0000000e+00 0.0000000e+00\n",
      "  1.1393157e+05]\n",
      " [0.0000000e+00 0.0000000e+00 6.9900000e+02 0.0000000e+00 3.9000000e+01\n",
      "  1.0000000e+00 0.0000000e+00 2.0000000e+00 0.0000000e+00 0.0000000e+00\n",
      "  9.3826630e+04]\n",
      " [0.0000000e+00 1.0000000e+00 8.5000000e+02 0.0000000e+00 4.3000000e+01\n",
      "  2.0000000e+00 1.2551082e+05 1.0000000e+00 1.0000000e+00 1.0000000e+00\n",
      "  7.9084100e+04]]\n"
     ]
    }
   ],
   "source": [
    "print(X[0:5,:])"
   ]
  },
  {
   "cell_type": "code",
   "execution_count": 19,
   "metadata": {},
   "outputs": [
    {
     "data": {
      "text/plain": [
       "array([0.0000000e+00, 1.0000000e+00, 6.0800000e+02, 0.0000000e+00,\n",
       "       4.1000000e+01, 1.0000000e+00, 8.3807860e+04, 1.0000000e+00,\n",
       "       0.0000000e+00, 1.0000000e+00, 1.1254258e+05])"
      ]
     },
     "execution_count": 19,
     "metadata": {},
     "output_type": "execute_result"
    }
   ],
   "source": [
    "X[1]"
   ]
  },
  {
   "cell_type": "code",
   "execution_count": 20,
   "metadata": {},
   "outputs": [],
   "source": [
    "# Splitting the dataset into the Training set and Test set\n",
    "X_train, X_test, y_train, y_test = train_test_split(X, y, test_size = 0.2)"
   ]
  },
  {
   "cell_type": "code",
   "execution_count": 21,
   "metadata": {},
   "outputs": [],
   "source": [
    "# Feature Scaling\n",
    "sc = StandardScaler()\n",
    "X_train = sc.fit_transform(X_train)\n",
    "X_test = sc.transform(X_test)"
   ]
  },
  {
   "cell_type": "code",
   "execution_count": 22,
   "metadata": {},
   "outputs": [
    {
     "name": "stderr",
     "output_type": "stream",
     "text": [
      "c:\\users\\khadija\\appdata\\local\\programs\\python\\python36\\lib\\site-packages\\ipykernel_launcher.py:4: UserWarning: Update your `Dense` call to the Keras 2 API: `Dense(activation=\"relu\", input_dim=11, units=6, kernel_initializer=\"uniform\")`\n",
      "  after removing the cwd from sys.path.\n",
      "c:\\users\\khadija\\appdata\\local\\programs\\python\\python36\\lib\\site-packages\\ipykernel_launcher.py:6: UserWarning: Update your `Dense` call to the Keras 2 API: `Dense(activation=\"relu\", units=6, kernel_initializer=\"uniform\")`\n",
      "  \n",
      "c:\\users\\khadija\\appdata\\local\\programs\\python\\python36\\lib\\site-packages\\ipykernel_launcher.py:8: UserWarning: Update your `Dense` call to the Keras 2 API: `Dense(activation=\"sigmoid\", units=1, kernel_initializer=\"uniform\")`\n",
      "  \n"
     ]
    }
   ],
   "source": [
    "#Initializing Neural Network\n",
    "classifier = Sequential()\n",
    "# Adding the input layer and the first hidden layer\n",
    "classifier.add(Dense(output_dim = 6, init = 'uniform', activation = 'relu', input_dim = 11))\n",
    "# Adding the second hidden layer\n",
    "classifier.add(Dense(output_dim = 6, init = 'uniform', activation = 'relu'))\n",
    "# Adding the output layer\n",
    "classifier.add(Dense(output_dim = 1, init = 'uniform', activation = 'sigmoid'))"
   ]
  },
  {
   "cell_type": "code",
   "execution_count": 23,
   "metadata": {},
   "outputs": [],
   "source": [
    "# Compiling Neural Network\n",
    "classifier.compile(optimizer = 'adam', loss = 'binary_crossentropy', metrics = ['accuracy'])"
   ]
  },
  {
   "cell_type": "code",
   "execution_count": 24,
   "metadata": {},
   "outputs": [
    {
     "name": "stdout",
     "output_type": "stream",
     "text": [
      "Epoch 1/100\n",
      "8000/8000 [==============================] - 11s 1ms/step - loss: 0.4878 - acc: 0.8000\n",
      "Epoch 2/100\n",
      "8000/8000 [==============================] - 3s 366us/step - loss: 0.4139 - acc: 0.8245\n",
      "Epoch 3/100\n",
      "8000/8000 [==============================] - ETA: 0s - loss: 0.3986 - acc: 0.828 - 3s 320us/step - loss: 0.3986 - acc: 0.8281\n",
      "Epoch 4/100\n",
      "8000/8000 [==============================] - 5s 595us/step - loss: 0.3880 - acc: 0.8297\n",
      "Epoch 5/100\n",
      "8000/8000 [==============================] - 3s 330us/step - loss: 0.3795 - acc: 0.8309\n",
      "Epoch 6/100\n",
      "8000/8000 [==============================] - 2s 276us/step - loss: 0.3741 - acc: 0.8409\n",
      "Epoch 7/100\n",
      "8000/8000 [==============================] - 2s 275us/step - loss: 0.3705 - acc: 0.8440\n",
      "Epoch 8/100\n",
      "8000/8000 [==============================] - 2s 281us/step - loss: 0.3656 - acc: 0.8490\n",
      "Epoch 9/100\n",
      "8000/8000 [==============================] - 2s 281us/step - loss: 0.3637 - acc: 0.8480\n",
      "Epoch 10/100\n",
      "8000/8000 [==============================] - 2s 282us/step - loss: 0.3608 - acc: 0.8499\n",
      "Epoch 11/100\n",
      "8000/8000 [==============================] - 2s 240us/step - loss: 0.3605 - acc: 0.8527\n",
      "Epoch 12/100\n",
      "8000/8000 [==============================] - 2s 219us/step - loss: 0.3580 - acc: 0.8526\n",
      "Epoch 13/100\n",
      "8000/8000 [==============================] - 2s 216us/step - loss: 0.3569 - acc: 0.8541\n",
      "Epoch 14/100\n",
      "8000/8000 [==============================] - 2s 218us/step - loss: 0.3553 - acc: 0.8545\n",
      "Epoch 15/100\n",
      "8000/8000 [==============================] - 1s 187us/step - loss: 0.3542 - acc: 0.8552\n",
      "Epoch 16/100\n",
      "8000/8000 [==============================] - 1s 180us/step - loss: 0.3535 - acc: 0.8524\n",
      "Epoch 17/100\n",
      "8000/8000 [==============================] - 5s 588us/step - loss: 0.3520 - acc: 0.8524\n",
      "Epoch 18/100\n",
      "8000/8000 [==============================] - 3s 337us/step - loss: 0.3504 - acc: 0.8546\n",
      "Epoch 19/100\n",
      "8000/8000 [==============================] - 2s 275us/step - loss: 0.3488 - acc: 0.8571\n",
      "Epoch 20/100\n",
      "8000/8000 [==============================] - 2s 241us/step - loss: 0.3495 - acc: 0.8534\n",
      "Epoch 21/100\n",
      "8000/8000 [==============================] - 2s 233us/step - loss: 0.3477 - acc: 0.8556\n",
      "Epoch 22/100\n",
      "8000/8000 [==============================] - 2s 219us/step - loss: 0.3481 - acc: 0.8552\n",
      "Epoch 23/100\n",
      "8000/8000 [==============================] - 2s 252us/step - loss: 0.3474 - acc: 0.8565\n",
      "Epoch 24/100\n",
      "8000/8000 [==============================] - 2s 247us/step - loss: 0.3470 - acc: 0.8575\n",
      "Epoch 25/100\n",
      "8000/8000 [==============================] - 2s 218us/step - loss: 0.3464 - acc: 0.8590\n",
      "Epoch 26/100\n",
      "8000/8000 [==============================] - 2s 249us/step - loss: 0.3451 - acc: 0.8575\n",
      "Epoch 27/100\n",
      "8000/8000 [==============================] - 3s 416us/step - loss: 0.3454 - acc: 0.8560 1s -\n",
      "Epoch 28/100\n",
      "8000/8000 [==============================] - 3s 413us/step - loss: 0.3459 - acc: 0.8581\n",
      "Epoch 29/100\n",
      "8000/8000 [==============================] - 4s 457us/step - loss: 0.3436 - acc: 0.8567\n",
      "Epoch 30/100\n",
      "8000/8000 [==============================] - 3s 333us/step - loss: 0.3436 - acc: 0.8600\n",
      "Epoch 31/100\n",
      "8000/8000 [==============================] - 3s 386us/step - loss: 0.3431 - acc: 0.8566\n",
      "Epoch 32/100\n",
      "8000/8000 [==============================] - 4s 440us/step - loss: 0.3431 - acc: 0.8581\n",
      "Epoch 33/100\n",
      "8000/8000 [==============================] - 2s 300us/step - loss: 0.3431 - acc: 0.8607\n",
      "Epoch 34/100\n",
      "8000/8000 [==============================] - 2s 232us/step - loss: 0.3414 - acc: 0.8599\n",
      "Epoch 35/100\n",
      "8000/8000 [==============================] - 2s 228us/step - loss: 0.3421 - acc: 0.8585 0s - loss: 0.\n",
      "Epoch 36/100\n",
      "8000/8000 [==============================] - 2s 234us/step - loss: 0.3407 - acc: 0.8594\n",
      "Epoch 37/100\n",
      "8000/8000 [==============================] - 2s 287us/step - loss: 0.3421 - acc: 0.8594\n",
      "Epoch 38/100\n",
      "8000/8000 [==============================] - 2s 252us/step - loss: 0.3412 - acc: 0.8616\n",
      "Epoch 39/100\n",
      "8000/8000 [==============================] - 2s 260us/step - loss: 0.3412 - acc: 0.8590\n",
      "Epoch 40/100\n",
      "8000/8000 [==============================] - 3s 319us/step - loss: 0.3420 - acc: 0.8595\n",
      "Epoch 41/100\n",
      "8000/8000 [==============================] - 3s 314us/step - loss: 0.3409 - acc: 0.8595\n",
      "Epoch 42/100\n",
      "8000/8000 [==============================] - 3s 352us/step - loss: 0.3406 - acc: 0.8602\n",
      "Epoch 43/100\n",
      "8000/8000 [==============================] - 2s 300us/step - loss: 0.3405 - acc: 0.8576\n",
      "Epoch 44/100\n",
      "8000/8000 [==============================] - 2s 307us/step - loss: 0.3412 - acc: 0.8609\n",
      "Epoch 45/100\n",
      "8000/8000 [==============================] - 2s 231us/step - loss: 0.3394 - acc: 0.8596\n",
      "Epoch 46/100\n",
      "8000/8000 [==============================] - 2s 257us/step - loss: 0.3396 - acc: 0.8586\n",
      "Epoch 47/100\n",
      "8000/8000 [==============================] - 2s 227us/step - loss: 0.3404 - acc: 0.8596\n",
      "Epoch 48/100\n",
      "8000/8000 [==============================] - 2s 221us/step - loss: 0.3390 - acc: 0.8615 1s - los\n",
      "Epoch 49/100\n",
      "8000/8000 [==============================] - 2s 244us/step - loss: 0.3399 - acc: 0.8584\n",
      "Epoch 50/100\n",
      "8000/8000 [==============================] - 2s 252us/step - loss: 0.3382 - acc: 0.8607\n",
      "Epoch 51/100\n",
      "8000/8000 [==============================] - 2s 263us/step - loss: 0.3390 - acc: 0.8569 0s - loss: 0.3375 \n",
      "Epoch 52/100\n",
      "8000/8000 [==============================] - 2s 297us/step - loss: 0.3379 - acc: 0.8614\n",
      "Epoch 53/100\n",
      "8000/8000 [==============================] - 3s 348us/step - loss: 0.3382 - acc: 0.8591\n",
      "Epoch 54/100\n",
      "8000/8000 [==============================] - 2s 214us/step - loss: 0.3398 - acc: 0.8591 1s -\n",
      "Epoch 55/100\n",
      "8000/8000 [==============================] - 2s 204us/step - loss: 0.3391 - acc: 0.8581\n",
      "Epoch 56/100\n",
      "8000/8000 [==============================] - 2s 213us/step - loss: 0.3391 - acc: 0.8589 0s - loss: 0.3381 - acc: 0.85\n",
      "Epoch 57/100\n",
      "8000/8000 [==============================] - 2s 206us/step - loss: 0.3384 - acc: 0.8594 0s - loss: 0.3414 - a\n",
      "Epoch 58/100\n",
      "8000/8000 [==============================] - 2s 203us/step - loss: 0.3388 - acc: 0.8584 0s - loss: 0.3 - ETA: 0s - loss: 0.3382 - acc: 0.85\n",
      "Epoch 59/100\n",
      "8000/8000 [==============================] - 2s 204us/step - loss: 0.3371 - acc: 0.8570\n",
      "Epoch 60/100\n",
      "8000/8000 [==============================] - 2s 234us/step - loss: 0.3371 - acc: 0.8597\n",
      "Epoch 61/100\n",
      "8000/8000 [==============================] - 2s 211us/step - loss: 0.3371 - acc: 0.8572\n",
      "Epoch 62/100\n",
      "8000/8000 [==============================] - 2s 230us/step - loss: 0.3380 - acc: 0.8610\n",
      "Epoch 63/100\n",
      "8000/8000 [==============================] - 2s 201us/step - loss: 0.3372 - acc: 0.8597\n",
      "Epoch 64/100\n",
      "8000/8000 [==============================] - 2s 207us/step - loss: 0.3375 - acc: 0.8596\n",
      "Epoch 65/100\n",
      "8000/8000 [==============================] - 3s 314us/step - loss: 0.3382 - acc: 0.8582\n",
      "Epoch 66/100\n",
      "8000/8000 [==============================] - 2s 296us/step - loss: 0.3374 - acc: 0.8620\n",
      "Epoch 67/100\n",
      "8000/8000 [==============================] - 2s 216us/step - loss: 0.3372 - acc: 0.8597\n",
      "Epoch 68/100\n",
      "8000/8000 [==============================] - 2s 222us/step - loss: 0.3370 - acc: 0.8621\n",
      "Epoch 69/100\n",
      "8000/8000 [==============================] - 2s 235us/step - loss: 0.3366 - acc: 0.8595\n",
      "Epoch 70/100\n",
      "8000/8000 [==============================] - 2s 246us/step - loss: 0.3370 - acc: 0.8612\n",
      "Epoch 71/100\n",
      "8000/8000 [==============================] - 3s 358us/step - loss: 0.3380 - acc: 0.8595\n",
      "Epoch 72/100\n",
      "8000/8000 [==============================] - 2s 270us/step - loss: 0.3370 - acc: 0.8595\n",
      "Epoch 73/100\n",
      "8000/8000 [==============================] - 2s 218us/step - loss: 0.3370 - acc: 0.8596 0s - loss: 0.3394 - acc: 0.8 - ETA: 0s - loss: 0.33\n",
      "Epoch 74/100\n",
      "8000/8000 [==============================] - 2s 246us/step - loss: 0.3379 - acc: 0.8575\n",
      "Epoch 75/100\n",
      "8000/8000 [==============================] - 1s 185us/step - loss: 0.3369 - acc: 0.8579\n",
      "Epoch 76/100\n",
      "8000/8000 [==============================] - 4s 508us/step - loss: 0.3367 - acc: 0.8622\n",
      "Epoch 77/100\n",
      "8000/8000 [==============================] - 3s 417us/step - loss: 0.3361 - acc: 0.8631\n",
      "Epoch 78/100\n",
      "8000/8000 [==============================] - 2s 300us/step - loss: 0.3371 - acc: 0.8596\n",
      "Epoch 79/100\n",
      "8000/8000 [==============================] - 2s 227us/step - loss: 0.3375 - acc: 0.8595\n",
      "Epoch 80/100\n",
      "8000/8000 [==============================] - 2s 223us/step - loss: 0.3370 - acc: 0.8606\n",
      "Epoch 81/100\n",
      "8000/8000 [==============================] - 2s 220us/step - loss: 0.3368 - acc: 0.8596\n",
      "Epoch 82/100\n",
      "8000/8000 [==============================] - 2s 226us/step - loss: 0.3362 - acc: 0.8606 0s - loss: 0\n",
      "Epoch 83/100\n",
      "8000/8000 [==============================] - 2s 231us/step - loss: 0.3360 - acc: 0.8591\n",
      "Epoch 84/100\n",
      "8000/8000 [==============================] - 2s 226us/step - loss: 0.3372 - acc: 0.8581\n",
      "Epoch 85/100\n",
      "8000/8000 [==============================] - 2s 263us/step - loss: 0.3365 - acc: 0.8570\n",
      "Epoch 86/100\n",
      "8000/8000 [==============================] - 2s 229us/step - loss: 0.3363 - acc: 0.8600\n",
      "Epoch 87/100\n",
      "8000/8000 [==============================] - 2s 223us/step - loss: 0.3358 - acc: 0.8612\n",
      "Epoch 88/100\n",
      "8000/8000 [==============================] - 2s 237us/step - loss: 0.3360 - acc: 0.8602\n",
      "Epoch 89/100\n",
      "8000/8000 [==============================] - 2s 225us/step - loss: 0.3370 - acc: 0.8609 1\n",
      "Epoch 90/100\n",
      "8000/8000 [==============================] - 2s 225us/step - loss: 0.3358 - acc: 0.8616\n",
      "Epoch 91/100\n",
      "8000/8000 [==============================] - 2s 230us/step - loss: 0.3375 - acc: 0.8614\n",
      "Epoch 92/100\n",
      "8000/8000 [==============================] - 2s 230us/step - loss: 0.3362 - acc: 0.8575\n",
      "Epoch 93/100\n",
      "8000/8000 [==============================] - 2s 222us/step - loss: 0.3365 - acc: 0.8582\n",
      "Epoch 94/100\n",
      "8000/8000 [==============================] - 2s 229us/step - loss: 0.3370 - acc: 0.8611\n",
      "Epoch 95/100\n",
      "8000/8000 [==============================] - 2s 222us/step - loss: 0.3357 - acc: 0.8592\n",
      "Epoch 96/100\n",
      "8000/8000 [==============================] - 2s 230us/step - loss: 0.3353 - acc: 0.8607\n",
      "Epoch 97/100\n",
      "8000/8000 [==============================] - 2s 224us/step - loss: 0.3360 - acc: 0.8609\n",
      "Epoch 98/100\n",
      "8000/8000 [==============================] - 2s 229us/step - loss: 0.3358 - acc: 0.8595 1s - \n",
      "Epoch 99/100\n",
      "8000/8000 [==============================] - 2s 233us/step - loss: 0.3361 - acc: 0.8614\n",
      "Epoch 100/100\n",
      "8000/8000 [==============================] - 2s 238us/step - loss: 0.3363 - acc: 0.8609\n"
     ]
    },
    {
     "data": {
      "text/plain": [
       "<keras.callbacks.History at 0xe075048>"
      ]
     },
     "execution_count": 24,
     "metadata": {},
     "output_type": "execute_result"
    }
   ],
   "source": [
    "# Fitting our model \n",
    "classifier.fit(X_train, y_train, batch_size = 10, epochs = 100)"
   ]
  },
  {
   "cell_type": "code",
   "execution_count": 25,
   "metadata": {},
   "outputs": [
    {
     "name": "stdout",
     "output_type": "stream",
     "text": [
      "[[False]\n",
      " [False]\n",
      " [False]\n",
      " ...\n",
      " [False]\n",
      " [False]\n",
      " [False]]\n"
     ]
    }
   ],
   "source": [
    "y_pred = classifier.predict(X_test)\n",
    "y_pred = (y_pred > 0.5)\n",
    "print(y_pred)"
   ]
  },
  {
   "cell_type": "code",
   "execution_count": 26,
   "metadata": {},
   "outputs": [
    {
     "name": "stdout",
     "output_type": "stream",
     "text": [
      "[[1527   68]\n",
      " [ 198  207]]\n"
     ]
    }
   ],
   "source": [
    "cm = confusion_matrix(y_test, y_pred)\n",
    "print(cm)"
   ]
  },
  {
   "cell_type": "code",
   "execution_count": 27,
   "metadata": {},
   "outputs": [
    {
     "name": "stdout",
     "output_type": "stream",
     "text": [
      "The accuracy of our model is 86.7 %\n"
     ]
    }
   ],
   "source": [
    "# Accuracy of our model\n",
    "accuracy = (cm[0,0]+cm[1,1]) * 100/ cm.sum()\n",
    "print(\"The accuracy of our model is %2.1f %%\" % accuracy)"
   ]
  },
  {
   "cell_type": "code",
   "execution_count": null,
   "metadata": {},
   "outputs": [],
   "source": []
  }
 ],
 "metadata": {
  "kernelspec": {
   "display_name": "Python 3",
   "language": "python",
   "name": "python3"
  },
  "language_info": {
   "codemirror_mode": {
    "name": "ipython",
    "version": 3
   },
   "file_extension": ".py",
   "mimetype": "text/x-python",
   "name": "python",
   "nbconvert_exporter": "python",
   "pygments_lexer": "ipython3",
   "version": "3.6.5"
  }
 },
 "nbformat": 4,
 "nbformat_minor": 2
}
