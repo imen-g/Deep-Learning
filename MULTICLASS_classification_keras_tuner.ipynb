{
  "nbformat": 4,
  "nbformat_minor": 0,
  "metadata": {
    "colab": {
      "name": "MULTICLASS_classification.ipynb",
      "provenance": [],
      "collapsed_sections": [],
      "authorship_tag": "ABX9TyO8JwBZ4sjv/wItEv90dc+0",
      "include_colab_link": true
    },
    "kernelspec": {
      "display_name": "Python 3",
      "name": "python3"
    }
  },
  "cells": [
    {
      "cell_type": "markdown",
      "metadata": {
        "id": "view-in-github",
        "colab_type": "text"
      },
      "source": [
        "<a href=\"https://colab.research.google.com/github/imen-g/Deep-Learning/blob/master/MULTICLASS_classification_keras_tuner.ipynb\" target=\"_parent\"><img src=\"https://colab.research.google.com/assets/colab-badge.svg\" alt=\"Open In Colab\"/></a>"
      ]
    },
    {
      "cell_type": "markdown",
      "metadata": {
        "id": "BAjDZqn1BFBP"
      },
      "source": [
        "\n",
        "\n",
        "**Importing libraries**\n",
        "\n"
      ]
    },
    {
      "cell_type": "code",
      "metadata": {
        "id": "yXgbzyFYAlav"
      },
      "source": [
        "import numpy\n",
        "import pandas as pd\n",
        "from keras.models import Sequential\n",
        "from keras.layers import Dense\n",
        "from keras.wrappers.scikit_learn import KerasClassifier\n",
        "from keras.utils import np_utils\n",
        "from sklearn.model_selection import cross_val_score\n",
        "from sklearn.model_selection import KFold\n",
        "from sklearn.preprocessing import LabelEncoder\n",
        "from sklearn.pipeline import Pipeline\n",
        "import matplotlib.pyplot as plt"
      ],
      "execution_count": 9,
      "outputs": []
    },
    {
      "cell_type": "markdown",
      "metadata": {
        "id": "-vb9-l5IBRah"
      },
      "source": [
        "**Importing the Dataset**"
      ]
    },
    {
      "cell_type": "code",
      "metadata": {
        "colab": {
          "base_uri": "https://localhost:8080/",
          "height": 198
        },
        "id": "5voQddgVFCgm",
        "outputId": "b6ae45f8-c769-4b49-ef14-eaded93f8505"
      },
      "source": [
        "data = pd.read_csv('iris.csv',parse_dates=True) \n",
        "data.sample(5)"
      ],
      "execution_count": 10,
      "outputs": [
        {
          "output_type": "execute_result",
          "data": {
            "text/html": [
              "<div>\n",
              "<style scoped>\n",
              "    .dataframe tbody tr th:only-of-type {\n",
              "        vertical-align: middle;\n",
              "    }\n",
              "\n",
              "    .dataframe tbody tr th {\n",
              "        vertical-align: top;\n",
              "    }\n",
              "\n",
              "    .dataframe thead th {\n",
              "        text-align: right;\n",
              "    }\n",
              "</style>\n",
              "<table border=\"1\" class=\"dataframe\">\n",
              "  <thead>\n",
              "    <tr style=\"text-align: right;\">\n",
              "      <th></th>\n",
              "      <th>sepal.length</th>\n",
              "      <th>sepal.width</th>\n",
              "      <th>petal.length</th>\n",
              "      <th>petal.width</th>\n",
              "      <th>variety</th>\n",
              "    </tr>\n",
              "  </thead>\n",
              "  <tbody>\n",
              "    <tr>\n",
              "      <th>122</th>\n",
              "      <td>7.7</td>\n",
              "      <td>2.8</td>\n",
              "      <td>6.7</td>\n",
              "      <td>2.0</td>\n",
              "      <td>Virginica</td>\n",
              "    </tr>\n",
              "    <tr>\n",
              "      <th>87</th>\n",
              "      <td>6.3</td>\n",
              "      <td>2.3</td>\n",
              "      <td>4.4</td>\n",
              "      <td>1.3</td>\n",
              "      <td>Versicolor</td>\n",
              "    </tr>\n",
              "    <tr>\n",
              "      <th>56</th>\n",
              "      <td>6.3</td>\n",
              "      <td>3.3</td>\n",
              "      <td>4.7</td>\n",
              "      <td>1.6</td>\n",
              "      <td>Versicolor</td>\n",
              "    </tr>\n",
              "    <tr>\n",
              "      <th>146</th>\n",
              "      <td>6.3</td>\n",
              "      <td>2.5</td>\n",
              "      <td>5.0</td>\n",
              "      <td>1.9</td>\n",
              "      <td>Virginica</td>\n",
              "    </tr>\n",
              "    <tr>\n",
              "      <th>133</th>\n",
              "      <td>6.3</td>\n",
              "      <td>2.8</td>\n",
              "      <td>5.1</td>\n",
              "      <td>1.5</td>\n",
              "      <td>Virginica</td>\n",
              "    </tr>\n",
              "  </tbody>\n",
              "</table>\n",
              "</div>"
            ],
            "text/plain": [
              "     sepal.length  sepal.width  petal.length  petal.width     variety\n",
              "122           7.7          2.8           6.7          2.0   Virginica\n",
              "87            6.3          2.3           4.4          1.3  Versicolor\n",
              "56            6.3          3.3           4.7          1.6  Versicolor\n",
              "146           6.3          2.5           5.0          1.9   Virginica\n",
              "133           6.3          2.8           5.1          1.5   Virginica"
            ]
          },
          "metadata": {
            "tags": []
          },
          "execution_count": 10
        }
      ]
    },
    {
      "cell_type": "markdown",
      "metadata": {
        "id": "x6n6-iKYGmQP"
      },
      "source": [
        "**Data processing**"
      ]
    },
    {
      "cell_type": "code",
      "metadata": {
        "colab": {
          "base_uri": "https://localhost:8080/"
        },
        "id": "HED8GZjqGlrv",
        "outputId": "3a944b05-e721-41c3-d2a4-7fdd5a5150a7"
      },
      "source": [
        "data.isna().sum() #Checking for missing values"
      ],
      "execution_count": 11,
      "outputs": [
        {
          "output_type": "execute_result",
          "data": {
            "text/plain": [
              "sepal.length    0\n",
              "sepal.width     0\n",
              "petal.length    0\n",
              "petal.width     0\n",
              "variety         0\n",
              "dtype: int64"
            ]
          },
          "metadata": {
            "tags": []
          },
          "execution_count": 11
        }
      ]
    },
    {
      "cell_type": "code",
      "metadata": {
        "colab": {
          "base_uri": "https://localhost:8080/"
        },
        "id": "SfvwFsSCF4ib",
        "outputId": "11213fd4-989f-4dd1-9800-d8daeee2e885"
      },
      "source": [
        "data.info()"
      ],
      "execution_count": 12,
      "outputs": [
        {
          "output_type": "stream",
          "text": [
            "<class 'pandas.core.frame.DataFrame'>\n",
            "RangeIndex: 150 entries, 0 to 149\n",
            "Data columns (total 5 columns):\n",
            " #   Column        Non-Null Count  Dtype  \n",
            "---  ------        --------------  -----  \n",
            " 0   sepal.length  150 non-null    float64\n",
            " 1   sepal.width   150 non-null    float64\n",
            " 2   petal.length  150 non-null    float64\n",
            " 3   petal.width   150 non-null    float64\n",
            " 4   variety       150 non-null    object \n",
            "dtypes: float64(4), object(1)\n",
            "memory usage: 6.0+ KB\n"
          ],
          "name": "stdout"
        }
      ]
    },
    {
      "cell_type": "code",
      "metadata": {
        "colab": {
          "base_uri": "https://localhost:8080/"
        },
        "id": "dszaHogZgkgS",
        "outputId": "5f59f59e-a0fe-4bf1-d6b0-bde46d208ecd"
      },
      "source": [
        "data.variety.value_counts()"
      ],
      "execution_count": 13,
      "outputs": [
        {
          "output_type": "execute_result",
          "data": {
            "text/plain": [
              "Versicolor    50\n",
              "Setosa        50\n",
              "Virginica     50\n",
              "Name: variety, dtype: int64"
            ]
          },
          "metadata": {
            "tags": []
          },
          "execution_count": 13
        }
      ]
    },
    {
      "cell_type": "code",
      "metadata": {
        "colab": {
          "base_uri": "https://localhost:8080/",
          "height": 288
        },
        "id": "rxOvIe62F9Jx",
        "outputId": "0ffbb7dc-af72-476a-80b2-aced798125d8"
      },
      "source": [
        "data.describe()"
      ],
      "execution_count": 14,
      "outputs": [
        {
          "output_type": "execute_result",
          "data": {
            "text/html": [
              "<div>\n",
              "<style scoped>\n",
              "    .dataframe tbody tr th:only-of-type {\n",
              "        vertical-align: middle;\n",
              "    }\n",
              "\n",
              "    .dataframe tbody tr th {\n",
              "        vertical-align: top;\n",
              "    }\n",
              "\n",
              "    .dataframe thead th {\n",
              "        text-align: right;\n",
              "    }\n",
              "</style>\n",
              "<table border=\"1\" class=\"dataframe\">\n",
              "  <thead>\n",
              "    <tr style=\"text-align: right;\">\n",
              "      <th></th>\n",
              "      <th>sepal.length</th>\n",
              "      <th>sepal.width</th>\n",
              "      <th>petal.length</th>\n",
              "      <th>petal.width</th>\n",
              "    </tr>\n",
              "  </thead>\n",
              "  <tbody>\n",
              "    <tr>\n",
              "      <th>count</th>\n",
              "      <td>150.000000</td>\n",
              "      <td>150.000000</td>\n",
              "      <td>150.000000</td>\n",
              "      <td>150.000000</td>\n",
              "    </tr>\n",
              "    <tr>\n",
              "      <th>mean</th>\n",
              "      <td>5.843333</td>\n",
              "      <td>3.057333</td>\n",
              "      <td>3.758000</td>\n",
              "      <td>1.199333</td>\n",
              "    </tr>\n",
              "    <tr>\n",
              "      <th>std</th>\n",
              "      <td>0.828066</td>\n",
              "      <td>0.435866</td>\n",
              "      <td>1.765298</td>\n",
              "      <td>0.762238</td>\n",
              "    </tr>\n",
              "    <tr>\n",
              "      <th>min</th>\n",
              "      <td>4.300000</td>\n",
              "      <td>2.000000</td>\n",
              "      <td>1.000000</td>\n",
              "      <td>0.100000</td>\n",
              "    </tr>\n",
              "    <tr>\n",
              "      <th>25%</th>\n",
              "      <td>5.100000</td>\n",
              "      <td>2.800000</td>\n",
              "      <td>1.600000</td>\n",
              "      <td>0.300000</td>\n",
              "    </tr>\n",
              "    <tr>\n",
              "      <th>50%</th>\n",
              "      <td>5.800000</td>\n",
              "      <td>3.000000</td>\n",
              "      <td>4.350000</td>\n",
              "      <td>1.300000</td>\n",
              "    </tr>\n",
              "    <tr>\n",
              "      <th>75%</th>\n",
              "      <td>6.400000</td>\n",
              "      <td>3.300000</td>\n",
              "      <td>5.100000</td>\n",
              "      <td>1.800000</td>\n",
              "    </tr>\n",
              "    <tr>\n",
              "      <th>max</th>\n",
              "      <td>7.900000</td>\n",
              "      <td>4.400000</td>\n",
              "      <td>6.900000</td>\n",
              "      <td>2.500000</td>\n",
              "    </tr>\n",
              "  </tbody>\n",
              "</table>\n",
              "</div>"
            ],
            "text/plain": [
              "       sepal.length  sepal.width  petal.length  petal.width\n",
              "count    150.000000   150.000000    150.000000   150.000000\n",
              "mean       5.843333     3.057333      3.758000     1.199333\n",
              "std        0.828066     0.435866      1.765298     0.762238\n",
              "min        4.300000     2.000000      1.000000     0.100000\n",
              "25%        5.100000     2.800000      1.600000     0.300000\n",
              "50%        5.800000     3.000000      4.350000     1.300000\n",
              "75%        6.400000     3.300000      5.100000     1.800000\n",
              "max        7.900000     4.400000      6.900000     2.500000"
            ]
          },
          "metadata": {
            "tags": []
          },
          "execution_count": 14
        }
      ]
    },
    {
      "cell_type": "markdown",
      "metadata": {
        "id": "KXcNxiqGHwnp"
      },
      "source": [
        "For better performance of our model we need to keep numerical values between 0 and 1"
      ]
    },
    {
      "cell_type": "code",
      "metadata": {
        "colab": {
          "base_uri": "https://localhost:8080/"
        },
        "id": "fM1WKP8UHgEE",
        "outputId": "4ad3d200-475c-4b15-cafc-9a5166f60cc9"
      },
      "source": [
        "data.max() #displays the max of every column"
      ],
      "execution_count": 15,
      "outputs": [
        {
          "output_type": "execute_result",
          "data": {
            "text/plain": [
              "sepal.length          7.9\n",
              "sepal.width           4.4\n",
              "petal.length          6.9\n",
              "petal.width           2.5\n",
              "variety         Virginica\n",
              "dtype: object"
            ]
          },
          "metadata": {
            "tags": []
          },
          "execution_count": 15
        }
      ]
    },
    {
      "cell_type": "code",
      "metadata": {
        "id": "F09rU5YBH8OW"
      },
      "source": [
        "data['sepal.length'] = data['sepal.length']/7.9\n",
        "data['sepal.width'] = data['sepal.width']/4.4\n",
        "data['petal.length'] = data['petal.length']/6.9\n",
        "data['petal.width'] = data['petal.width']/2.5\n"
      ],
      "execution_count": 16,
      "outputs": []
    },
    {
      "cell_type": "code",
      "metadata": {
        "colab": {
          "base_uri": "https://localhost:8080/",
          "height": 198
        },
        "id": "jmsbuarTJ-kx",
        "outputId": "1387d84d-7d36-463b-9b54-b2394dde0ce6"
      },
      "source": [
        "data.sample(5)"
      ],
      "execution_count": 17,
      "outputs": [
        {
          "output_type": "execute_result",
          "data": {
            "text/html": [
              "<div>\n",
              "<style scoped>\n",
              "    .dataframe tbody tr th:only-of-type {\n",
              "        vertical-align: middle;\n",
              "    }\n",
              "\n",
              "    .dataframe tbody tr th {\n",
              "        vertical-align: top;\n",
              "    }\n",
              "\n",
              "    .dataframe thead th {\n",
              "        text-align: right;\n",
              "    }\n",
              "</style>\n",
              "<table border=\"1\" class=\"dataframe\">\n",
              "  <thead>\n",
              "    <tr style=\"text-align: right;\">\n",
              "      <th></th>\n",
              "      <th>sepal.length</th>\n",
              "      <th>sepal.width</th>\n",
              "      <th>petal.length</th>\n",
              "      <th>petal.width</th>\n",
              "      <th>variety</th>\n",
              "    </tr>\n",
              "  </thead>\n",
              "  <tbody>\n",
              "    <tr>\n",
              "      <th>84</th>\n",
              "      <td>0.683544</td>\n",
              "      <td>0.681818</td>\n",
              "      <td>0.652174</td>\n",
              "      <td>0.60</td>\n",
              "      <td>Versicolor</td>\n",
              "    </tr>\n",
              "    <tr>\n",
              "      <th>121</th>\n",
              "      <td>0.708861</td>\n",
              "      <td>0.636364</td>\n",
              "      <td>0.710145</td>\n",
              "      <td>0.80</td>\n",
              "      <td>Virginica</td>\n",
              "    </tr>\n",
              "    <tr>\n",
              "      <th>92</th>\n",
              "      <td>0.734177</td>\n",
              "      <td>0.590909</td>\n",
              "      <td>0.579710</td>\n",
              "      <td>0.48</td>\n",
              "      <td>Versicolor</td>\n",
              "    </tr>\n",
              "    <tr>\n",
              "      <th>122</th>\n",
              "      <td>0.974684</td>\n",
              "      <td>0.636364</td>\n",
              "      <td>0.971014</td>\n",
              "      <td>0.80</td>\n",
              "      <td>Virginica</td>\n",
              "    </tr>\n",
              "    <tr>\n",
              "      <th>67</th>\n",
              "      <td>0.734177</td>\n",
              "      <td>0.613636</td>\n",
              "      <td>0.594203</td>\n",
              "      <td>0.40</td>\n",
              "      <td>Versicolor</td>\n",
              "    </tr>\n",
              "  </tbody>\n",
              "</table>\n",
              "</div>"
            ],
            "text/plain": [
              "     sepal.length  sepal.width  petal.length  petal.width     variety\n",
              "84       0.683544     0.681818      0.652174         0.60  Versicolor\n",
              "121      0.708861     0.636364      0.710145         0.80   Virginica\n",
              "92       0.734177     0.590909      0.579710         0.48  Versicolor\n",
              "122      0.974684     0.636364      0.971014         0.80   Virginica\n",
              "67       0.734177     0.613636      0.594203         0.40  Versicolor"
            ]
          },
          "metadata": {
            "tags": []
          },
          "execution_count": 17
        }
      ]
    },
    {
      "cell_type": "markdown",
      "metadata": {
        "id": "kovNhYdPafQ8"
      },
      "source": [
        "**Model creation**\n",
        "\n"
      ]
    },
    {
      "cell_type": "code",
      "metadata": {
        "id": "x9WSecMOoOVl"
      },
      "source": [
        "data = data.values\n",
        "X = data[:,0:4].astype(float)\n",
        "Y = data[:,4]"
      ],
      "execution_count": 18,
      "outputs": []
    },
    {
      "cell_type": "code",
      "metadata": {
        "colab": {
          "base_uri": "https://localhost:8080/"
        },
        "id": "ysN0AIRvoy6f",
        "outputId": "310b49c7-a671-4e35-87eb-27359d13c68e"
      },
      "source": [
        "X"
      ],
      "execution_count": 19,
      "outputs": [
        {
          "output_type": "execute_result",
          "data": {
            "text/plain": [
              "array([[0.64556962, 0.79545455, 0.20289855, 0.08      ],\n",
              "       [0.62025316, 0.68181818, 0.20289855, 0.08      ],\n",
              "       [0.59493671, 0.72727273, 0.1884058 , 0.08      ],\n",
              "       [0.58227848, 0.70454545, 0.2173913 , 0.08      ],\n",
              "       [0.63291139, 0.81818182, 0.20289855, 0.08      ],\n",
              "       [0.6835443 , 0.88636364, 0.24637681, 0.16      ],\n",
              "       [0.58227848, 0.77272727, 0.20289855, 0.12      ],\n",
              "       [0.63291139, 0.77272727, 0.2173913 , 0.08      ],\n",
              "       [0.55696203, 0.65909091, 0.20289855, 0.08      ],\n",
              "       [0.62025316, 0.70454545, 0.2173913 , 0.04      ],\n",
              "       [0.6835443 , 0.84090909, 0.2173913 , 0.08      ],\n",
              "       [0.60759494, 0.77272727, 0.23188406, 0.08      ],\n",
              "       [0.60759494, 0.68181818, 0.20289855, 0.04      ],\n",
              "       [0.5443038 , 0.68181818, 0.15942029, 0.04      ],\n",
              "       [0.73417722, 0.90909091, 0.17391304, 0.08      ],\n",
              "       [0.72151899, 1.        , 0.2173913 , 0.16      ],\n",
              "       [0.6835443 , 0.88636364, 0.1884058 , 0.16      ],\n",
              "       [0.64556962, 0.79545455, 0.20289855, 0.12      ],\n",
              "       [0.72151899, 0.86363636, 0.24637681, 0.12      ],\n",
              "       [0.64556962, 0.86363636, 0.2173913 , 0.12      ],\n",
              "       [0.6835443 , 0.77272727, 0.24637681, 0.08      ],\n",
              "       [0.64556962, 0.84090909, 0.2173913 , 0.16      ],\n",
              "       [0.58227848, 0.81818182, 0.14492754, 0.08      ],\n",
              "       [0.64556962, 0.75      , 0.24637681, 0.2       ],\n",
              "       [0.60759494, 0.77272727, 0.27536232, 0.08      ],\n",
              "       [0.63291139, 0.68181818, 0.23188406, 0.08      ],\n",
              "       [0.63291139, 0.77272727, 0.23188406, 0.16      ],\n",
              "       [0.65822785, 0.79545455, 0.2173913 , 0.08      ],\n",
              "       [0.65822785, 0.77272727, 0.20289855, 0.08      ],\n",
              "       [0.59493671, 0.72727273, 0.23188406, 0.08      ],\n",
              "       [0.60759494, 0.70454545, 0.23188406, 0.08      ],\n",
              "       [0.6835443 , 0.77272727, 0.2173913 , 0.16      ],\n",
              "       [0.65822785, 0.93181818, 0.2173913 , 0.04      ],\n",
              "       [0.69620253, 0.95454545, 0.20289855, 0.08      ],\n",
              "       [0.62025316, 0.70454545, 0.2173913 , 0.08      ],\n",
              "       [0.63291139, 0.72727273, 0.17391304, 0.08      ],\n",
              "       [0.69620253, 0.79545455, 0.1884058 , 0.08      ],\n",
              "       [0.62025316, 0.81818182, 0.20289855, 0.04      ],\n",
              "       [0.55696203, 0.68181818, 0.1884058 , 0.08      ],\n",
              "       [0.64556962, 0.77272727, 0.2173913 , 0.08      ],\n",
              "       [0.63291139, 0.79545455, 0.1884058 , 0.12      ],\n",
              "       [0.56962025, 0.52272727, 0.1884058 , 0.12      ],\n",
              "       [0.55696203, 0.72727273, 0.1884058 , 0.08      ],\n",
              "       [0.63291139, 0.79545455, 0.23188406, 0.24      ],\n",
              "       [0.64556962, 0.86363636, 0.27536232, 0.16      ],\n",
              "       [0.60759494, 0.68181818, 0.20289855, 0.12      ],\n",
              "       [0.64556962, 0.86363636, 0.23188406, 0.08      ],\n",
              "       [0.58227848, 0.72727273, 0.20289855, 0.08      ],\n",
              "       [0.67088608, 0.84090909, 0.2173913 , 0.08      ],\n",
              "       [0.63291139, 0.75      , 0.20289855, 0.08      ],\n",
              "       [0.88607595, 0.72727273, 0.68115942, 0.56      ],\n",
              "       [0.81012658, 0.72727273, 0.65217391, 0.6       ],\n",
              "       [0.87341772, 0.70454545, 0.71014493, 0.6       ],\n",
              "       [0.69620253, 0.52272727, 0.57971014, 0.52      ],\n",
              "       [0.82278481, 0.63636364, 0.66666667, 0.6       ],\n",
              "       [0.72151899, 0.63636364, 0.65217391, 0.52      ],\n",
              "       [0.79746835, 0.75      , 0.68115942, 0.64      ],\n",
              "       [0.62025316, 0.54545455, 0.47826087, 0.4       ],\n",
              "       [0.83544304, 0.65909091, 0.66666667, 0.52      ],\n",
              "       [0.65822785, 0.61363636, 0.56521739, 0.56      ],\n",
              "       [0.63291139, 0.45454545, 0.50724638, 0.4       ],\n",
              "       [0.74683544, 0.68181818, 0.60869565, 0.6       ],\n",
              "       [0.75949367, 0.5       , 0.57971014, 0.4       ],\n",
              "       [0.7721519 , 0.65909091, 0.68115942, 0.56      ],\n",
              "       [0.70886076, 0.65909091, 0.52173913, 0.52      ],\n",
              "       [0.84810127, 0.70454545, 0.63768116, 0.56      ],\n",
              "       [0.70886076, 0.68181818, 0.65217391, 0.6       ],\n",
              "       [0.73417722, 0.61363636, 0.5942029 , 0.4       ],\n",
              "       [0.78481013, 0.5       , 0.65217391, 0.6       ],\n",
              "       [0.70886076, 0.56818182, 0.56521739, 0.44      ],\n",
              "       [0.74683544, 0.72727273, 0.69565217, 0.72      ],\n",
              "       [0.7721519 , 0.63636364, 0.57971014, 0.52      ],\n",
              "       [0.79746835, 0.56818182, 0.71014493, 0.6       ],\n",
              "       [0.7721519 , 0.63636364, 0.68115942, 0.48      ],\n",
              "       [0.81012658, 0.65909091, 0.62318841, 0.52      ],\n",
              "       [0.83544304, 0.68181818, 0.63768116, 0.56      ],\n",
              "       [0.86075949, 0.63636364, 0.69565217, 0.56      ],\n",
              "       [0.84810127, 0.68181818, 0.72463768, 0.68      ],\n",
              "       [0.75949367, 0.65909091, 0.65217391, 0.6       ],\n",
              "       [0.72151899, 0.59090909, 0.50724638, 0.4       ],\n",
              "       [0.69620253, 0.54545455, 0.55072464, 0.44      ],\n",
              "       [0.69620253, 0.54545455, 0.53623188, 0.4       ],\n",
              "       [0.73417722, 0.61363636, 0.56521739, 0.48      ],\n",
              "       [0.75949367, 0.61363636, 0.73913043, 0.64      ],\n",
              "       [0.6835443 , 0.68181818, 0.65217391, 0.6       ],\n",
              "       [0.75949367, 0.77272727, 0.65217391, 0.64      ],\n",
              "       [0.84810127, 0.70454545, 0.68115942, 0.6       ],\n",
              "       [0.79746835, 0.52272727, 0.63768116, 0.52      ],\n",
              "       [0.70886076, 0.68181818, 0.5942029 , 0.52      ],\n",
              "       [0.69620253, 0.56818182, 0.57971014, 0.52      ],\n",
              "       [0.69620253, 0.59090909, 0.63768116, 0.48      ],\n",
              "       [0.7721519 , 0.68181818, 0.66666667, 0.56      ],\n",
              "       [0.73417722, 0.59090909, 0.57971014, 0.48      ],\n",
              "       [0.63291139, 0.52272727, 0.47826087, 0.4       ],\n",
              "       [0.70886076, 0.61363636, 0.60869565, 0.52      ],\n",
              "       [0.72151899, 0.68181818, 0.60869565, 0.48      ],\n",
              "       [0.72151899, 0.65909091, 0.60869565, 0.52      ],\n",
              "       [0.78481013, 0.65909091, 0.62318841, 0.52      ],\n",
              "       [0.64556962, 0.56818182, 0.43478261, 0.44      ],\n",
              "       [0.72151899, 0.63636364, 0.5942029 , 0.52      ],\n",
              "       [0.79746835, 0.75      , 0.86956522, 1.        ],\n",
              "       [0.73417722, 0.61363636, 0.73913043, 0.76      ],\n",
              "       [0.89873418, 0.68181818, 0.85507246, 0.84      ],\n",
              "       [0.79746835, 0.65909091, 0.8115942 , 0.72      ],\n",
              "       [0.82278481, 0.68181818, 0.84057971, 0.88      ],\n",
              "       [0.96202532, 0.68181818, 0.95652174, 0.84      ],\n",
              "       [0.62025316, 0.56818182, 0.65217391, 0.68      ],\n",
              "       [0.92405063, 0.65909091, 0.91304348, 0.72      ],\n",
              "       [0.84810127, 0.56818182, 0.84057971, 0.72      ],\n",
              "       [0.91139241, 0.81818182, 0.88405797, 1.        ],\n",
              "       [0.82278481, 0.72727273, 0.73913043, 0.8       ],\n",
              "       [0.81012658, 0.61363636, 0.76811594, 0.76      ],\n",
              "       [0.86075949, 0.68181818, 0.79710145, 0.84      ],\n",
              "       [0.72151899, 0.56818182, 0.72463768, 0.8       ],\n",
              "       [0.73417722, 0.63636364, 0.73913043, 0.96      ],\n",
              "       [0.81012658, 0.72727273, 0.76811594, 0.92      ],\n",
              "       [0.82278481, 0.68181818, 0.79710145, 0.72      ],\n",
              "       [0.97468354, 0.86363636, 0.97101449, 0.88      ],\n",
              "       [0.97468354, 0.59090909, 1.        , 0.92      ],\n",
              "       [0.75949367, 0.5       , 0.72463768, 0.6       ],\n",
              "       [0.87341772, 0.72727273, 0.82608696, 0.92      ],\n",
              "       [0.70886076, 0.63636364, 0.71014493, 0.8       ],\n",
              "       [0.97468354, 0.63636364, 0.97101449, 0.8       ],\n",
              "       [0.79746835, 0.61363636, 0.71014493, 0.72      ],\n",
              "       [0.84810127, 0.75      , 0.82608696, 0.84      ],\n",
              "       [0.91139241, 0.72727273, 0.86956522, 0.72      ],\n",
              "       [0.78481013, 0.63636364, 0.69565217, 0.72      ],\n",
              "       [0.7721519 , 0.68181818, 0.71014493, 0.72      ],\n",
              "       [0.81012658, 0.63636364, 0.8115942 , 0.84      ],\n",
              "       [0.91139241, 0.68181818, 0.84057971, 0.64      ],\n",
              "       [0.93670886, 0.63636364, 0.88405797, 0.76      ],\n",
              "       [1.        , 0.86363636, 0.92753623, 0.8       ],\n",
              "       [0.81012658, 0.63636364, 0.8115942 , 0.88      ],\n",
              "       [0.79746835, 0.63636364, 0.73913043, 0.6       ],\n",
              "       [0.7721519 , 0.59090909, 0.8115942 , 0.56      ],\n",
              "       [0.97468354, 0.68181818, 0.88405797, 0.92      ],\n",
              "       [0.79746835, 0.77272727, 0.8115942 , 0.96      ],\n",
              "       [0.81012658, 0.70454545, 0.79710145, 0.72      ],\n",
              "       [0.75949367, 0.68181818, 0.69565217, 0.72      ],\n",
              "       [0.87341772, 0.70454545, 0.7826087 , 0.84      ],\n",
              "       [0.84810127, 0.70454545, 0.8115942 , 0.96      ],\n",
              "       [0.87341772, 0.70454545, 0.73913043, 0.92      ],\n",
              "       [0.73417722, 0.61363636, 0.73913043, 0.76      ],\n",
              "       [0.86075949, 0.72727273, 0.85507246, 0.92      ],\n",
              "       [0.84810127, 0.75      , 0.82608696, 1.        ],\n",
              "       [0.84810127, 0.68181818, 0.75362319, 0.92      ],\n",
              "       [0.79746835, 0.56818182, 0.72463768, 0.76      ],\n",
              "       [0.82278481, 0.68181818, 0.75362319, 0.8       ],\n",
              "       [0.78481013, 0.77272727, 0.7826087 , 0.92      ],\n",
              "       [0.74683544, 0.68181818, 0.73913043, 0.72      ]])"
            ]
          },
          "metadata": {
            "tags": []
          },
          "execution_count": 19
        }
      ]
    },
    {
      "cell_type": "code",
      "metadata": {
        "colab": {
          "base_uri": "https://localhost:8080/"
        },
        "id": "aUyIADYUpTPF",
        "outputId": "3ff0ec8a-9a26-440c-a39d-2c8be2bd6d46"
      },
      "source": [
        "Y"
      ],
      "execution_count": null,
      "outputs": [
        {
          "output_type": "execute_result",
          "data": {
            "text/plain": [
              "array(['Setosa', 'Setosa', 'Setosa', 'Setosa', 'Setosa', 'Setosa',\n",
              "       'Setosa', 'Setosa', 'Setosa', 'Setosa', 'Setosa', 'Setosa',\n",
              "       'Setosa', 'Setosa', 'Setosa', 'Setosa', 'Setosa', 'Setosa',\n",
              "       'Setosa', 'Setosa', 'Setosa', 'Setosa', 'Setosa', 'Setosa',\n",
              "       'Setosa', 'Setosa', 'Setosa', 'Setosa', 'Setosa', 'Setosa',\n",
              "       'Setosa', 'Setosa', 'Setosa', 'Setosa', 'Setosa', 'Setosa',\n",
              "       'Setosa', 'Setosa', 'Setosa', 'Setosa', 'Setosa', 'Setosa',\n",
              "       'Setosa', 'Setosa', 'Setosa', 'Setosa', 'Setosa', 'Setosa',\n",
              "       'Setosa', 'Setosa', 'Versicolor', 'Versicolor', 'Versicolor',\n",
              "       'Versicolor', 'Versicolor', 'Versicolor', 'Versicolor',\n",
              "       'Versicolor', 'Versicolor', 'Versicolor', 'Versicolor',\n",
              "       'Versicolor', 'Versicolor', 'Versicolor', 'Versicolor',\n",
              "       'Versicolor', 'Versicolor', 'Versicolor', 'Versicolor',\n",
              "       'Versicolor', 'Versicolor', 'Versicolor', 'Versicolor',\n",
              "       'Versicolor', 'Versicolor', 'Versicolor', 'Versicolor',\n",
              "       'Versicolor', 'Versicolor', 'Versicolor', 'Versicolor',\n",
              "       'Versicolor', 'Versicolor', 'Versicolor', 'Versicolor',\n",
              "       'Versicolor', 'Versicolor', 'Versicolor', 'Versicolor',\n",
              "       'Versicolor', 'Versicolor', 'Versicolor', 'Versicolor',\n",
              "       'Versicolor', 'Versicolor', 'Versicolor', 'Versicolor',\n",
              "       'Versicolor', 'Versicolor', 'Versicolor', 'Virginica', 'Virginica',\n",
              "       'Virginica', 'Virginica', 'Virginica', 'Virginica', 'Virginica',\n",
              "       'Virginica', 'Virginica', 'Virginica', 'Virginica', 'Virginica',\n",
              "       'Virginica', 'Virginica', 'Virginica', 'Virginica', 'Virginica',\n",
              "       'Virginica', 'Virginica', 'Virginica', 'Virginica', 'Virginica',\n",
              "       'Virginica', 'Virginica', 'Virginica', 'Virginica', 'Virginica',\n",
              "       'Virginica', 'Virginica', 'Virginica', 'Virginica', 'Virginica',\n",
              "       'Virginica', 'Virginica', 'Virginica', 'Virginica', 'Virginica',\n",
              "       'Virginica', 'Virginica', 'Virginica', 'Virginica', 'Virginica',\n",
              "       'Virginica', 'Virginica', 'Virginica', 'Virginica', 'Virginica',\n",
              "       'Virginica', 'Virginica', 'Virginica'], dtype=object)"
            ]
          },
          "metadata": {
            "tags": []
          },
          "execution_count": 14
        }
      ]
    },
    {
      "cell_type": "code",
      "metadata": {
        "id": "1FFz7fGJuX67"
      },
      "source": [
        "# encode class values as integers\n",
        "encoder = LabelEncoder()\n",
        "encoder.fit(Y)\n",
        "encoded_Y = encoder.transform(Y)\n",
        "# convert integers to dummy variables \n",
        "dummy_y = np_utils.to_categorical(encoded_Y)"
      ],
      "execution_count": 20,
      "outputs": []
    },
    {
      "cell_type": "code",
      "metadata": {
        "colab": {
          "base_uri": "https://localhost:8080/"
        },
        "id": "i6MjFXgVUgZa",
        "outputId": "af1ccc72-db54-4ca5-8c2d-edb8487173d4"
      },
      "source": [
        "dummy_y"
      ],
      "execution_count": 21,
      "outputs": [
        {
          "output_type": "execute_result",
          "data": {
            "text/plain": [
              "array([[1., 0., 0.],\n",
              "       [1., 0., 0.],\n",
              "       [1., 0., 0.],\n",
              "       [1., 0., 0.],\n",
              "       [1., 0., 0.],\n",
              "       [1., 0., 0.],\n",
              "       [1., 0., 0.],\n",
              "       [1., 0., 0.],\n",
              "       [1., 0., 0.],\n",
              "       [1., 0., 0.],\n",
              "       [1., 0., 0.],\n",
              "       [1., 0., 0.],\n",
              "       [1., 0., 0.],\n",
              "       [1., 0., 0.],\n",
              "       [1., 0., 0.],\n",
              "       [1., 0., 0.],\n",
              "       [1., 0., 0.],\n",
              "       [1., 0., 0.],\n",
              "       [1., 0., 0.],\n",
              "       [1., 0., 0.],\n",
              "       [1., 0., 0.],\n",
              "       [1., 0., 0.],\n",
              "       [1., 0., 0.],\n",
              "       [1., 0., 0.],\n",
              "       [1., 0., 0.],\n",
              "       [1., 0., 0.],\n",
              "       [1., 0., 0.],\n",
              "       [1., 0., 0.],\n",
              "       [1., 0., 0.],\n",
              "       [1., 0., 0.],\n",
              "       [1., 0., 0.],\n",
              "       [1., 0., 0.],\n",
              "       [1., 0., 0.],\n",
              "       [1., 0., 0.],\n",
              "       [1., 0., 0.],\n",
              "       [1., 0., 0.],\n",
              "       [1., 0., 0.],\n",
              "       [1., 0., 0.],\n",
              "       [1., 0., 0.],\n",
              "       [1., 0., 0.],\n",
              "       [1., 0., 0.],\n",
              "       [1., 0., 0.],\n",
              "       [1., 0., 0.],\n",
              "       [1., 0., 0.],\n",
              "       [1., 0., 0.],\n",
              "       [1., 0., 0.],\n",
              "       [1., 0., 0.],\n",
              "       [1., 0., 0.],\n",
              "       [1., 0., 0.],\n",
              "       [1., 0., 0.],\n",
              "       [0., 1., 0.],\n",
              "       [0., 1., 0.],\n",
              "       [0., 1., 0.],\n",
              "       [0., 1., 0.],\n",
              "       [0., 1., 0.],\n",
              "       [0., 1., 0.],\n",
              "       [0., 1., 0.],\n",
              "       [0., 1., 0.],\n",
              "       [0., 1., 0.],\n",
              "       [0., 1., 0.],\n",
              "       [0., 1., 0.],\n",
              "       [0., 1., 0.],\n",
              "       [0., 1., 0.],\n",
              "       [0., 1., 0.],\n",
              "       [0., 1., 0.],\n",
              "       [0., 1., 0.],\n",
              "       [0., 1., 0.],\n",
              "       [0., 1., 0.],\n",
              "       [0., 1., 0.],\n",
              "       [0., 1., 0.],\n",
              "       [0., 1., 0.],\n",
              "       [0., 1., 0.],\n",
              "       [0., 1., 0.],\n",
              "       [0., 1., 0.],\n",
              "       [0., 1., 0.],\n",
              "       [0., 1., 0.],\n",
              "       [0., 1., 0.],\n",
              "       [0., 1., 0.],\n",
              "       [0., 1., 0.],\n",
              "       [0., 1., 0.],\n",
              "       [0., 1., 0.],\n",
              "       [0., 1., 0.],\n",
              "       [0., 1., 0.],\n",
              "       [0., 1., 0.],\n",
              "       [0., 1., 0.],\n",
              "       [0., 1., 0.],\n",
              "       [0., 1., 0.],\n",
              "       [0., 1., 0.],\n",
              "       [0., 1., 0.],\n",
              "       [0., 1., 0.],\n",
              "       [0., 1., 0.],\n",
              "       [0., 1., 0.],\n",
              "       [0., 1., 0.],\n",
              "       [0., 1., 0.],\n",
              "       [0., 1., 0.],\n",
              "       [0., 1., 0.],\n",
              "       [0., 1., 0.],\n",
              "       [0., 1., 0.],\n",
              "       [0., 1., 0.],\n",
              "       [0., 1., 0.],\n",
              "       [0., 0., 1.],\n",
              "       [0., 0., 1.],\n",
              "       [0., 0., 1.],\n",
              "       [0., 0., 1.],\n",
              "       [0., 0., 1.],\n",
              "       [0., 0., 1.],\n",
              "       [0., 0., 1.],\n",
              "       [0., 0., 1.],\n",
              "       [0., 0., 1.],\n",
              "       [0., 0., 1.],\n",
              "       [0., 0., 1.],\n",
              "       [0., 0., 1.],\n",
              "       [0., 0., 1.],\n",
              "       [0., 0., 1.],\n",
              "       [0., 0., 1.],\n",
              "       [0., 0., 1.],\n",
              "       [0., 0., 1.],\n",
              "       [0., 0., 1.],\n",
              "       [0., 0., 1.],\n",
              "       [0., 0., 1.],\n",
              "       [0., 0., 1.],\n",
              "       [0., 0., 1.],\n",
              "       [0., 0., 1.],\n",
              "       [0., 0., 1.],\n",
              "       [0., 0., 1.],\n",
              "       [0., 0., 1.],\n",
              "       [0., 0., 1.],\n",
              "       [0., 0., 1.],\n",
              "       [0., 0., 1.],\n",
              "       [0., 0., 1.],\n",
              "       [0., 0., 1.],\n",
              "       [0., 0., 1.],\n",
              "       [0., 0., 1.],\n",
              "       [0., 0., 1.],\n",
              "       [0., 0., 1.],\n",
              "       [0., 0., 1.],\n",
              "       [0., 0., 1.],\n",
              "       [0., 0., 1.],\n",
              "       [0., 0., 1.],\n",
              "       [0., 0., 1.],\n",
              "       [0., 0., 1.],\n",
              "       [0., 0., 1.],\n",
              "       [0., 0., 1.],\n",
              "       [0., 0., 1.],\n",
              "       [0., 0., 1.],\n",
              "       [0., 0., 1.],\n",
              "       [0., 0., 1.],\n",
              "       [0., 0., 1.],\n",
              "       [0., 0., 1.],\n",
              "       [0., 0., 1.]], dtype=float32)"
            ]
          },
          "metadata": {
            "tags": []
          },
          "execution_count": 21
        }
      ]
    },
    {
      "cell_type": "code",
      "metadata": {
        "id": "3VJKPzFNSrCA"
      },
      "source": [
        "from keras.callbacks import ModelCheckpoint, EarlyStopping, ReduceLROnPlateau, TensorBoard\n",
        "\n",
        "checkpoint = ModelCheckpoint('best_model.h5', save_best_only=True, monitor=\"accuracy\")\n",
        "early_stopping = EarlyStopping(monitor=\"accuracy\", patience=10, min_delta=10000)\n",
        "reduce_lr = ReduceLROnPlateau(monitor=\"accuracy\", factor=0.5, patience=10, min_delta=100000)\n",
        "#tensorboard = TensorBoard(\"logs\") #W&B"
      ],
      "execution_count": null,
      "outputs": []
    },
    {
      "cell_type": "code",
      "metadata": {
        "id": "pdDgwwaDzybA"
      },
      "source": [
        "# define baseline model\n",
        "def baseline_model():\n",
        "\t# create model\n",
        "\tmodel = Sequential()\n",
        "\tmodel.add(Dense(8, input_dim=4, activation='relu', kernel_regularizer='l1', bias_regularizer='l2', activity_regularizer='l1_l2'))\n",
        "\tmodel.add(Dense(3, activation='softmax'))\n",
        "\t# Compile model\n",
        "\tmodel.compile(loss='categorical_crossentropy', optimizer='adam', metrics=['accuracy'])\n",
        "\treturn model"
      ],
      "execution_count": null,
      "outputs": []
    },
    {
      "cell_type": "code",
      "metadata": {
        "colab": {
          "base_uri": "https://localhost:8080/"
        },
        "id": "R6NGvR8Q8t-x",
        "outputId": "bce3aa56-9304-4812-d915-8d5968ae4c03"
      },
      "source": [
        "hist = baseline_model().fit(X, dummy_y, batch_size=5, epochs=100, verbose=2,callbacks=[checkpoint, early_stopping, reduce_lr])\n",
        "                 "
      ],
      "execution_count": null,
      "outputs": [
        {
          "output_type": "stream",
          "text": [
            "Epoch 1/100\n",
            "30/30 - 0s - loss: 1.2072 - accuracy: 0.3333\n",
            "Epoch 2/100\n",
            "30/30 - 0s - loss: 1.1942 - accuracy: 0.3333\n",
            "Epoch 3/100\n",
            "30/30 - 0s - loss: 1.1838 - accuracy: 0.3333\n",
            "Epoch 4/100\n",
            "30/30 - 0s - loss: 1.1729 - accuracy: 0.3333\n",
            "Epoch 5/100\n",
            "30/30 - 0s - loss: 1.1631 - accuracy: 0.3400\n",
            "Epoch 6/100\n",
            "30/30 - 0s - loss: 1.1536 - accuracy: 0.2133\n",
            "Epoch 7/100\n",
            "30/30 - 0s - loss: 1.1440 - accuracy: 0.4600\n",
            "Epoch 8/100\n",
            "30/30 - 0s - loss: 1.1348 - accuracy: 0.5000\n",
            "Epoch 9/100\n",
            "30/30 - 0s - loss: 1.1262 - accuracy: 0.5400\n",
            "Epoch 10/100\n",
            "30/30 - 0s - loss: 1.1176 - accuracy: 0.6333\n",
            "Epoch 11/100\n",
            "30/30 - 0s - loss: 1.1082 - accuracy: 0.8133\n"
          ],
          "name": "stdout"
        }
      ]
    },
    {
      "cell_type": "code",
      "metadata": {
        "id": "E2J4PvOS14K2"
      },
      "source": [
        "estimator = KerasClassifier(build_fn=baseline_model, epochs=200, batch_size=5, verbose=0)"
      ],
      "execution_count": null,
      "outputs": []
    },
    {
      "cell_type": "code",
      "metadata": {
        "id": "X-LOyxbAlTNs"
      },
      "source": [
        "kfold = KFold(n_splits=10, shuffle=True)"
      ],
      "execution_count": null,
      "outputs": []
    },
    {
      "cell_type": "code",
      "metadata": {
        "colab": {
          "base_uri": "https://localhost:8080/"
        },
        "id": "bTdHmLcxvPo8",
        "outputId": "c52947f7-67a5-49f4-be2e-8bd9035a0fbf"
      },
      "source": [
        "results = cross_val_score(estimator, X, dummy_y, cv=kfold)\n",
        "results.mean()"
      ],
      "execution_count": null,
      "outputs": [
        {
          "output_type": "stream",
          "text": [
            "WARNING:tensorflow:5 out of the last 13 calls to <function Model.make_test_function.<locals>.test_function at 0x7fc965c78730> triggered tf.function retracing. Tracing is expensive and the excessive number of tracings could be due to (1) creating @tf.function repeatedly in a loop, (2) passing tensors with different shapes, (3) passing Python objects instead of tensors. For (1), please define your @tf.function outside of the loop. For (2), @tf.function has experimental_relax_shapes=True option that relaxes argument shapes that can avoid unnecessary retracing. For (3), please refer to https://www.tensorflow.org/tutorials/customization/performance#python_or_tensor_args and https://www.tensorflow.org/api_docs/python/tf/function for  more details.\n",
            "WARNING:tensorflow:5 out of the last 13 calls to <function Model.make_test_function.<locals>.test_function at 0x7fc969ad0400> triggered tf.function retracing. Tracing is expensive and the excessive number of tracings could be due to (1) creating @tf.function repeatedly in a loop, (2) passing tensors with different shapes, (3) passing Python objects instead of tensors. For (1), please define your @tf.function outside of the loop. For (2), @tf.function has experimental_relax_shapes=True option that relaxes argument shapes that can avoid unnecessary retracing. For (3), please refer to https://www.tensorflow.org/tutorials/customization/performance#python_or_tensor_args and https://www.tensorflow.org/api_docs/python/tf/function for  more details.\n",
            "WARNING:tensorflow:5 out of the last 13 calls to <function Model.make_test_function.<locals>.test_function at 0x7fc968efa840> triggered tf.function retracing. Tracing is expensive and the excessive number of tracings could be due to (1) creating @tf.function repeatedly in a loop, (2) passing tensors with different shapes, (3) passing Python objects instead of tensors. For (1), please define your @tf.function outside of the loop. For (2), @tf.function has experimental_relax_shapes=True option that relaxes argument shapes that can avoid unnecessary retracing. For (3), please refer to https://www.tensorflow.org/tutorials/customization/performance#python_or_tensor_args and https://www.tensorflow.org/api_docs/python/tf/function for  more details.\n",
            "WARNING:tensorflow:5 out of the last 13 calls to <function Model.make_test_function.<locals>.test_function at 0x7fc968c01950> triggered tf.function retracing. Tracing is expensive and the excessive number of tracings could be due to (1) creating @tf.function repeatedly in a loop, (2) passing tensors with different shapes, (3) passing Python objects instead of tensors. For (1), please define your @tf.function outside of the loop. For (2), @tf.function has experimental_relax_shapes=True option that relaxes argument shapes that can avoid unnecessary retracing. For (3), please refer to https://www.tensorflow.org/tutorials/customization/performance#python_or_tensor_args and https://www.tensorflow.org/api_docs/python/tf/function for  more details.\n",
            "WARNING:tensorflow:5 out of the last 13 calls to <function Model.make_test_function.<locals>.test_function at 0x7fc965594598> triggered tf.function retracing. Tracing is expensive and the excessive number of tracings could be due to (1) creating @tf.function repeatedly in a loop, (2) passing tensors with different shapes, (3) passing Python objects instead of tensors. For (1), please define your @tf.function outside of the loop. For (2), @tf.function has experimental_relax_shapes=True option that relaxes argument shapes that can avoid unnecessary retracing. For (3), please refer to https://www.tensorflow.org/tutorials/customization/performance#python_or_tensor_args and https://www.tensorflow.org/api_docs/python/tf/function for  more details.\n",
            "WARNING:tensorflow:5 out of the last 13 calls to <function Model.make_test_function.<locals>.test_function at 0x7fc968b3d1e0> triggered tf.function retracing. Tracing is expensive and the excessive number of tracings could be due to (1) creating @tf.function repeatedly in a loop, (2) passing tensors with different shapes, (3) passing Python objects instead of tensors. For (1), please define your @tf.function outside of the loop. For (2), @tf.function has experimental_relax_shapes=True option that relaxes argument shapes that can avoid unnecessary retracing. For (3), please refer to https://www.tensorflow.org/tutorials/customization/performance#python_or_tensor_args and https://www.tensorflow.org/api_docs/python/tf/function for  more details.\n",
            "WARNING:tensorflow:5 out of the last 13 calls to <function Model.make_test_function.<locals>.test_function at 0x7fc9662d8840> triggered tf.function retracing. Tracing is expensive and the excessive number of tracings could be due to (1) creating @tf.function repeatedly in a loop, (2) passing tensors with different shapes, (3) passing Python objects instead of tensors. For (1), please define your @tf.function outside of the loop. For (2), @tf.function has experimental_relax_shapes=True option that relaxes argument shapes that can avoid unnecessary retracing. For (3), please refer to https://www.tensorflow.org/tutorials/customization/performance#python_or_tensor_args and https://www.tensorflow.org/api_docs/python/tf/function for  more details.\n",
            "WARNING:tensorflow:5 out of the last 13 calls to <function Model.make_test_function.<locals>.test_function at 0x7fc968f41b70> triggered tf.function retracing. Tracing is expensive and the excessive number of tracings could be due to (1) creating @tf.function repeatedly in a loop, (2) passing tensors with different shapes, (3) passing Python objects instead of tensors. For (1), please define your @tf.function outside of the loop. For (2), @tf.function has experimental_relax_shapes=True option that relaxes argument shapes that can avoid unnecessary retracing. For (3), please refer to https://www.tensorflow.org/tutorials/customization/performance#python_or_tensor_args and https://www.tensorflow.org/api_docs/python/tf/function for  more details.\n",
            "WARNING:tensorflow:5 out of the last 13 calls to <function Model.make_test_function.<locals>.test_function at 0x7fc9691f4a60> triggered tf.function retracing. Tracing is expensive and the excessive number of tracings could be due to (1) creating @tf.function repeatedly in a loop, (2) passing tensors with different shapes, (3) passing Python objects instead of tensors. For (1), please define your @tf.function outside of the loop. For (2), @tf.function has experimental_relax_shapes=True option that relaxes argument shapes that can avoid unnecessary retracing. For (3), please refer to https://www.tensorflow.org/tutorials/customization/performance#python_or_tensor_args and https://www.tensorflow.org/api_docs/python/tf/function for  more details.\n",
            "WARNING:tensorflow:5 out of the last 13 calls to <function Model.make_test_function.<locals>.test_function at 0x7fc9632470d0> triggered tf.function retracing. Tracing is expensive and the excessive number of tracings could be due to (1) creating @tf.function repeatedly in a loop, (2) passing tensors with different shapes, (3) passing Python objects instead of tensors. For (1), please define your @tf.function outside of the loop. For (2), @tf.function has experimental_relax_shapes=True option that relaxes argument shapes that can avoid unnecessary retracing. For (3), please refer to https://www.tensorflow.org/tutorials/customization/performance#python_or_tensor_args and https://www.tensorflow.org/api_docs/python/tf/function for  more details.\n"
          ],
          "name": "stdout"
        },
        {
          "output_type": "execute_result",
          "data": {
            "text/plain": [
              "0.9600000023841858"
            ]
          },
          "metadata": {
            "tags": []
          },
          "execution_count": 154
        }
      ]
    },
    {
      "cell_type": "code",
      "metadata": {
        "id": "RBn6fw0e9l-N"
      },
      "source": [
        "losses = hist.history['loss']\n",
        "epochs = hist.epoch"
      ],
      "execution_count": null,
      "outputs": []
    },
    {
      "cell_type": "code",
      "metadata": {
        "colab": {
          "base_uri": "https://localhost:8080/",
          "height": 295
        },
        "id": "KsAOOFil92ml",
        "outputId": "750d8312-87ba-4d98-c0de-cc029bab2bd6"
      },
      "source": [
        "plt.plot(epochs, losses)\n",
        "plt.xlabel(\"epochs\")\n",
        "plt.ylabel('losses')\n",
        "plt.title('Loss per Epoch')\n",
        "plt.show()"
      ],
      "execution_count": null,
      "outputs": [
        {
          "output_type": "display_data",
          "data": {
            "image/png": "[encoded data removed]",
            "text/plain": [
              "<Figure size 432x288 with 1 Axes>"
            ]
          },
          "metadata": {
            "tags": [],
            "needs_background": "light"
          }
        }
      ]
    },
    {
      "cell_type": "code",
      "metadata": {
        "colab": {
          "base_uri": "https://localhost:8080/",
          "height": 295
        },
        "id": "bFZ-p5Daeluq",
        "outputId": "8393eeb2-9773-451e-8625-63e99a1e9496"
      },
      "source": [
        "plt.plot(epochs[75:], losses[75:])\n",
        "plt.xlabel(\"epochs\")\n",
        "plt.ylabel('losses')\n",
        "plt.title('Loss per Epoch')\n",
        "plt.show()"
      ],
      "execution_count": null,
      "outputs": [
        {
          "output_type": "display_data",
          "data": {
            "image/png": "[encoded data removed]",
            "text/plain": [
              "<Figure size 432x288 with 1 Axes>"
            ]
          },
          "metadata": {
            "tags": []
          }
        }
      ]
    },
    {
      "cell_type": "code",
      "metadata": {
        "id": "njgpTYaf_frh"
      },
      "source": [
        "preds=baseline_model().predict_classes(X) "
      ],
      "execution_count": null,
      "outputs": []
    },
    {
      "cell_type": "code",
      "metadata": {
        "colab": {
          "base_uri": "https://localhost:8080/"
        },
        "id": "sWowULTbsMHj",
        "outputId": "d36976df-f237-4114-864f-f80337c86c04"
      },
      "source": [
        "from sklearn.metrics import confusion_matrix\n",
        "conf_mat = confusion_matrix(dummy_y, preds,normalize='true')\n",
        "print(conf_mat)"
      ],
      "execution_count": null,
      "outputs": [
        {
          "output_type": "stream",
          "text": [
            "[[0.   0.   1.  ]\n",
            " [0.32 0.   0.68]\n",
            " [1.   0.   0.  ]]\n"
          ],
          "name": "stdout"
        }
      ]
    },
    {
      "cell_type": "markdown",
      "metadata": {
        "id": "LgWw9tfKSYNO"
      },
      "source": [
        "**Benchmark:** \n",
        "\n",
        "Accuracy avant :0.7200000166893006\n",
        "\n",
        "1/checkpoint: 0.7000000178813934\n",
        "\n",
        "2/early_stopping : 0.7066666811704636\n",
        "\n",
        "3/checkpoint +early_stopping: 0.6733333528041839\n",
        "\n",
        "4/régularisation :0.9066666722297668\n",
        "\n",
        "5/checkpoint+early_stopping+régularisation :0.9333333373069763\n",
        "\n",
        "6/checkpoint+early_stopping+régularisation+reduce_lr: 0.9600000023841858\n",
        "\n",
        "7/régularisation+reduce_lr: 0.9333333373069763"
      ]
    },
    {
      "cell_type": "markdown",
      "metadata": {
        "id": "Ac5p22wQpX0p"
      },
      "source": [
        "Le meilleur résultat obtenu est **0.9600000023841858**\n",
        "les techniques utilisées :\n",
        "\n",
        "1/checkpoint = ModelCheckpoint('best_model.h5', save_best_only=True, monitor=\"accuracy\")\n",
        "\n",
        "2/early_stopping = EarlyStopping(monitor=\"accuracy\", patience=16, min_delta=10000)\n",
        "\n",
        "3/reduce_lr = ReduceLROnPlateau(monitor=\"loss\", factor=0.5, patience=10, min_delta=100000)\n",
        "\n",
        "4/model.add(Dense(8, input_dim=4, activation='relu', kernel_regularizer='l1', bias_regularizer='l2', activity_regularizer='l1_l2'))"
      ]
    },
    {
      "cell_type": "markdown",
      "metadata": {
        "id": "YOtOeZF6EVDI"
      },
      "source": [
        "**Refaire le TP avec Keras Tuner**"
      ]
    },
    {
      "cell_type": "code",
      "metadata": {
        "id": "ADwB2o-4EgQE"
      },
      "source": [
        "import tensorflow as tf\r\n",
        "from tensorflow import keras\r\n",
        "\r\n",
        "import IPython"
      ],
      "execution_count": 1,
      "outputs": []
    },
    {
      "cell_type": "code",
      "metadata": {
        "colab": {
          "base_uri": "https://localhost:8080/"
        },
        "id": "Q0Iv7DW9EjWA",
        "outputId": "2e01fd2f-e141-41b5-c1c8-0e6fd8608cff"
      },
      "source": [
        "!pip install -U keras-tuner\r\n",
        "import kerastuner as kt"
      ],
      "execution_count": 2,
      "outputs": [
        {
          "output_type": "stream",
          "text": [
            "Collecting keras-tuner\n",
            "\u001b[?25l  Downloading https://files.pythonhosted.org/packages/20/ec/1ef246787174b1e2bb591c95f29d3c1310070cad877824f907faba3dade9/keras-tuner-1.0.2.tar.gz (62kB)\n",
            "\r\u001b[K     |█████▏                          | 10kB 17.4MB/s eta 0:00:01\r\u001b[K     |██████████▍                     | 20kB 12.4MB/s eta 0:00:01\r\u001b[K     |███████████████▋                | 30kB 8.3MB/s eta 0:00:01\r\u001b[K     |████████████████████▉           | 40kB 8.3MB/s eta 0:00:01\r\u001b[K     |██████████████████████████      | 51kB 4.5MB/s eta 0:00:01\r\u001b[K     |███████████████████████████████▎| 61kB 5.1MB/s eta 0:00:01\r\u001b[K     |████████████████████████████████| 71kB 3.6MB/s \n",
            "\u001b[?25hRequirement already satisfied, skipping upgrade: packaging in /usr/local/lib/python3.6/dist-packages (from keras-tuner) (20.7)\n",
            "Requirement already satisfied, skipping upgrade: future in /usr/local/lib/python3.6/dist-packages (from keras-tuner) (0.16.0)\n",
            "Requirement already satisfied, skipping upgrade: numpy in /usr/local/lib/python3.6/dist-packages (from keras-tuner) (1.18.5)\n",
            "Requirement already satisfied, skipping upgrade: tabulate in /usr/local/lib/python3.6/dist-packages (from keras-tuner) (0.8.7)\n",
            "Collecting terminaltables\n",
            "  Downloading https://files.pythonhosted.org/packages/9b/c4/4a21174f32f8a7e1104798c445dacdc1d4df86f2f26722767034e4de4bff/terminaltables-3.1.0.tar.gz\n",
            "Collecting colorama\n",
            "  Downloading https://files.pythonhosted.org/packages/44/98/5b86278fbbf250d239ae0ecb724f8572af1c91f4a11edf4d36a206189440/colorama-0.4.4-py2.py3-none-any.whl\n",
            "Requirement already satisfied, skipping upgrade: tqdm in /usr/local/lib/python3.6/dist-packages (from keras-tuner) (4.41.1)\n",
            "Requirement already satisfied, skipping upgrade: requests in /usr/local/lib/python3.6/dist-packages (from keras-tuner) (2.23.0)\n",
            "Requirement already satisfied, skipping upgrade: scipy in /usr/local/lib/python3.6/dist-packages (from keras-tuner) (1.4.1)\n",
            "Requirement already satisfied, skipping upgrade: scikit-learn in /usr/local/lib/python3.6/dist-packages (from keras-tuner) (0.22.2.post1)\n",
            "Requirement already satisfied, skipping upgrade: pyparsing>=2.0.2 in /usr/local/lib/python3.6/dist-packages (from packaging->keras-tuner) (2.4.7)\n",
            "Requirement already satisfied, skipping upgrade: idna<3,>=2.5 in /usr/local/lib/python3.6/dist-packages (from requests->keras-tuner) (2.10)\n",
            "Requirement already satisfied, skipping upgrade: certifi>=2017.4.17 in /usr/local/lib/python3.6/dist-packages (from requests->keras-tuner) (2020.12.5)\n",
            "Requirement already satisfied, skipping upgrade: urllib3!=1.25.0,!=1.25.1,<1.26,>=1.21.1 in /usr/local/lib/python3.6/dist-packages (from requests->keras-tuner) (1.24.3)\n",
            "Requirement already satisfied, skipping upgrade: chardet<4,>=3.0.2 in /usr/local/lib/python3.6/dist-packages (from requests->keras-tuner) (3.0.4)\n",
            "Requirement already satisfied, skipping upgrade: joblib>=0.11 in /usr/local/lib/python3.6/dist-packages (from scikit-learn->keras-tuner) (0.17.0)\n",
            "Building wheels for collected packages: keras-tuner, terminaltables\n",
            "  Building wheel for keras-tuner (setup.py) ... \u001b[?25l\u001b[?25hdone\n",
            "  Created wheel for keras-tuner: filename=keras_tuner-1.0.2-cp36-none-any.whl size=78939 sha256=27f54fda383ebc318b2a4bf2908358ee0fcdbc08c883de483b434c64e8e557d5\n",
            "  Stored in directory: /root/.cache/pip/wheels/bb/a1/8a/7c3de0efb3707a1701b36ebbfdbc4e67aedf6d4943a1f463d6\n",
            "  Building wheel for terminaltables (setup.py) ... \u001b[?25l\u001b[?25hdone\n",
            "  Created wheel for terminaltables: filename=terminaltables-3.1.0-cp36-none-any.whl size=15357 sha256=06381e613af2d7e70c7950ae24d5e96067fb4ad3c9e15c8cd260406fd4d54563\n",
            "  Stored in directory: /root/.cache/pip/wheels/30/6b/50/6c75775b681fb36cdfac7f19799888ef9d8813aff9e379663e\n",
            "Successfully built keras-tuner terminaltables\n",
            "Installing collected packages: terminaltables, colorama, keras-tuner\n",
            "Successfully installed colorama-0.4.4 keras-tuner-1.0.2 terminaltables-3.1.0\n"
          ],
          "name": "stdout"
        }
      ]
    },
    {
      "cell_type": "code",
      "metadata": {
        "id": "2ELDZq02E7c6"
      },
      "source": [
        "def model_builder(hp):\r\n",
        "  model = keras.Sequential()\r\n",
        "  \r\n",
        "  # Tune the number of units in the first Dense layer\r\n",
        "  # Choose an optimal value between 32-512\r\n",
        "  hp_units = hp.Int('units', min_value = 32, max_value = 512, step = 32)\r\n",
        "  model.add(keras.layers.Dense(units = hp_units, activation = 'softmax'))\r\n",
        "  model.add(keras.layers.Dense(10))\r\n",
        "\r\n",
        "  # Tune the learning rate for the optimizer \r\n",
        "  # Choose an optimal value from 0.01, 0.001, or 0.0001\r\n",
        "  hp_learning_rate = hp.Choice('learning_rate', values = [1e-2, 1e-3, 1e-4]) \r\n",
        "  \r\n",
        "  model.compile(optimizer = keras.optimizers.Adam(learning_rate = hp_learning_rate),\r\n",
        "                loss = keras.losses.SparseCategoricalCrossentropy(from_logits = True), \r\n",
        "                metrics = ['accuracy'])\r\n",
        "  \r\n",
        "  return model"
      ],
      "execution_count": 65,
      "outputs": []
    },
    {
      "cell_type": "code",
      "metadata": {
        "colab": {
          "base_uri": "https://localhost:8080/"
        },
        "id": "6CFQy5m1HIbl",
        "outputId": "6b7d70b8-4181-4efb-f39f-8cab0fa98063"
      },
      "source": [
        "tuner = kt.Hyperband(model_builder,\r\n",
        "                     objective = 'accuracy', \r\n",
        "                     max_epochs = 10,\r\n",
        "                     factor = 3,\r\n",
        "                     directory = 'my_dir',\r\n",
        "                     project_name = 'intro_to_kt')   "
      ],
      "execution_count": 77,
      "outputs": [
        {
          "output_type": "stream",
          "text": [
            "INFO:tensorflow:Reloading Oracle from existing project my_dir/intro_to_kt/oracle.json\n"
          ],
          "name": "stdout"
        }
      ]
    },
    {
      "cell_type": "code",
      "metadata": {
        "id": "_F6CFEFRHWFa"
      },
      "source": [
        "class ClearTrainingOutput(tf.keras.callbacks.Callback):\r\n",
        "  def on_train_end(*args, **kwargs):\r\n",
        "    IPython.display.clear_output(wait = True)"
      ],
      "execution_count": 78,
      "outputs": []
    },
    {
      "cell_type": "code",
      "metadata": {
        "id": "Dg424S_uK9uj"
      },
      "source": [
        "X = X.reshape(1,-1)\r\n",
        "dummy_y = dummy_y.reshape(1,-1)\r\n"
      ],
      "execution_count": 75,
      "outputs": []
    },
    {
      "cell_type": "code",
      "metadata": {
        "colab": {
          "base_uri": "https://localhost:8080/"
        },
        "id": "09hO7gHxHa81",
        "outputId": "4ce73829-4b12-42a3-8bdc-a0063799d736"
      },
      "source": [
        "tuner.search(X, dummy_y, epochs = 10, callbacks = [ClearTrainingOutput()])\r\n",
        "\r\n",
        "# Get the optimal hyperparameters\r\n",
        "best_hps = tuner.get_best_hyperparameters(num_trials = 1)[0]\r\n",
        "\r\n",
        "print(f\"\"\"\r\n",
        "The hyperparameter search is complete. The optimal number of units in the first densely-connected\r\n",
        "layer is {best_hps.get('units')} and the optimal learning rate for the optimizer\r\n",
        "is {best_hps.get('learning_rate')}.\r\n",
        "\"\"\")\r\n",
        "\r\n"
      ],
      "execution_count": 79,
      "outputs": [
        {
          "output_type": "stream",
          "text": [
            "Trial 30 Complete [00h 00m 00s]\n",
            "accuracy: 0.0\n",
            "\n",
            "Best accuracy So Far: 1.0\n",
            "Total elapsed time: 00h 00m 14s\n",
            "INFO:tensorflow:Oracle triggered exit\n",
            "\n",
            "The hyperparameter search is complete. The optimal number of units in the first densely-connected\n",
            "layer is 160 and the optimal learning rate for the optimizer\n",
            "is 0.01.\n",
            "\n"
          ],
          "name": "stdout"
        }
      ]
    },
    {
      "cell_type": "code",
      "metadata": {
        "colab": {
          "base_uri": "https://localhost:8080/"
        },
        "id": "SvJDWp40KIY8",
        "outputId": "1540a8aa-44de-48d6-80fc-4f062067347a"
      },
      "source": [
        "# Build the model with the optimal hyperparameters and train it on the data\r\n",
        "model = tuner.hypermodel.build(best_hps)\r\n",
        "model.fit(X, dummy_y, epochs = 10)"
      ],
      "execution_count": 82,
      "outputs": [
        {
          "output_type": "stream",
          "text": [
            "Epoch 1/10\n",
            "1/1 [==============================] - 0s 1ms/step - loss: 2.2844 - accuracy: 1.0000\n",
            "Epoch 2/10\n",
            "1/1 [==============================] - 0s 940us/step - loss: 2.1961 - accuracy: 1.0000\n",
            "Epoch 3/10\n",
            "1/1 [==============================] - 0s 1ms/step - loss: 2.1370 - accuracy: 1.0000\n",
            "Epoch 4/10\n",
            "1/1 [==============================] - 0s 1ms/step - loss: 2.0896 - accuracy: 1.0000\n",
            "Epoch 5/10\n",
            "1/1 [==============================] - 0s 2ms/step - loss: 2.0430 - accuracy: 1.0000\n",
            "Epoch 6/10\n",
            "1/1 [==============================] - 0s 2ms/step - loss: 1.9957 - accuracy: 1.0000\n",
            "Epoch 7/10\n",
            "1/1 [==============================] - 0s 2ms/step - loss: 1.9494 - accuracy: 1.0000\n",
            "Epoch 8/10\n",
            "1/1 [==============================] - 0s 2ms/step - loss: 1.9031 - accuracy: 1.0000\n",
            "Epoch 9/10\n",
            "1/1 [==============================] - 0s 1ms/step - loss: 1.8610 - accuracy: 1.0000\n",
            "Epoch 10/10\n",
            "1/1 [==============================] - 0s 3ms/step - loss: 1.8220 - accuracy: 1.0000\n"
          ],
          "name": "stdout"
        },
        {
          "output_type": "execute_result",
          "data": {
            "text/plain": [
              "<tensorflow.python.keras.callbacks.History at 0x7f6be686c278>"
            ]
          },
          "metadata": {
            "tags": []
          },
          "execution_count": 82
        }
      ]
    }
  ]
}