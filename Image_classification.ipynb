{
 "cells": [
  {
   "cell_type": "markdown",
   "metadata": {},
   "source": [
    "# Tutorial 2: \n",
    "# Image Classification Model: Convolution Neural Networks"
   ]
  },
  {
   "cell_type": "markdown",
   "metadata": {},
   "source": [
    "## 1- Importing libraries"
   ]
  },
  {
   "cell_type": "code",
   "execution_count": 1,
   "metadata": {},
   "outputs": [
    {
     "name": "stderr",
     "output_type": "stream",
     "text": [
      "/home/instadeeprd/miniconda3/envs/learn/lib/python3.6/site-packages/h5py/__init__.py:36: FutureWarning: Conversion of the second argument of issubdtype from `float` to `np.floating` is deprecated. In future, it will be treated as `np.float64 == np.dtype(float).type`.\n",
      "  from ._conv import register_converters as _register_converters\n",
      "Using TensorFlow backend.\n"
     ]
    }
   ],
   "source": [
    "from keras.models import Sequential, load_model\n",
    "from keras.layers import Dense, Dropout, Activation, Flatten\n",
    "from keras.layers import Convolution2D, MaxPooling2D\n",
    "from keras.preprocessing.image import ImageDataGenerator\n",
    "from keras.optimizers import Adam\n",
    "\n",
    "import matplotlib.pyplot as plt\n",
    "from PIL import Image\n",
    "import numpy as np\n",
    "%matplotlib inline"
   ]
  },
  {
   "cell_type": "markdown",
   "metadata": {},
   "source": [
    "## 2- Data pre-processing and data augmentation"
   ]
  },
  {
   "cell_type": "code",
   "execution_count": 2,
   "metadata": {},
   "outputs": [
    {
     "name": "stdout",
     "output_type": "stream",
     "text": [
      "Image Shape: (28, 28)\n"
     ]
    },
    {
     "data": {
      "text/plain": [
       "<matplotlib.image.AxesImage at 0x7f80f3c8a2b0>"
      ]
     },
     "execution_count": 2,
     "metadata": {},
     "output_type": "execute_result"
    },
    {
     "data": {
      "image/png": "[encoded data removed]",
      "text/plain": [
       "<Figure size 432x288 with 1 Axes>"
      ]
     },
     "metadata": {},
     "output_type": "display_data"
    }
   ],
   "source": [
    "im = Image.open(\"/media/instadeeprd/DATA/Education/DL_course/TP2/testing/2/477.png\")\n",
    "im = np.array(im)\n",
    "print(\"Image Shape:\", im.shape)\n",
    "plt.imshow(im, cmap=\"gray\")"
   ]
  },
  {
   "cell_type": "markdown",
   "metadata": {},
   "source": [
    "In order to make the most of our few training examples, we will \"augment\" them via a number of random transformations, so that our model would never see twice the exact same picture. This helps prevent overfitting and helps the model generalize better.\n",
    "In Keras this can be done via the keras.preprocessing.image.ImageDataGenerator class. This class allows you to:\n",
    "\n",
    "* configure random transformations and normalization operations to be done on your image data during training\n",
    "* instantiate generators of augmented image batches (and their labels) via .flow(data, labels) or .flow_from_directory(directory). These generators can then be used with the Keras model methods that accept data generators as inputs, fit_generator, evaluate_generator and predict_generator.\n"
   ]
  },
  {
   "cell_type": "markdown",
   "metadata": {},
   "source": [
    "These are just a few of the options available (for more, see the documentation). Let's quickly go over what we just wrote:\n",
    "\n",
    "* rotation_range is a value in degrees (0-180), a range within which to randomly rotate pictures\n",
    "* width_shift and height_shift are ranges (as a fraction of total width or height) within which to randomly translate pictures vertically or horizontally\n",
    "* rescale is a value by which we will multiply the data before any other processing. Our original images consist in RGB coefficients in the 0-255, but such values would be too high for our models to process (given a typical learning rate), so we target values between 0 and 1 instead by scaling with a 1/255. factor.\n",
    "* shear_range is for randomly applying shearing transformations\n",
    "* zoom_range is for randomly zooming inside pictures\n",
    "* horizontal_flip is for randomly flipping half of the images horizontally --relevant when there are no assumptions of horizontal assymetry (e.g. real-world pictures).\n",
    "* fill_mode is the strategy used for filling in newly created pixels, which can appear after a rotation or a width/height shift."
   ]
  },
  {
   "cell_type": "code",
   "execution_count": 3,
   "metadata": {},
   "outputs": [
    {
     "name": "stdout",
     "output_type": "stream",
     "text": [
      "Found 10000 images belonging to 10 classes.\n",
      "(1, 28, 28, 1)\n",
      "[[1. 0. 0. 0. 0. 0. 0. 0. 0. 0.]]\n"
     ]
    },
    {
     "data": {
      "image/png": "[encoded data removed]",
      "text/plain": [
       "<Figure size 432x288 with 1 Axes>"
      ]
     },
     "metadata": {},
     "output_type": "display_data"
    }
   ],
   "source": [
    "test_datagen = ImageDataGenerator(rescale=1./255, # is a value by which we will multiply the data before any other processing\n",
    "                                  shear_range=0.2, #is for randomly applying shearing transformations\n",
    "                                  zoom_range=0.2, #is for randomly zooming inside pictures\n",
    "                                  horizontal_flip=True, #is for randomly flipping half of the images horizontally\n",
    "                                  rotation_range=40, #is a value in degrees (0-180), a range within which to randomly rotate pictures\n",
    "                                  width_shift_range=0.2, #which to randomly translate pictures vertically or horizontally\n",
    "                                  height_shift_range=0.2, \n",
    "                                  fill_mode='nearest' #is the strategy used for filling in newly created pixels, which can appear after a rotation or a width/height shift.\n",
    "                                 )\n",
    "\n",
    "\n",
    "validation_generator = test_datagen.flow_from_directory(\"testing\", batch_size=1, \n",
    "                                                        class_mode='categorical', \n",
    "                                                        color_mode='grayscale', \n",
    "                                                        target_size=(28,28)\n",
    "                                                       )\n",
    "for x, y in validation_generator:\n",
    "    print(x.shape)\n",
    "    print(y)\n",
    "    plt.imshow(x[0,:,:,0], cmap='gray')\n",
    "    break"
   ]
  },
  {
   "cell_type": "markdown",
   "metadata": {},
   "source": [
    "## 3- Object Oriented Programming"
   ]
  },
  {
   "cell_type": "code",
   "execution_count": 4,
   "metadata": {},
   "outputs": [],
   "source": [
    "class Image_Classifier():\n",
    "    def __init__(self, train_folder='data/train', validation_folder='data/validation', \n",
    "                  inshape=(28,28,1), num_classes=10, num_train=1000, num_validation=200):\n",
    "        self.train_folder = train_folder\n",
    "        self.validation_folder =  validation_folder\n",
    "        self.inshape = inshape\n",
    "        self.num_classes = num_classes\n",
    "        self.num_train = num_train\n",
    "        self.num_validation = num_validation\n",
    "        \n",
    "    def model(self, inshape=(28,28,1), num_classes=10, learning_rate=0.001):\n",
    "        '''\n",
    "            Three steps to Convolution\n",
    "                1. Convolution\n",
    "                2. Activation\n",
    "                3. Polling\n",
    "            Repeat Steps 1,2,3 for adding more hidden layers\n",
    "                4. After that make a fully connected network\n",
    "            This fully connected network gives ability to the CNN\n",
    "            to classify the samples\n",
    "        '''\n",
    "        model = Sequential()\n",
    "\n",
    "        model.add(Convolution2D(filters=32, kernel_size=(3, 3), strides=(1, 1), \n",
    "                         input_shape=inshape, \n",
    "                         data_format=\"channels_last\")\n",
    "                 )\n",
    "        model.add(Activation('relu'))\n",
    "        model.add(MaxPooling2D(pool_size=(2,2)))\n",
    "\n",
    "        model.add(Convolution2D(filters = 32, kernel_size=(3, 3), strides=(1, 1)))\n",
    "        model.add(Activation('relu'))\n",
    "        model.add(MaxPooling2D(pool_size=(2,2)))\n",
    "        model.add(Dropout(0.2))\n",
    "        \n",
    "        model.add(Flatten())\n",
    "\n",
    "        model.add(Dense(512))\n",
    "        model.add(Activation('relu'))\n",
    "        model.add(Dropout(0.2))\n",
    "\n",
    "        model.add(Dense(num_classes, activation='softmax'))\n",
    "        # Binary cross-entropy is for multi-label classifications, whereas categorical cross entropy is for multi-class classification where each example belongs to a single class.\n",
    "        optimizer = Adam(lr=learning_rate, beta_1=0.9, beta_2=0.999, epsilon=None, decay=0.0, amsgrad=False)\n",
    "        model.compile(loss='categorical_crossentropy', optimizer='adam', metrics=['accuracy'])\n",
    "        \n",
    "        return model\n",
    "    \n",
    "    def train(self, batch_size=128, epochs=12, learning_rate=0.001, model_file=\"my_model.h5\", refine = False):\n",
    "        '''\n",
    "            Train Process\n",
    "        '''\n",
    "        # this is the augmentation configuration we will use for training\n",
    "        train_datagen = ImageDataGenerator(rescale=1./255, # is a value by which we will multiply the data before any other processing\n",
    "                                            shear_range=0.2, #is for randomly applying shearing transformations\n",
    "                                            zoom_range=0.2, #is for randomly zooming inside pictures\n",
    "                                            horizontal_flip=True, #is for randomly flipping half of the images horizontally\n",
    "                                            #rotation_range=40, #is a value in degrees (0-180), a range within which to randomly rotate pictures\n",
    "                                            #width_shift_range=0.2, #which to randomly translate pictures vertically or horizontally\n",
    "                                            #height_shift_range=0.2, \n",
    "                                            #fill_mode='nearest' #is the strategy used for filling in newly created pixels, which can appear after a rotation or a width/height shift.\n",
    "                                          )\n",
    "\n",
    "        # this is the augmentation configuration we will use for testing:\n",
    "        # only rescaling\n",
    "        test_datagen = ImageDataGenerator(rescale=1./255)\n",
    "\n",
    "        # this is a generator that will read pictures found in\n",
    "        # subfolers of 'data/train', and indefinitely generate\n",
    "        # batches of augmented image data\n",
    "        train_generator = train_datagen.flow_from_directory(self.train_folder,  # this is the target directory\n",
    "                                                            target_size=(28,28),  # all images will be resized to 150x150\n",
    "                                                            batch_size=batch_size, \n",
    "                                                            color_mode='grayscale',\n",
    "                                                            #class_mode='binary')  # since we use binary_crossentropy loss, we need binary labels\n",
    "                                                           )\n",
    "        # this is a similar generator, for validation data\n",
    "        validation_generator = test_datagen.flow_from_directory(self.validation_folder, \n",
    "                                                                target_size=(28,28),\n",
    "                                                                batch_size=batch_size, \n",
    "                                                                color_mode='grayscale',\n",
    "                                                                #class_mode='binary'\n",
    "                                                               )\n",
    "        if refine:\n",
    "            model = load_model(model_file)\n",
    "        else:\n",
    "            model = self.model(inshape=self.inshape, num_classes=self.num_classes, learning_rate=learning_rate)\n",
    "        \n",
    "        model.fit_generator(train_generator,\n",
    "                            steps_per_epoch=self.num_train // batch_size,\n",
    "                            epochs=epochs,\n",
    "                            validation_data=validation_generator,\n",
    "                            validation_steps=self.num_validation // batch_size)\n",
    "        \n",
    "        # You can use model.save(filepath) to save a Keras model into a single HDF5 file which will contain:\n",
    "        # 1- the architecture of the model, allowing to re-create the model\n",
    "        # 2- the weights of the model\n",
    "        # 3- the training configuration (loss, optimizer)\n",
    "        # 4- the state of the optimizer, allowing to resume training exactly where you left off.\n",
    "\n",
    "        model.save(model_file)\n",
    "        \n",
    "        \n",
    "    def predict(self, x, model_file=\"my_model.h5\"):\n",
    "        model = load_model(model_file)\n",
    "        prediction = model.predict(x)\n",
    "        return prediction"
   ]
  },
  {
   "cell_type": "markdown",
   "metadata": {},
   "source": [
    "## 4- Training Step"
   ]
  },
  {
   "cell_type": "code",
   "execution_count": 5,
   "metadata": {},
   "outputs": [
    {
     "name": "stdout",
     "output_type": "stream",
     "text": [
      "Found 60000 images belonging to 10 classes.\n",
      "Found 10000 images belonging to 10 classes.\n",
      "Epoch 1/12\n",
      "468/468 [==============================] - 126s 270ms/step - loss: 0.3991 - acc: 0.8718 - val_loss: 0.1020 - val_acc: 0.9665\n",
      "Epoch 2/12\n",
      "468/468 [==============================] - 41s 87ms/step - loss: 0.1381 - acc: 0.9569 - val_loss: 0.0531 - val_acc: 0.9833\n",
      "Epoch 3/12\n",
      "468/468 [==============================] - 41s 87ms/step - loss: 0.1018 - acc: 0.9680 - val_loss: 0.0373 - val_acc: 0.9888\n",
      "Epoch 4/12\n",
      "468/468 [==============================] - 41s 87ms/step - loss: 0.0862 - acc: 0.9723 - val_loss: 0.0434 - val_acc: 0.9888\n",
      "Epoch 5/12\n",
      "468/468 [==============================] - 41s 87ms/step - loss: 0.0742 - acc: 0.9766 - val_loss: 0.0359 - val_acc: 0.9877\n",
      "Epoch 6/12\n",
      "468/468 [==============================] - 41s 87ms/step - loss: 0.0682 - acc: 0.9787 - val_loss: 0.0359 - val_acc: 0.9866\n",
      "Epoch 7/12\n",
      "468/468 [==============================] - 46s 98ms/step - loss: 0.0621 - acc: 0.9799 - val_loss: 0.0246 - val_acc: 0.9944\n",
      "Epoch 8/12\n",
      "468/468 [==============================] - 44s 94ms/step - loss: 0.0577 - acc: 0.9815 - val_loss: 0.0258 - val_acc: 0.9911\n",
      "Epoch 9/12\n",
      "468/468 [==============================] - 46s 98ms/step - loss: 0.0558 - acc: 0.9826 - val_loss: 0.0177 - val_acc: 0.9944\n",
      "Epoch 10/12\n",
      "468/468 [==============================] - 46s 98ms/step - loss: 0.0506 - acc: 0.9840 - val_loss: 0.0330 - val_acc: 0.9900\n",
      "Epoch 11/12\n",
      "468/468 [==============================] - 46s 98ms/step - loss: 0.0501 - acc: 0.9841 - val_loss: 0.0254 - val_acc: 0.9933\n",
      "Epoch 12/12\n",
      "468/468 [==============================] - 45s 97ms/step - loss: 0.0479 - acc: 0.9849 - val_loss: 0.0154 - val_acc: 0.9955\n"
     ]
    }
   ],
   "source": [
    "im_classifier = Image_Classifier(train_folder = 'training', validation_folder = 'testing', \n",
    "                                 inshape=(28,28,1), num_classes=10,\n",
    "                                 num_train=60000, num_validation=1000)\n",
    "\n",
    "im_classifier.train(batch_size=128, epochs=12, learning_rate=0.001)"
   ]
  },
  {
   "cell_type": "markdown",
   "metadata": {},
   "source": [
    "## 5- Inference Step"
   ]
  },
  {
   "cell_type": "code",
   "execution_count": 6,
   "metadata": {},
   "outputs": [
    {
     "name": "stdout",
     "output_type": "stream",
     "text": [
      "(1, 28, 28, 1)\n",
      "The corresponding image digit is : 6\n"
     ]
    }
   ],
   "source": [
    "im = Image.open(\"/media/instadeeprd/DATA/Education/DL_course/TP2/testing/6/870.png\")\n",
    "im = np.array(im)\n",
    "im = np.expand_dims(im, axis=0)\n",
    "im = np.expand_dims(im, axis=3)\n",
    "print(im.shape)\n",
    "im_classifier = Image_Classifier()\n",
    "prediction = im_classifier.predict(im, model_file=\"my_model.h5\")\n",
    "prediction_digit = prediction[0].argmax()\n",
    "print(\"The corresponding image digit is :\", prediction_digit)"
   ]
  },
  {
   "cell_type": "markdown",
   "metadata": {},
   "source": [
    "# Tutorial 2: Part II \n",
    "# Fine-tuning the top layers of a pre-trained network (Transfert Learning)\n",
    "Fine-tuning consist in starting from a trained network, then re-training it on a new dataset using very small weight updates.\n",
    "* instantiate the convolutional base of the model and load its weights\n",
    "* add our defined fully-connected model on top, and load its weights\n",
    "* freeze the layers of the pretrained model up to the last convolutional block\n",
    "\n",
    "Here a list of the most famous CNN models:\n",
    "\n",
    "https://adeshpande3.github.io/The-9-Deep-Learning-Papers-You-Need-To-Know-About.html"
   ]
  },
  {
   "cell_type": "code",
   "execution_count": 9,
   "metadata": {},
   "outputs": [],
   "source": [
    "from keras.applications.inception_v3 import InceptionV3\n",
    "from keras.preprocessing import image\n",
    "from keras.models import Model\n",
    "from keras.layers import Dense, GlobalAveragePooling2D\n",
    "from keras import backend as K"
   ]
  },
  {
   "cell_type": "code",
   "execution_count": 10,
   "metadata": {},
   "outputs": [],
   "source": [
    "# create the base pre-trained model\n",
    "base_model = InceptionV3(weights='imagenet') #, include_top=False)"
   ]
  },
  {
   "cell_type": "markdown",
   "metadata": {},
   "source": [
    "<img src=\"figures/inceptionv3.png\">"
   ]
  },
  {
   "cell_type": "markdown",
   "metadata": {},
   "source": [
    "<img src=\"vgg16_modified.png\">"
   ]
  },
  {
   "cell_type": "code",
   "execution_count": 11,
   "metadata": {},
   "outputs": [
    {
     "name": "stdout",
     "output_type": "stream",
     "text": [
      "0 input_1\n",
      "1 conv2d_3\n",
      "2 batch_normalization_1\n",
      "3 activation_4\n",
      "4 conv2d_4\n",
      "5 batch_normalization_2\n",
      "6 activation_5\n",
      "7 conv2d_5\n",
      "8 batch_normalization_3\n",
      "9 activation_6\n",
      "10 max_pooling2d_3\n",
      "11 conv2d_6\n",
      "12 batch_normalization_4\n",
      "13 activation_7\n",
      "14 conv2d_7\n",
      "15 batch_normalization_5\n",
      "16 activation_8\n",
      "17 max_pooling2d_4\n",
      "18 conv2d_11\n",
      "19 batch_normalization_9\n",
      "20 activation_12\n",
      "21 conv2d_9\n",
      "22 conv2d_12\n",
      "23 batch_normalization_7\n",
      "24 batch_normalization_10\n",
      "25 activation_10\n",
      "26 activation_13\n",
      "27 average_pooling2d_1\n",
      "28 conv2d_8\n",
      "29 conv2d_10\n",
      "30 conv2d_13\n",
      "31 conv2d_14\n",
      "32 batch_normalization_6\n",
      "33 batch_normalization_8\n",
      "34 batch_normalization_11\n",
      "35 batch_normalization_12\n",
      "36 activation_9\n",
      "37 activation_11\n",
      "38 activation_14\n",
      "39 activation_15\n",
      "40 mixed0\n",
      "41 conv2d_18\n",
      "42 batch_normalization_16\n",
      "43 activation_19\n",
      "44 conv2d_16\n",
      "45 conv2d_19\n",
      "46 batch_normalization_14\n",
      "47 batch_normalization_17\n",
      "48 activation_17\n",
      "49 activation_20\n",
      "50 average_pooling2d_2\n",
      "51 conv2d_15\n",
      "52 conv2d_17\n",
      "53 conv2d_20\n",
      "54 conv2d_21\n",
      "55 batch_normalization_13\n",
      "56 batch_normalization_15\n",
      "57 batch_normalization_18\n",
      "58 batch_normalization_19\n",
      "59 activation_16\n",
      "60 activation_18\n",
      "61 activation_21\n",
      "62 activation_22\n",
      "63 mixed1\n",
      "64 conv2d_25\n",
      "65 batch_normalization_23\n",
      "66 activation_26\n",
      "67 conv2d_23\n",
      "68 conv2d_26\n",
      "69 batch_normalization_21\n",
      "70 batch_normalization_24\n",
      "71 activation_24\n",
      "72 activation_27\n",
      "73 average_pooling2d_3\n",
      "74 conv2d_22\n",
      "75 conv2d_24\n",
      "76 conv2d_27\n",
      "77 conv2d_28\n",
      "78 batch_normalization_20\n",
      "79 batch_normalization_22\n",
      "80 batch_normalization_25\n",
      "81 batch_normalization_26\n",
      "82 activation_23\n",
      "83 activation_25\n",
      "84 activation_28\n",
      "85 activation_29\n",
      "86 mixed2\n",
      "87 conv2d_30\n",
      "88 batch_normalization_28\n",
      "89 activation_31\n",
      "90 conv2d_31\n",
      "91 batch_normalization_29\n",
      "92 activation_32\n",
      "93 conv2d_29\n",
      "94 conv2d_32\n",
      "95 batch_normalization_27\n",
      "96 batch_normalization_30\n",
      "97 activation_30\n",
      "98 activation_33\n",
      "99 max_pooling2d_5\n",
      "100 mixed3\n",
      "101 conv2d_37\n",
      "102 batch_normalization_35\n",
      "103 activation_38\n",
      "104 conv2d_38\n",
      "105 batch_normalization_36\n",
      "106 activation_39\n",
      "107 conv2d_34\n",
      "108 conv2d_39\n",
      "109 batch_normalization_32\n",
      "110 batch_normalization_37\n",
      "111 activation_35\n",
      "112 activation_40\n",
      "113 conv2d_35\n",
      "114 conv2d_40\n",
      "115 batch_normalization_33\n",
      "116 batch_normalization_38\n",
      "117 activation_36\n",
      "118 activation_41\n",
      "119 average_pooling2d_4\n",
      "120 conv2d_33\n",
      "121 conv2d_36\n",
      "122 conv2d_41\n",
      "123 conv2d_42\n",
      "124 batch_normalization_31\n",
      "125 batch_normalization_34\n",
      "126 batch_normalization_39\n",
      "127 batch_normalization_40\n",
      "128 activation_34\n",
      "129 activation_37\n",
      "130 activation_42\n",
      "131 activation_43\n",
      "132 mixed4\n",
      "133 conv2d_47\n",
      "134 batch_normalization_45\n",
      "135 activation_48\n",
      "136 conv2d_48\n",
      "137 batch_normalization_46\n",
      "138 activation_49\n",
      "139 conv2d_44\n",
      "140 conv2d_49\n",
      "141 batch_normalization_42\n",
      "142 batch_normalization_47\n",
      "143 activation_45\n",
      "144 activation_50\n",
      "145 conv2d_45\n",
      "146 conv2d_50\n",
      "147 batch_normalization_43\n",
      "148 batch_normalization_48\n",
      "149 activation_46\n",
      "150 activation_51\n",
      "151 average_pooling2d_5\n",
      "152 conv2d_43\n",
      "153 conv2d_46\n",
      "154 conv2d_51\n",
      "155 conv2d_52\n",
      "156 batch_normalization_41\n",
      "157 batch_normalization_44\n",
      "158 batch_normalization_49\n",
      "159 batch_normalization_50\n",
      "160 activation_44\n",
      "161 activation_47\n",
      "162 activation_52\n",
      "163 activation_53\n",
      "164 mixed5\n",
      "165 conv2d_57\n",
      "166 batch_normalization_55\n",
      "167 activation_58\n",
      "168 conv2d_58\n",
      "169 batch_normalization_56\n",
      "170 activation_59\n",
      "171 conv2d_54\n",
      "172 conv2d_59\n",
      "173 batch_normalization_52\n",
      "174 batch_normalization_57\n",
      "175 activation_55\n",
      "176 activation_60\n",
      "177 conv2d_55\n",
      "178 conv2d_60\n",
      "179 batch_normalization_53\n",
      "180 batch_normalization_58\n",
      "181 activation_56\n",
      "182 activation_61\n",
      "183 average_pooling2d_6\n",
      "184 conv2d_53\n",
      "185 conv2d_56\n",
      "186 conv2d_61\n",
      "187 conv2d_62\n",
      "188 batch_normalization_51\n",
      "189 batch_normalization_54\n",
      "190 batch_normalization_59\n",
      "191 batch_normalization_60\n",
      "192 activation_54\n",
      "193 activation_57\n",
      "194 activation_62\n",
      "195 activation_63\n",
      "196 mixed6\n",
      "197 conv2d_67\n",
      "198 batch_normalization_65\n",
      "199 activation_68\n",
      "200 conv2d_68\n",
      "201 batch_normalization_66\n",
      "202 activation_69\n",
      "203 conv2d_64\n",
      "204 conv2d_69\n",
      "205 batch_normalization_62\n",
      "206 batch_normalization_67\n",
      "207 activation_65\n",
      "208 activation_70\n",
      "209 conv2d_65\n",
      "210 conv2d_70\n",
      "211 batch_normalization_63\n",
      "212 batch_normalization_68\n",
      "213 activation_66\n",
      "214 activation_71\n",
      "215 average_pooling2d_7\n",
      "216 conv2d_63\n",
      "217 conv2d_66\n",
      "218 conv2d_71\n",
      "219 conv2d_72\n",
      "220 batch_normalization_61\n",
      "221 batch_normalization_64\n",
      "222 batch_normalization_69\n",
      "223 batch_normalization_70\n",
      "224 activation_64\n",
      "225 activation_67\n",
      "226 activation_72\n",
      "227 activation_73\n",
      "228 mixed7\n",
      "229 conv2d_75\n",
      "230 batch_normalization_73\n",
      "231 activation_76\n",
      "232 conv2d_76\n",
      "233 batch_normalization_74\n",
      "234 activation_77\n",
      "235 conv2d_73\n",
      "236 conv2d_77\n",
      "237 batch_normalization_71\n",
      "238 batch_normalization_75\n",
      "239 activation_74\n",
      "240 activation_78\n",
      "241 conv2d_74\n",
      "242 conv2d_78\n",
      "243 batch_normalization_72\n",
      "244 batch_normalization_76\n",
      "245 activation_75\n",
      "246 activation_79\n",
      "247 max_pooling2d_6\n",
      "248 mixed8\n",
      "249 conv2d_83\n",
      "250 batch_normalization_81\n",
      "251 activation_84\n",
      "252 conv2d_80\n",
      "253 conv2d_84\n",
      "254 batch_normalization_78\n",
      "255 batch_normalization_82\n",
      "256 activation_81\n",
      "257 activation_85\n",
      "258 conv2d_81\n",
      "259 conv2d_82\n",
      "260 conv2d_85\n",
      "261 conv2d_86\n",
      "262 average_pooling2d_8\n",
      "263 conv2d_79\n",
      "264 batch_normalization_79\n",
      "265 batch_normalization_80\n",
      "266 batch_normalization_83\n",
      "267 batch_normalization_84\n",
      "268 conv2d_87\n",
      "269 batch_normalization_77\n",
      "270 activation_82\n",
      "271 activation_83\n",
      "272 activation_86\n",
      "273 activation_87\n",
      "274 batch_normalization_85\n",
      "275 activation_80\n",
      "276 mixed9_0\n",
      "277 concatenate_1\n",
      "278 activation_88\n",
      "279 mixed9\n",
      "280 conv2d_92\n",
      "281 batch_normalization_90\n",
      "282 activation_93\n",
      "283 conv2d_89\n",
      "284 conv2d_93\n",
      "285 batch_normalization_87\n",
      "286 batch_normalization_91\n",
      "287 activation_90\n",
      "288 activation_94\n",
      "289 conv2d_90\n",
      "290 conv2d_91\n",
      "291 conv2d_94\n",
      "292 conv2d_95\n",
      "293 average_pooling2d_9\n",
      "294 conv2d_88\n",
      "295 batch_normalization_88\n",
      "296 batch_normalization_89\n",
      "297 batch_normalization_92\n",
      "298 batch_normalization_93\n",
      "299 conv2d_96\n",
      "300 batch_normalization_86\n",
      "301 activation_91\n",
      "302 activation_92\n",
      "303 activation_95\n",
      "304 activation_96\n",
      "305 batch_normalization_94\n",
      "306 activation_89\n",
      "307 mixed9_1\n",
      "308 concatenate_2\n",
      "309 activation_97\n",
      "310 mixed10\n",
      "311 avg_pool\n",
      "312 predictions\n"
     ]
    }
   ],
   "source": [
    "# let's visualize layer names and layer indices to see how many layers\n",
    "# we should freeze:\n",
    "for i, layer in enumerate(base_model.layers):\n",
    "   print(i, layer.name)"
   ]
  },
  {
   "cell_type": "markdown",
   "metadata": {},
   "source": [
    "## Create a new model\n",
    "Now that we have set the trainable parameters of our base network, we would like to add a classifier on top of the convolutional base. We will simply add a fully connected layer followed by a softmax layer with 3 outputs. This is done as given below."
   ]
  },
  {
   "cell_type": "markdown",
   "metadata": {},
   "source": [
    "## Load the pre-trained model\n",
    "First, we will load a inception-v3 model without the top layer ( which consists of fully connected layers )."
   ]
  },
  {
   "cell_type": "code",
   "execution_count": 12,
   "metadata": {},
   "outputs": [
    {
     "name": "stdout",
     "output_type": "stream",
     "text": [
      "channels_last\n"
     ]
    }
   ],
   "source": [
    "# create the base pre-trained model over a custom input tensor\n",
    "# Giving that the default input shape is (299,299,3)\n",
    "# Change the input shape\n",
    "# this could also be the output a different Keras model or layer\n",
    "print(K.image_data_format())\n",
    "base_model = InceptionV3(weights='imagenet', include_top=False, input_shape=(139, 139, 3))\n",
    "\n",
    "# add a global spatial average pooling layer\n",
    "x = base_model.output\n",
    "x = GlobalAveragePooling2D()(x)\n",
    "# let's add a fully-connected layer\n",
    "x = Dense(1024, activation='relu')(x)\n",
    "# and a logistic layer -- let's say we have 10 classes\n",
    "predictions = Dense(10, activation='softmax')(x)\n",
    "\n",
    "\n",
    "# Add new layers\n",
    "# model.add(layers.Flatten())\n",
    "# model.add(layers.Dense(1024, activation='relu'))\n",
    "# model.add(layers.Dropout(0.5))\n",
    "# model.add(layers.Dense(3, activation='softmax'))\n",
    " \n",
    "    \n",
    "# this is the model we will train\n",
    "model = Model(inputs=base_model.input, outputs=predictions)"
   ]
  },
  {
   "cell_type": "markdown",
   "metadata": {},
   "source": [
    "## Freeze the required layers\n",
    "In Keras, each layer has a parameter called “trainable”. For freezing the weights of a particular layer, we should set this parameter to False, indicating that this layer should not be trained. That’s it! We go over each layer and select which layers we want to train."
   ]
  },
  {
   "cell_type": "code",
   "execution_count": 13,
   "metadata": {},
   "outputs": [],
   "source": [
    "# first: train only the top layers (which were randomly initialized)\n",
    "# i.e. freeze all convolutional InceptionV3 layers\n",
    "for layer in base_model.layers:\n",
    "    layer.trainable = False"
   ]
  }
 ],
 "metadata": {
  "kernelspec": {
   "display_name": "Python 3",
   "language": "python",
   "name": "python3"
  },
  "language_info": {
   "codemirror_mode": {
    "name": "ipython",
    "version": 3
   },
   "file_extension": ".py",
   "mimetype": "text/x-python",
   "name": "python",
   "nbconvert_exporter": "python",
   "pygments_lexer": "ipython3",
   "version": "3.6.5"
  }
 },
 "nbformat": 4,
 "nbformat_minor": 2
}
