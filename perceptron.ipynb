{
  "nbformat": 4,
  "nbformat_minor": 0,
  "metadata": {
    "colab": {
      "name": "perceptron.ipynb",
      "provenance": [],
      "include_colab_link": true
    },
    "kernelspec": {
      "name": "python3",
      "display_name": "Python 3"
    }
  },
  "cells": [
    {
      "cell_type": "markdown",
      "metadata": {
        "id": "view-in-github",
        "colab_type": "text"
      },
      "source": [
        "<a href=\"https://colab.research.google.com/github/imen-g/Deep-Learning/blob/master/perceptron.ipynb\" target=\"_parent\"><img src=\"https://colab.research.google.com/assets/colab-badge.svg\" alt=\"Open In Colab\"/></a>"
      ]
    },
    {
      "cell_type": "markdown",
      "metadata": {
        "id": "OxFu1tyEdduX"
      },
      "source": [
        "# **Importing the libraries**\n",
        "\n",
        "\n",
        "\n",
        "\n"
      ]
    },
    {
      "cell_type": "code",
      "metadata": {
        "id": "I3m8egByb1BT"
      },
      "source": [
        "import numpy as np\n",
        "import matplotlib.pyplot as plt\n",
        "import pandas as pd\n",
        "from sklearn.preprocessing import LabelEncoder, OneHotEncoder\n",
        "from sklearn.model_selection import train_test_split\n",
        "from sklearn.preprocessing import StandardScaler\n",
        "from sklearn.metrics import confusion_matrix\n"
      ],
      "execution_count": null,
      "outputs": []
    },
    {
      "cell_type": "markdown",
      "metadata": {
        "id": "O0ovP0DSeaoM"
      },
      "source": [
        "# **Importing the Dataset**"
      ]
    },
    {
      "cell_type": "code",
      "metadata": {
        "id": "TzWIEtzJhcte",
        "outputId": "39bb7989-5722-469c-8e47-c4b9db5168b3",
        "colab": {
          "base_uri": "https://localhost:8080/",
          "height": 198
        }
      },
      "source": [
        "data = pd.read_csv('train.csv',parse_dates=True) \n",
        "data.sample(5)\n"
      ],
      "execution_count": null,
      "outputs": [
        {
          "output_type": "execute_result",
          "data": {
            "text/html": [
              "<div>\n",
              "<style scoped>\n",
              "    .dataframe tbody tr th:only-of-type {\n",
              "        vertical-align: middle;\n",
              "    }\n",
              "\n",
              "    .dataframe tbody tr th {\n",
              "        vertical-align: top;\n",
              "    }\n",
              "\n",
              "    .dataframe thead th {\n",
              "        text-align: right;\n",
              "    }\n",
              "</style>\n",
              "<table border=\"1\" class=\"dataframe\">\n",
              "  <thead>\n",
              "    <tr style=\"text-align: right;\">\n",
              "      <th></th>\n",
              "      <th>PassengerId</th>\n",
              "      <th>Survived</th>\n",
              "      <th>Pclass</th>\n",
              "      <th>Name</th>\n",
              "      <th>Sex</th>\n",
              "      <th>Age</th>\n",
              "      <th>SibSp</th>\n",
              "      <th>Parch</th>\n",
              "      <th>Ticket</th>\n",
              "      <th>Fare</th>\n",
              "      <th>Cabin</th>\n",
              "      <th>Embarked</th>\n",
              "    </tr>\n",
              "  </thead>\n",
              "  <tbody>\n",
              "    <tr>\n",
              "      <th>657</th>\n",
              "      <td>658</td>\n",
              "      <td>0</td>\n",
              "      <td>3</td>\n",
              "      <td>Bourke, Mrs. John (Catherine)</td>\n",
              "      <td>female</td>\n",
              "      <td>32.0</td>\n",
              "      <td>1</td>\n",
              "      <td>1</td>\n",
              "      <td>364849</td>\n",
              "      <td>15.5000</td>\n",
              "      <td>NaN</td>\n",
              "      <td>Q</td>\n",
              "    </tr>\n",
              "    <tr>\n",
              "      <th>43</th>\n",
              "      <td>44</td>\n",
              "      <td>1</td>\n",
              "      <td>2</td>\n",
              "      <td>Laroche, Miss. Simonne Marie Anne Andree</td>\n",
              "      <td>female</td>\n",
              "      <td>3.0</td>\n",
              "      <td>1</td>\n",
              "      <td>2</td>\n",
              "      <td>SC/Paris 2123</td>\n",
              "      <td>41.5792</td>\n",
              "      <td>NaN</td>\n",
              "      <td>C</td>\n",
              "    </tr>\n",
              "    <tr>\n",
              "      <th>577</th>\n",
              "      <td>578</td>\n",
              "      <td>1</td>\n",
              "      <td>1</td>\n",
              "      <td>Silvey, Mrs. William Baird (Alice Munger)</td>\n",
              "      <td>female</td>\n",
              "      <td>39.0</td>\n",
              "      <td>1</td>\n",
              "      <td>0</td>\n",
              "      <td>13507</td>\n",
              "      <td>55.9000</td>\n",
              "      <td>E44</td>\n",
              "      <td>S</td>\n",
              "    </tr>\n",
              "    <tr>\n",
              "      <th>452</th>\n",
              "      <td>453</td>\n",
              "      <td>0</td>\n",
              "      <td>1</td>\n",
              "      <td>Foreman, Mr. Benjamin Laventall</td>\n",
              "      <td>male</td>\n",
              "      <td>30.0</td>\n",
              "      <td>0</td>\n",
              "      <td>0</td>\n",
              "      <td>113051</td>\n",
              "      <td>27.7500</td>\n",
              "      <td>C111</td>\n",
              "      <td>C</td>\n",
              "    </tr>\n",
              "    <tr>\n",
              "      <th>307</th>\n",
              "      <td>308</td>\n",
              "      <td>1</td>\n",
              "      <td>1</td>\n",
              "      <td>Penasco y Castellana, Mrs. Victor de Satode (M...</td>\n",
              "      <td>female</td>\n",
              "      <td>17.0</td>\n",
              "      <td>1</td>\n",
              "      <td>0</td>\n",
              "      <td>PC 17758</td>\n",
              "      <td>108.9000</td>\n",
              "      <td>C65</td>\n",
              "      <td>C</td>\n",
              "    </tr>\n",
              "  </tbody>\n",
              "</table>\n",
              "</div>"
            ],
            "text/plain": [
              "     PassengerId  Survived  Pclass  ...      Fare Cabin  Embarked\n",
              "657          658         0       3  ...   15.5000   NaN         Q\n",
              "43            44         1       2  ...   41.5792   NaN         C\n",
              "577          578         1       1  ...   55.9000   E44         S\n",
              "452          453         0       1  ...   27.7500  C111         C\n",
              "307          308         1       1  ...  108.9000   C65         C\n",
              "\n",
              "[5 rows x 12 columns]"
            ]
          },
          "metadata": {
            "tags": []
          },
          "execution_count": 3
        }
      ]
    },
    {
      "cell_type": "markdown",
      "metadata": {
        "id": "QLOTbakUE0HD"
      },
      "source": [
        "**Data processing**\n",
        "\n",
        "\n",
        "\n",
        "\n"
      ]
    },
    {
      "cell_type": "code",
      "metadata": {
        "id": "bEs0Krn6GmLY",
        "outputId": "c21e8679-516e-430c-e046-8542ddf4cd91",
        "colab": {
          "base_uri": "https://localhost:8080/"
        }
      },
      "source": [
        "\n",
        "data.Sex.value_counts()"
      ],
      "execution_count": null,
      "outputs": [
        {
          "output_type": "execute_result",
          "data": {
            "text/plain": [
              "male      577\n",
              "female    314\n",
              "Name: Sex, dtype: int64"
            ]
          },
          "metadata": {
            "tags": []
          },
          "execution_count": 4
        }
      ]
    },
    {
      "cell_type": "markdown",
      "metadata": {
        "id": "2oTkfYuJj5Lf"
      },
      "source": [
        "**To get a general idea about the data we are working with we can try to plot some graphs that helps us better visualize it and try to find some correlation between the features**\n"
      ]
    },
    {
      "cell_type": "code",
      "metadata": {
        "id": "t2VXxsjqj7-1",
        "outputId": "86ba4a88-2cfc-4cb1-bf85-9dac79795356",
        "colab": {
          "base_uri": "https://localhost:8080/",
          "height": 625
        }
      },
      "source": [
        "\n",
        "from matplotlib.pyplot import figure\n",
        " \n",
        "figure(num=None, figsize=(10, 10))\n",
        "plt.hist(data['Survived'])\n",
        "plt.xlabel('survived')\n",
        "plt.ylabel('num people')"
      ],
      "execution_count": null,
      "outputs": [
        {
          "output_type": "execute_result",
          "data": {
            "text/plain": [
              "Text(0, 0.5, 'num people')"
            ]
          },
          "metadata": {
            "tags": []
          },
          "execution_count": 5
        },
        {
          "output_type": "display_data",
          "data": {
            "image/png": "[encoded data removed]",
            "text/plain": [
              "<Figure size 720x720 with 1 Axes>"
            ]
          },
          "metadata": {
            "tags": [],
            "needs_background": "light"
          }
        }
      ]
    },
    {
      "cell_type": "markdown",
      "metadata": {
        "id": "T14l3a5bus7H"
      },
      "source": [
        "**Data normalization**"
      ]
    },
    {
      "cell_type": "code",
      "metadata": {
        "id": "aP1G0qEFuyG4",
        "outputId": "721c8744-d6e7-4d25-b2ec-59c65996a962",
        "colab": {
          "base_uri": "https://localhost:8080/"
        }
      },
      "source": [
        "data.isna().sum() #Checking for missing values"
      ],
      "execution_count": null,
      "outputs": [
        {
          "output_type": "execute_result",
          "data": {
            "text/plain": [
              "PassengerId      0\n",
              "Survived         0\n",
              "Pclass           0\n",
              "Name             0\n",
              "Sex              0\n",
              "Age            177\n",
              "SibSp            0\n",
              "Parch            0\n",
              "Ticket           0\n",
              "Fare             0\n",
              "Cabin          687\n",
              "Embarked         2\n",
              "dtype: int64"
            ]
          },
          "metadata": {
            "tags": []
          },
          "execution_count": 6
        }
      ]
    },
    {
      "cell_type": "code",
      "metadata": {
        "id": "UbcFhq-roza9",
        "outputId": "4f7aaec6-ce2e-4d1d-c247-9a9ade49dc28",
        "colab": {
          "base_uri": "https://localhost:8080/"
        }
      },
      "source": [
        "data['Age'].fillna(0,inplace=True) \n",
        "data.isna().sum()"
      ],
      "execution_count": null,
      "outputs": [
        {
          "output_type": "execute_result",
          "data": {
            "text/plain": [
              "PassengerId      0\n",
              "Survived         0\n",
              "Pclass           0\n",
              "Name             0\n",
              "Sex              0\n",
              "Age              0\n",
              "SibSp            0\n",
              "Parch            0\n",
              "Ticket           0\n",
              "Fare             0\n",
              "Cabin          687\n",
              "Embarked         2\n",
              "dtype: int64"
            ]
          },
          "metadata": {
            "tags": []
          },
          "execution_count": 7
        }
      ]
    },
    {
      "cell_type": "markdown",
      "metadata": {
        "id": "KspFPSaAvF3C"
      },
      "source": [
        "For better performance of our model we need to keep numerical values between 0 and 1"
      ]
    },
    {
      "cell_type": "code",
      "metadata": {
        "id": "Tp_CronWvI-w",
        "outputId": "0d4355e7-b71f-4451-c9a1-3c0bd9654175",
        "colab": {
          "base_uri": "https://localhost:8080/"
        }
      },
      "source": [
        "data.max() #displays the max of every column"
      ],
      "execution_count": null,
      "outputs": [
        {
          "output_type": "execute_result",
          "data": {
            "text/plain": [
              "PassengerId                            891\n",
              "Survived                                 1\n",
              "Pclass                                   3\n",
              "Name           van Melkebeke, Mr. Philemon\n",
              "Sex                                   male\n",
              "Age                                     80\n",
              "SibSp                                    8\n",
              "Parch                                    6\n",
              "Ticket                           WE/P 5735\n",
              "Fare                               512.329\n",
              "dtype: object"
            ]
          },
          "metadata": {
            "tags": []
          },
          "execution_count": 8
        }
      ]
    },
    {
      "cell_type": "code",
      "metadata": {
        "id": "2bIFrAbEvp3S"
      },
      "source": [
        "#We devide every value by the max of its respective column\n",
        "#data['PassengerId '] = data['PassengerId']/891\n",
        "data['Pclass'] = data['Pclass']/3\n",
        "data['Age'] = data['Age']/80\n",
        "data['SibSp'] = data['SibSp']/8\n",
        "data['Parch'] = data['Parch']/6\n",
        "data['Fare'] = data['Fare']/512.329\n"
      ],
      "execution_count": null,
      "outputs": []
    },
    {
      "cell_type": "code",
      "metadata": {
        "id": "ddiJ0kiEI-fX",
        "outputId": "e1dc1aa2-359a-4f6d-8bb7-60fbcd5b3eea",
        "colab": {
          "base_uri": "https://localhost:8080/",
          "height": 233
        }
      },
      "source": [
        "data.sample(5)"
      ],
      "execution_count": null,
      "outputs": [
        {
          "output_type": "execute_result",
          "data": {
            "text/html": [
              "<div>\n",
              "<style scoped>\n",
              "    .dataframe tbody tr th:only-of-type {\n",
              "        vertical-align: middle;\n",
              "    }\n",
              "\n",
              "    .dataframe tbody tr th {\n",
              "        vertical-align: top;\n",
              "    }\n",
              "\n",
              "    .dataframe thead th {\n",
              "        text-align: right;\n",
              "    }\n",
              "</style>\n",
              "<table border=\"1\" class=\"dataframe\">\n",
              "  <thead>\n",
              "    <tr style=\"text-align: right;\">\n",
              "      <th></th>\n",
              "      <th>PassengerId</th>\n",
              "      <th>Survived</th>\n",
              "      <th>Pclass</th>\n",
              "      <th>Name</th>\n",
              "      <th>Sex</th>\n",
              "      <th>Age</th>\n",
              "      <th>SibSp</th>\n",
              "      <th>Parch</th>\n",
              "      <th>Ticket</th>\n",
              "      <th>Fare</th>\n",
              "      <th>Cabin</th>\n",
              "      <th>Embarked</th>\n",
              "    </tr>\n",
              "  </thead>\n",
              "  <tbody>\n",
              "    <tr>\n",
              "      <th>746</th>\n",
              "      <td>747</td>\n",
              "      <td>0</td>\n",
              "      <td>1.000000</td>\n",
              "      <td>Abbott, Mr. Rossmore Edward</td>\n",
              "      <td>male</td>\n",
              "      <td>0.2000</td>\n",
              "      <td>0.125</td>\n",
              "      <td>0.166667</td>\n",
              "      <td>C.A. 2673</td>\n",
              "      <td>0.039525</td>\n",
              "      <td>NaN</td>\n",
              "      <td>S</td>\n",
              "    </tr>\n",
              "    <tr>\n",
              "      <th>591</th>\n",
              "      <td>592</td>\n",
              "      <td>1</td>\n",
              "      <td>0.333333</td>\n",
              "      <td>Stephenson, Mrs. Walter Bertram (Martha Eustis)</td>\n",
              "      <td>female</td>\n",
              "      <td>0.6500</td>\n",
              "      <td>0.125</td>\n",
              "      <td>0.000000</td>\n",
              "      <td>36947</td>\n",
              "      <td>0.152766</td>\n",
              "      <td>D20</td>\n",
              "      <td>C</td>\n",
              "    </tr>\n",
              "    <tr>\n",
              "      <th>169</th>\n",
              "      <td>170</td>\n",
              "      <td>0</td>\n",
              "      <td>1.000000</td>\n",
              "      <td>Ling, Mr. Lee</td>\n",
              "      <td>male</td>\n",
              "      <td>0.3500</td>\n",
              "      <td>0.000</td>\n",
              "      <td>0.000000</td>\n",
              "      <td>1601</td>\n",
              "      <td>0.110273</td>\n",
              "      <td>NaN</td>\n",
              "      <td>S</td>\n",
              "    </tr>\n",
              "    <tr>\n",
              "      <th>343</th>\n",
              "      <td>344</td>\n",
              "      <td>0</td>\n",
              "      <td>0.666667</td>\n",
              "      <td>Sedgwick, Mr. Charles Frederick Waddington</td>\n",
              "      <td>male</td>\n",
              "      <td>0.3125</td>\n",
              "      <td>0.000</td>\n",
              "      <td>0.000000</td>\n",
              "      <td>244361</td>\n",
              "      <td>0.025374</td>\n",
              "      <td>NaN</td>\n",
              "      <td>S</td>\n",
              "    </tr>\n",
              "    <tr>\n",
              "      <th>574</th>\n",
              "      <td>575</td>\n",
              "      <td>0</td>\n",
              "      <td>1.000000</td>\n",
              "      <td>Rush, Mr. Alfred George John</td>\n",
              "      <td>male</td>\n",
              "      <td>0.2000</td>\n",
              "      <td>0.000</td>\n",
              "      <td>0.000000</td>\n",
              "      <td>A/4. 20589</td>\n",
              "      <td>0.015713</td>\n",
              "      <td>NaN</td>\n",
              "      <td>S</td>\n",
              "    </tr>\n",
              "  </tbody>\n",
              "</table>\n",
              "</div>"
            ],
            "text/plain": [
              "     PassengerId  Survived    Pclass  ...      Fare Cabin  Embarked\n",
              "746          747         0  1.000000  ...  0.039525   NaN         S\n",
              "591          592         1  0.333333  ...  0.152766   D20         C\n",
              "169          170         0  1.000000  ...  0.110273   NaN         S\n",
              "343          344         0  0.666667  ...  0.025374   NaN         S\n",
              "574          575         0  1.000000  ...  0.015713   NaN         S\n",
              "\n",
              "[5 rows x 12 columns]"
            ]
          },
          "metadata": {
            "tags": []
          },
          "execution_count": 10
        }
      ]
    },
    {
      "cell_type": "markdown",
      "metadata": {
        "id": "hQwTJ3Pg3CWE"
      },
      "source": [
        "**Encoding dummy variables**"
      ]
    },
    {
      "cell_type": "code",
      "metadata": {
        "id": "Q8rod9h13Hma"
      },
      "source": [
        "dummies = ['Sex']"
      ],
      "execution_count": null,
      "outputs": []
    },
    {
      "cell_type": "code",
      "metadata": {
        "id": "NVHm_p2v54l2"
      },
      "source": [
        "data = pd.get_dummies(data, columns=dummies)\n"
      ],
      "execution_count": null,
      "outputs": []
    },
    {
      "cell_type": "code",
      "metadata": {
        "id": "dy0VwbRl6FKV"
      },
      "source": [
        "data = data.drop('Name', axis=1)\n",
        "\n",
        "data = data.drop('Ticket', axis=1)\n",
        "\n",
        "data = data.drop('Embarked', axis=1)\n",
        "data = data.drop('Cabin', axis=1)\n",
        "\n"
      ],
      "execution_count": null,
      "outputs": []
    },
    {
      "cell_type": "code",
      "metadata": {
        "id": "UGtdyOVw7cPV",
        "outputId": "23312545-c98d-4565-9c49-ae43c631937b",
        "colab": {
          "base_uri": "https://localhost:8080/",
          "height": 198
        }
      },
      "source": [
        "data.head()"
      ],
      "execution_count": null,
      "outputs": [
        {
          "output_type": "execute_result",
          "data": {
            "text/html": [
              "<div>\n",
              "<style scoped>\n",
              "    .dataframe tbody tr th:only-of-type {\n",
              "        vertical-align: middle;\n",
              "    }\n",
              "\n",
              "    .dataframe tbody tr th {\n",
              "        vertical-align: top;\n",
              "    }\n",
              "\n",
              "    .dataframe thead th {\n",
              "        text-align: right;\n",
              "    }\n",
              "</style>\n",
              "<table border=\"1\" class=\"dataframe\">\n",
              "  <thead>\n",
              "    <tr style=\"text-align: right;\">\n",
              "      <th></th>\n",
              "      <th>PassengerId</th>\n",
              "      <th>Survived</th>\n",
              "      <th>Pclass</th>\n",
              "      <th>Age</th>\n",
              "      <th>SibSp</th>\n",
              "      <th>Parch</th>\n",
              "      <th>Fare</th>\n",
              "      <th>Sex_female</th>\n",
              "      <th>Sex_male</th>\n",
              "    </tr>\n",
              "  </thead>\n",
              "  <tbody>\n",
              "    <tr>\n",
              "      <th>0</th>\n",
              "      <td>1</td>\n",
              "      <td>0</td>\n",
              "      <td>1.000000</td>\n",
              "      <td>0.2750</td>\n",
              "      <td>0.125</td>\n",
              "      <td>0.0</td>\n",
              "      <td>0.014151</td>\n",
              "      <td>0</td>\n",
              "      <td>1</td>\n",
              "    </tr>\n",
              "    <tr>\n",
              "      <th>1</th>\n",
              "      <td>2</td>\n",
              "      <td>1</td>\n",
              "      <td>0.333333</td>\n",
              "      <td>0.4750</td>\n",
              "      <td>0.125</td>\n",
              "      <td>0.0</td>\n",
              "      <td>0.139136</td>\n",
              "      <td>1</td>\n",
              "      <td>0</td>\n",
              "    </tr>\n",
              "    <tr>\n",
              "      <th>2</th>\n",
              "      <td>3</td>\n",
              "      <td>1</td>\n",
              "      <td>1.000000</td>\n",
              "      <td>0.3250</td>\n",
              "      <td>0.000</td>\n",
              "      <td>0.0</td>\n",
              "      <td>0.015469</td>\n",
              "      <td>1</td>\n",
              "      <td>0</td>\n",
              "    </tr>\n",
              "    <tr>\n",
              "      <th>3</th>\n",
              "      <td>4</td>\n",
              "      <td>1</td>\n",
              "      <td>0.333333</td>\n",
              "      <td>0.4375</td>\n",
              "      <td>0.125</td>\n",
              "      <td>0.0</td>\n",
              "      <td>0.103644</td>\n",
              "      <td>1</td>\n",
              "      <td>0</td>\n",
              "    </tr>\n",
              "    <tr>\n",
              "      <th>4</th>\n",
              "      <td>5</td>\n",
              "      <td>0</td>\n",
              "      <td>1.000000</td>\n",
              "      <td>0.4375</td>\n",
              "      <td>0.000</td>\n",
              "      <td>0.0</td>\n",
              "      <td>0.015713</td>\n",
              "      <td>0</td>\n",
              "      <td>1</td>\n",
              "    </tr>\n",
              "  </tbody>\n",
              "</table>\n",
              "</div>"
            ],
            "text/plain": [
              "   PassengerId  Survived    Pclass  ...      Fare  Sex_female  Sex_male\n",
              "0            1         0  1.000000  ...  0.014151           0         1\n",
              "1            2         1  0.333333  ...  0.139136           1         0\n",
              "2            3         1  1.000000  ...  0.015469           1         0\n",
              "3            4         1  0.333333  ...  0.103644           1         0\n",
              "4            5         0  1.000000  ...  0.015713           0         1\n",
              "\n",
              "[5 rows x 9 columns]"
            ]
          },
          "metadata": {
            "tags": []
          },
          "execution_count": 14
        }
      ]
    },
    {
      "cell_type": "markdown",
      "metadata": {
        "id": "wyYqQwmD9G87"
      },
      "source": [
        "**Dividing data to features and targets**"
      ]
    },
    {
      "cell_type": "code",
      "metadata": {
        "id": "UN7lnKo0rXT2"
      },
      "source": [
        "\n",
        "column_names = ['PassengerId','Pclass',\t'Age'\t,\t'Fare','Sex_female',\t'Sex_male','Survived']\n",
        "\n",
        "data = data.reindex(columns=column_names) #reorder columns to simplify the work"
      ],
      "execution_count": null,
      "outputs": []
    },
    {
      "cell_type": "code",
      "metadata": {
        "id": "B6gRwROXGRPy",
        "outputId": "6061f79b-cd13-4407-f22d-ed7b04c08c32",
        "colab": {
          "base_uri": "https://localhost:8080/",
          "height": 198
        }
      },
      "source": [
        "data.sample(5)"
      ],
      "execution_count": null,
      "outputs": [
        {
          "output_type": "execute_result",
          "data": {
            "text/html": [
              "<div>\n",
              "<style scoped>\n",
              "    .dataframe tbody tr th:only-of-type {\n",
              "        vertical-align: middle;\n",
              "    }\n",
              "\n",
              "    .dataframe tbody tr th {\n",
              "        vertical-align: top;\n",
              "    }\n",
              "\n",
              "    .dataframe thead th {\n",
              "        text-align: right;\n",
              "    }\n",
              "</style>\n",
              "<table border=\"1\" class=\"dataframe\">\n",
              "  <thead>\n",
              "    <tr style=\"text-align: right;\">\n",
              "      <th></th>\n",
              "      <th>PassengerId</th>\n",
              "      <th>Pclass</th>\n",
              "      <th>Age</th>\n",
              "      <th>Fare</th>\n",
              "      <th>Sex_female</th>\n",
              "      <th>Sex_male</th>\n",
              "      <th>Survived</th>\n",
              "    </tr>\n",
              "  </thead>\n",
              "  <tbody>\n",
              "    <tr>\n",
              "      <th>471</th>\n",
              "      <td>472</td>\n",
              "      <td>1.0</td>\n",
              "      <td>0.4750</td>\n",
              "      <td>0.016908</td>\n",
              "      <td>0</td>\n",
              "      <td>1</td>\n",
              "      <td>0</td>\n",
              "    </tr>\n",
              "    <tr>\n",
              "      <th>81</th>\n",
              "      <td>82</td>\n",
              "      <td>1.0</td>\n",
              "      <td>0.3625</td>\n",
              "      <td>0.018543</td>\n",
              "      <td>0</td>\n",
              "      <td>1</td>\n",
              "      <td>1</td>\n",
              "    </tr>\n",
              "    <tr>\n",
              "      <th>80</th>\n",
              "      <td>81</td>\n",
              "      <td>1.0</td>\n",
              "      <td>0.2750</td>\n",
              "      <td>0.017567</td>\n",
              "      <td>0</td>\n",
              "      <td>1</td>\n",
              "      <td>0</td>\n",
              "    </tr>\n",
              "    <tr>\n",
              "      <th>595</th>\n",
              "      <td>596</td>\n",
              "      <td>1.0</td>\n",
              "      <td>0.4500</td>\n",
              "      <td>0.047138</td>\n",
              "      <td>0</td>\n",
              "      <td>1</td>\n",
              "      <td>0</td>\n",
              "    </tr>\n",
              "    <tr>\n",
              "      <th>764</th>\n",
              "      <td>765</td>\n",
              "      <td>1.0</td>\n",
              "      <td>0.2000</td>\n",
              "      <td>0.015176</td>\n",
              "      <td>0</td>\n",
              "      <td>1</td>\n",
              "      <td>0</td>\n",
              "    </tr>\n",
              "  </tbody>\n",
              "</table>\n",
              "</div>"
            ],
            "text/plain": [
              "     PassengerId  Pclass     Age      Fare  Sex_female  Sex_male  Survived\n",
              "471          472     1.0  0.4750  0.016908           0         1         0\n",
              "81            82     1.0  0.3625  0.018543           0         1         1\n",
              "80            81     1.0  0.2750  0.017567           0         1         0\n",
              "595          596     1.0  0.4500  0.047138           0         1         0\n",
              "764          765     1.0  0.2000  0.015176           0         1         0"
            ]
          },
          "metadata": {
            "tags": []
          },
          "execution_count": 16
        }
      ]
    },
    {
      "cell_type": "code",
      "metadata": {
        "id": "0MqRKsJo9J-8"
      },
      "source": [
        "#Separating features and target\n",
        "data = data.values\n",
        "train_data =data[:,0:5]\n",
        "test_data =data[:,5]"
      ],
      "execution_count": null,
      "outputs": []
    },
    {
      "cell_type": "code",
      "metadata": {
        "id": "qJqF_uRGsLmG"
      },
      "source": [
        "# standardize data\n",
        "train_data = StandardScaler().fit_transform(train_data)\n",
        "test_data = StandardScaler().fit_transform(test_data.reshape(len(test_data),1))[:,0]"
      ],
      "execution_count": null,
      "outputs": []
    },
    {
      "cell_type": "code",
      "metadata": {
        "id": "cG9sB5p8sRMD"
      },
      "source": [
        "#split the data 80% for training and 20% for testing\n",
        "X_train,X_test,y_train,y_test=train_test_split(train_data,test_data,test_size=0.2)"
      ],
      "execution_count": null,
      "outputs": []
    },
    {
      "cell_type": "code",
      "metadata": {
        "id": "we0plCRUKJ8-",
        "outputId": "d5c2184d-ef95-4fa1-bb02-6ed60f64d66b",
        "colab": {
          "base_uri": "https://localhost:8080/"
        }
      },
      "source": [
        "print(X_train.shape)\n",
        "print(X_test.shape)\n",
        "print(y_train.shape)\n",
        "print(y_test.shape)"
      ],
      "execution_count": null,
      "outputs": [
        {
          "output_type": "stream",
          "text": [
            "(712, 5)\n",
            "(179, 5)\n",
            "(712,)\n",
            "(179,)\n"
          ],
          "name": "stdout"
        }
      ]
    },
    {
      "cell_type": "markdown",
      "metadata": {
        "id": "ycqmS_gg9wbp"
      },
      "source": [
        "# **Model creation**"
      ]
    },
    {
      "cell_type": "code",
      "metadata": {
        "id": "wFhBxwHQsmc5"
      },
      "source": [
        "\n",
        "def sigmoid(x, max_v=1.0):    \n",
        "    sign = (np.sign(x) + 3)//3\n",
        "    x = np.abs(x)\n",
        "    res = max_v/(1 + np.exp(-x))\n",
        "    res = res * sign + (1 - sign) * (max_v - res)\n",
        "    return res\n",
        "\n",
        "def der_sigmoid(x ,max_v=1.0):\n",
        "    sign = (np.sign(x) + 3)//3\n",
        "    x = np.abs(x)\n",
        "    res = max_v/(1 + np.exp(-x))\n",
        "    res = res * sign + (1 - sign) * (max_v - res)\n",
        "    return res*(1.0 - res)"
      ],
      "execution_count": null,
      "outputs": []
    },
    {
      "cell_type": "markdown",
      "metadata": {
        "id": "ZAi1gJyI_OuI"
      },
      "source": [
        "**Perceptron**"
      ]
    },
    {
      "cell_type": "code",
      "metadata": {
        "id": "6evl4Ucd_WVO"
      },
      "source": [
        "class Perceptron: \n",
        "  def __init__(self, inputs):\n",
        "    self.inputs = inputs # valeurs te3na\n",
        "    self.input_neurons =  len(X_train[0]) #nbr input neurons\n",
        "    self.hidden_neurons = 5 #nbr hidden neurons\n",
        "\n",
        "    self.input_weights = np.random.random((self.input_neurons, self.hidden_neurons))  # input weights \n",
        "    self.output_weights = np.random.random((self.hidden_neurons, len(X_train[0])))\n",
        "  \n",
        "  def predict(self, inps):\n",
        "    s1 = sigmoid(np.dot(inps, self.input_weights))\n",
        "    return sigmoid(np.dot(s1, self.output_weights))\n",
        "  \n",
        "  def train(self, t_inputs, t_outputs, epochs): #epochs hiya nafsha nbr itérations\n",
        "    for i in range(epochs):\n",
        "      s1 = sigmoid(np.dot(t_inputs, self.input_weights))\n",
        "      s2 = sigmoid(np.dot(s1, self.output_weights))\n",
        "\n",
        "\n",
        "      # calcul erreur et delta output layer\n",
        "      ol_error = t_outputs - s2\n",
        "      ol_delta = np.multiply(ol_error, der_sigmoid(ol_error))\n",
        "\n",
        "      # calcul erreur et delta hidden layer\n",
        "      hl_error =  np.dot(ol_delta, self.output_weights.T)\n",
        "      hl_delta = np.multiply(hl_error, der_sigmoid(hl_error))\n",
        "\n",
        "      self.input_weights += np.dot(t_inputs.T, hl_delta)\n",
        "      self.output_weights += np.dot(s2.T, ol_delta)\n",
        "\n",
        "      print(np.mean( np.abs((ol_error))))\n",
        "      \n",
        "\n",
        "model = Perceptron(6)"
      ],
      "execution_count": null,
      "outputs": []
    },
    {
      "cell_type": "code",
      "metadata": {
        "id": "yreHRdh2Sqj5"
      },
      "source": [
        "y_train = y_train.reshape(-1,1)"
      ],
      "execution_count": null,
      "outputs": []
    },
    {
      "cell_type": "code",
      "metadata": {
        "id": "-wuWiWJDKSO3",
        "outputId": "ff883213-bc33-4295-9f98-8796cda5f178",
        "colab": {
          "base_uri": "https://localhost:8080/"
        }
      },
      "source": [
        "\n",
        "model.train(X_train, y_train, 100)\n"
      ],
      "execution_count": null,
      "outputs": [
        {
          "output_type": "stream",
          "text": [
            "0.729761431458924\n",
            "0.7297445479321224\n",
            "0.7299411835181051\n",
            "0.7299366014200562\n",
            "0.7299320300485876\n",
            "0.7299274695725682\n",
            "0.7299229201585762\n",
            "0.7299183819708789\n",
            "0.7299138551714075\n",
            "0.7299093399197374\n",
            "0.7299048363730672\n",
            "0.7299003446862001\n",
            "0.7298958650115244\n",
            "0.7298913974989971\n",
            "0.7298869422961276\n",
            "0.7298824995479618\n",
            "0.729878069397068\n",
            "0.7298736519835239\n",
            "0.7298692474449037\n",
            "0.7298648559162672\n",
            "0.7298604775301486\n",
            "0.7298561124165487\n",
            "0.7298517607029246\n",
            "0.7298474225141829\n",
            "0.7298430979726738\n",
            "0.7298387871981844\n",
            "0.7298344903079348\n",
            "0.7298302074165742\n",
            "0.7298259386361778\n",
            "0.729821684076245\n",
            "0.7298174438436987\n",
            "0.7298132180428843\n",
            "0.7298090067755717\n",
            "0.7298048101409556\n",
            "0.7298006282356589\n",
            "0.7297964611537355\n",
            "0.7297923089866729\n",
            "0.7297881718233878\n",
            "0.7297840497501511\n",
            "0.7297799428498883\n",
            "0.7297758511958451\n",
            "0.7297717747927035\n",
            "0.7297677130153333\n",
            "0.7297636591505332\n",
            "0.7297595464926412\n",
            "0.7297546868156135\n",
            "0.7297482889448873\n",
            "0.7297852594429304\n",
            "0.7297815532140582\n",
            "0.7297778593797648\n",
            "0.7297741779949468\n",
            "0.7297705090823313\n",
            "0.7297668523667186\n",
            "0.7297632046398597\n",
            "0.7297595333272701\n",
            "0.7297555040842268\n",
            "0.7297467329051527\n",
            "0.7298542472447573\n",
            "0.7298553581821654\n",
            "0.7298564311253141\n",
            "0.7298574664723099\n",
            "0.7298584646243488\n",
            "0.7298594259854316\n",
            "0.7298603509620838\n",
            "0.7298612399630837\n",
            "0.7298620933991982\n",
            "0.729862911682925\n",
            "0.7298636952282436\n",
            "0.7298644444503719\n",
            "0.7298651597655316\n",
            "0.7298658415907193\n",
            "0.7298664903434869\n",
            "0.7298671064417266\n",
            "0.7298676903034648\n",
            "0.7298682423466623\n",
            "0.7298687629890209\n",
            "0.7298692526477979\n",
            "0.7298697117396266\n",
            "0.729870140680343\n",
            "0.7298705398848201\n",
            "0.7298709097668079\n",
            "0.7298712507387795\n",
            "0.7298715632117839\n",
            "0.7298718475953051\n",
            "0.7298721042971261\n",
            "0.7298723337231994\n",
            "0.7298725362775238\n",
            "0.7298727123620259\n",
            "0.7298728623764474\n",
            "0.7298729867182374\n",
            "0.7298730857824512\n",
            "0.7298731599616525\n",
            "0.7298732096458214\n",
            "0.7298732352222683\n",
            "0.7298732370755503\n",
            "0.729873215587394\n",
            "0.7298731711366224\n",
            "0.7298731040990857\n",
            "0.7298730148475964\n",
            "0.7298729037518698\n"
          ],
          "name": "stdout"
        }
      ]
    },
    {
      "cell_type": "code",
      "metadata": {
        "id": "ssPckURcKb1P",
        "outputId": "3f1c052f-db63-45ff-b4d6-f44c805f55f1",
        "colab": {
          "base_uri": "https://localhost:8080/"
        }
      },
      "source": [
        " preds = model.predict(X_test)\n",
        " print(preds)"
      ],
      "execution_count": null,
      "outputs": [
        {
          "output_type": "stream",
          "text": [
            "[[0.         1.         0.         0.         0.        ]\n",
            " [0.5        0.5        0.5        0.5        0.5       ]\n",
            " [0.5        0.5        0.5        0.5        0.5       ]\n",
            " [0.5        0.5        0.5        0.5        0.5       ]\n",
            " [0.         1.         0.         0.         0.        ]\n",
            " [0.5        0.5        0.5        0.5        0.5       ]\n",
            " [0.         1.         0.         0.         0.        ]\n",
            " [0.5        0.5        0.5        0.5        0.5       ]\n",
            " [0.         1.         0.         0.         0.        ]\n",
            " [0.5        0.5        0.5        0.5        0.5       ]\n",
            " [0.         1.         0.         0.         0.        ]\n",
            " [0.5        0.5        0.5        0.5        0.5       ]\n",
            " [0.5        0.5        0.5        0.5        0.5       ]\n",
            " [0.         1.         0.         0.         0.        ]\n",
            " [0.5        0.5        0.5        0.5        0.5       ]\n",
            " [0.50000005 0.50000005 0.50000005 0.50000005 0.50000005]\n",
            " [0.         1.         0.         0.         0.        ]\n",
            " [0.5        0.5        0.5        0.5        0.5       ]\n",
            " [0.5        0.5        0.5        0.5        0.5       ]\n",
            " [0.5        0.5        0.5        0.5        0.5       ]\n",
            " [0.         0.         0.         0.         0.        ]\n",
            " [0.         1.         0.         0.         0.        ]\n",
            " [0.5        0.5        0.5        0.5        0.5       ]\n",
            " [0.         1.         0.         0.         0.        ]\n",
            " [0.         1.         0.         0.         0.        ]\n",
            " [0.5        0.5        0.5        0.5        0.5       ]\n",
            " [0.5        0.5        0.5        0.5        0.5       ]\n",
            " [0.         1.         0.         0.         0.        ]\n",
            " [0.5        0.5        0.5        0.5        0.5       ]\n",
            " [0.         1.         0.         0.         0.        ]\n",
            " [0.5        0.5        0.5        0.5        0.5       ]\n",
            " [0.5        0.5        0.5        0.5        0.5       ]\n",
            " [0.5        0.5        0.5        0.5        0.5       ]\n",
            " [0.         1.         0.         0.         0.        ]\n",
            " [0.5        0.5        0.5        0.5        0.5       ]\n",
            " [0.5        0.5        0.5        0.5        0.5       ]\n",
            " [0.         0.         0.         0.         0.        ]\n",
            " [0.5        0.5        0.5        0.5        0.5       ]\n",
            " [0.5        0.5        0.5        0.5        0.5       ]\n",
            " [0.5        0.5        0.5        0.5        0.5       ]\n",
            " [0.         1.         0.         0.         0.        ]\n",
            " [0.5        0.5        0.5        0.5        0.5       ]\n",
            " [0.5        0.5        0.5        0.5        0.5       ]\n",
            " [0.         1.         0.         0.         0.        ]\n",
            " [0.5        0.5        0.5        0.5        0.5       ]\n",
            " [0.5        0.5        0.5        0.5        0.5       ]\n",
            " [0.         1.         0.         0.         0.        ]\n",
            " [0.         1.         0.         0.         0.        ]\n",
            " [0.         1.         0.         0.         0.        ]\n",
            " [0.5        0.5        0.5        0.5        0.5       ]\n",
            " [0.5        0.5        0.5        0.5        0.5       ]\n",
            " [0.         1.         0.         0.         0.        ]\n",
            " [0.5        0.5        0.5        0.5        0.5       ]\n",
            " [0.         0.         0.         0.         0.        ]\n",
            " [0.         0.         0.         0.         0.        ]\n",
            " [1.         1.         1.         1.         1.        ]\n",
            " [0.5        0.5        0.5        0.5        0.5       ]\n",
            " [0.5        0.5        0.5        0.5        0.5       ]\n",
            " [0.5        0.5        0.5        0.5        0.5       ]\n",
            " [0.5        0.5        0.5        0.5        0.5       ]\n",
            " [0.5        0.5        0.5        0.5        0.5       ]\n",
            " [0.         1.         0.         0.         0.        ]\n",
            " [0.5        0.5        0.5        0.5        0.5       ]\n",
            " [0.         1.         0.         0.         0.        ]\n",
            " [0.5        0.5        0.5        0.5        0.5       ]\n",
            " [0.5        0.5        0.5        0.5        0.5       ]\n",
            " [0.         1.         0.         0.         0.        ]\n",
            " [0.5        0.5        0.5        0.5        0.5       ]\n",
            " [0.         1.         0.         0.         0.        ]\n",
            " [0.49999988 0.4999999  0.49999988 0.49999988 0.49999988]\n",
            " [0.5        0.5        0.5        0.5        0.5       ]\n",
            " [0.5        0.5        0.5        0.5        0.5       ]\n",
            " [0.         1.         0.         0.         0.        ]\n",
            " [0.5        0.5        0.5        0.5        0.5       ]\n",
            " [0.         1.         0.         0.         0.        ]\n",
            " [0.5        0.5        0.5        0.5        0.5       ]\n",
            " [0.         1.         0.         0.         0.        ]\n",
            " [0.5        0.5        0.5        0.5        0.5       ]\n",
            " [0.5        0.5        0.5        0.5        0.5       ]\n",
            " [0.         1.         0.         0.         0.        ]\n",
            " [0.5        0.5        0.5        0.5        0.5       ]\n",
            " [0.5        0.5        0.5        0.5        0.5       ]\n",
            " [0.5        0.5        0.5        0.5        0.5       ]\n",
            " [0.5        0.5        0.5        0.5        0.5       ]\n",
            " [0.5        0.5        0.5        0.5        0.5       ]\n",
            " [0.         1.         0.         0.         0.        ]\n",
            " [0.         1.         0.         0.         0.        ]\n",
            " [0.5        0.5        0.5        0.5        0.5       ]\n",
            " [0.         1.         0.         0.         0.        ]\n",
            " [0.5        0.5        0.5        0.5        0.5       ]\n",
            " [0.         1.         0.         0.         0.        ]\n",
            " [0.5        0.5        0.5        0.5        0.5       ]\n",
            " [0.5        0.5        0.5        0.5        0.5       ]\n",
            " [0.         1.         0.         0.         0.        ]\n",
            " [0.5        0.5        0.5        0.5        0.5       ]\n",
            " [0.5        0.5        0.5        0.5        0.5       ]\n",
            " [0.5        0.5        0.5        0.5        0.5       ]\n",
            " [0.50000137 0.50000138 0.50000137 0.50000137 0.50000137]\n",
            " [0.5        0.5        0.5        0.5        0.5       ]\n",
            " [0.5        0.5        0.5        0.5        0.5       ]\n",
            " [0.         1.         0.         0.         0.        ]\n",
            " [0.         1.         0.         0.         0.        ]\n",
            " [1.         1.         1.         1.         1.        ]\n",
            " [0.5        0.5        0.5        0.5        0.5       ]\n",
            " [0.5        0.5        0.5        0.5        0.5       ]\n",
            " [0.5        0.5        0.5        0.5        0.5       ]\n",
            " [1.         1.         1.         1.         1.        ]\n",
            " [0.5        0.5        0.5        0.5        0.5       ]\n",
            " [0.5        0.5        0.5        0.5        0.5       ]\n",
            " [0.5        0.5        0.5        0.5        0.5       ]\n",
            " [0.         1.         0.         0.         0.        ]\n",
            " [0.5        0.5        0.5        0.5        0.5       ]\n",
            " [0.         1.         0.         0.         0.        ]\n",
            " [0.5        0.5        0.5        0.5        0.5       ]\n",
            " [0.5        0.5        0.5        0.5        0.5       ]\n",
            " [0.         1.         0.         0.         0.        ]\n",
            " [0.5        0.5        0.5        0.5        0.5       ]\n",
            " [0.5        0.5        0.5        0.5        0.5       ]\n",
            " [0.5        0.5        0.5        0.5        0.5       ]\n",
            " [0.5        0.5        0.5        0.5        0.5       ]\n",
            " [0.5        0.5        0.5        0.5        0.5       ]\n",
            " [0.5        0.5        0.5        0.5        0.5       ]\n",
            " [0.5        0.5        0.5        0.5        0.5       ]\n",
            " [0.5        0.5        0.5        0.5        0.5       ]\n",
            " [0.         1.         0.         0.         0.        ]\n",
            " [0.5        0.5        0.5        0.5        0.5       ]\n",
            " [0.         1.         0.         0.         0.        ]\n",
            " [0.5        0.5        0.5        0.5        0.5       ]\n",
            " [0.5        0.5        0.5        0.5        0.5       ]\n",
            " [0.         1.         0.         0.         0.        ]\n",
            " [0.         1.         0.         0.         0.        ]\n",
            " [0.5        0.5        0.5        0.5        0.5       ]\n",
            " [0.5        0.5        0.5        0.5        0.5       ]\n",
            " [0.         1.         0.         0.         0.        ]\n",
            " [0.         1.         0.         0.         0.        ]\n",
            " [0.         1.         0.         0.         0.        ]\n",
            " [0.5        0.5        0.5        0.5        0.5       ]\n",
            " [0.5        0.5        0.5        0.5        0.5       ]\n",
            " [0.5        0.5        0.5        0.5        0.5       ]\n",
            " [0.         0.         0.         0.         0.        ]\n",
            " [0.         1.         0.         0.         0.        ]\n",
            " [0.5        0.5        0.5        0.5        0.5       ]\n",
            " [0.5        0.5        0.5        0.5        0.5       ]\n",
            " [0.         1.         0.         0.         0.        ]\n",
            " [0.5        0.5        0.5        0.5        0.5       ]\n",
            " [0.5        0.5        0.5        0.5        0.5       ]\n",
            " [0.         1.         0.         0.         0.        ]\n",
            " [0.         1.         0.         0.         0.        ]\n",
            " [0.5        0.5        0.5        0.5        0.5       ]\n",
            " [0.5        0.5        0.5        0.5        0.5       ]\n",
            " [0.5        0.5        0.5        0.5        0.5       ]\n",
            " [0.5        0.5        0.5        0.5        0.5       ]\n",
            " [0.         1.         0.         0.         0.        ]\n",
            " [0.5        0.5        0.5        0.5        0.5       ]\n",
            " [0.5        0.5        0.5        0.5        0.5       ]\n",
            " [0.         1.         0.         0.         0.        ]\n",
            " [0.         1.         0.         0.         0.        ]\n",
            " [0.5        0.5        0.5        0.5        0.5       ]\n",
            " [0.         1.         0.         0.         0.        ]\n",
            " [0.5        0.5        0.5        0.5        0.5       ]\n",
            " [0.5        0.5        0.5        0.5        0.5       ]\n",
            " [0.         1.         0.         0.         0.        ]\n",
            " [0.5        0.5        0.5        0.5        0.5       ]\n",
            " [0.         1.         0.         0.         0.        ]\n",
            " [0.         1.         0.         0.         0.        ]\n",
            " [0.5        0.5        0.5        0.5        0.5       ]\n",
            " [0.         1.         0.         0.         0.        ]\n",
            " [0.5        0.5        0.5        0.5        0.5       ]\n",
            " [0.5        0.5        0.5        0.5        0.5       ]\n",
            " [0.         1.         0.         0.         0.        ]\n",
            " [0.5        0.5        0.5        0.5        0.5       ]\n",
            " [0.5        0.5        0.5        0.5        0.5       ]\n",
            " [0.5        0.5        0.5        0.5        0.5       ]\n",
            " [0.         1.         0.         0.         0.        ]\n",
            " [0.5        0.5        0.5        0.5        0.5       ]\n",
            " [0.5        0.5        0.5        0.5        0.5       ]\n",
            " [0.5        0.5        0.5        0.5        0.5       ]\n",
            " [0.         1.         0.         0.         0.        ]\n",
            " [0.5        0.5        0.5        0.5        0.5       ]]\n"
          ],
          "name": "stdout"
        }
      ]
    },
    {
      "cell_type": "code",
      "metadata": {
        "id": "ieJiAi44KieB",
        "outputId": "552111fd-751a-40f8-c8a6-63b8e4a55725",
        "colab": {
          "base_uri": "https://localhost:8080/"
        }
      },
      "source": [
        "preds = np.around(preds)\n",
        "print(preds.shape)"
      ],
      "execution_count": null,
      "outputs": [
        {
          "output_type": "stream",
          "text": [
            "(179,)\n"
          ],
          "name": "stdout"
        }
      ]
    },
    {
      "cell_type": "code",
      "metadata": {
        "id": "MXCsH64lPW7a"
      },
      "source": [
        "preds=np.argmax(preds, axis=1)"
      ],
      "execution_count": null,
      "outputs": []
    },
    {
      "cell_type": "code",
      "metadata": {
        "id": "V5e-YMMuPcWK"
      },
      "source": [
        "y_test=np.argmax(y_test, axis=1)"
      ],
      "execution_count": null,
      "outputs": []
    },
    {
      "cell_type": "code",
      "metadata": {
        "id": "kv3e9J80x3xM"
      },
      "source": [
        "from sklearn.metrics import accuracy_score, f1_score, confusion_matrix"
      ],
      "execution_count": null,
      "outputs": []
    },
    {
      "cell_type": "code",
      "metadata": {
        "id": "j0WFXWJ1Lvox",
        "outputId": "969b0490-4891-4a7f-cf78-10ca3724d81c",
        "colab": {
          "base_uri": "https://localhost:8080/"
        }
      },
      "source": [
        "accuracy_score(y_test, preds, normalize=True, sample_weight=None)"
      ],
      "execution_count": null,
      "outputs": [
        {
          "output_type": "execute_result",
          "data": {
            "text/plain": [
              "0.6312849162011173"
            ]
          },
          "metadata": {
            "tags": []
          },
          "execution_count": 136
        }
      ]
    }
  ]
}