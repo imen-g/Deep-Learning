{
  "nbformat": 4,
  "nbformat_minor": 0,
  "metadata": {
    "colab": {
      "name": "Metrics_classification.ipynb",
      "provenance": [],
      "collapsed_sections": [],
      "authorship_tag": "ABX9TyNYQExViG5uiWR2q6HStk/5",
      "include_colab_link": true
    },
    "kernelspec": {
      "display_name": "Python 3",
      "name": "python3"
    }
  },
  "cells": [
    {
      "cell_type": "markdown",
      "metadata": {
        "id": "view-in-github",
        "colab_type": "text"
      },
      "source": [
        "<a href=\"https://colab.research.google.com/github/imen-g/Deep-Learning/blob/master/Metrics_classification.ipynb\" target=\"_parent\"><img src=\"https://colab.research.google.com/assets/colab-badge.svg\" alt=\"Open In Colab\"/></a>"
      ]
    },
    {
      "cell_type": "markdown",
      "metadata": {
        "id": "BAjDZqn1BFBP"
      },
      "source": [
        "\n",
        "\n",
        "**Importing libraries**\n",
        "\n"
      ]
    },
    {
      "cell_type": "code",
      "metadata": {
        "id": "yXgbzyFYAlav"
      },
      "source": [
        "import numpy as np\n",
        "import pandas as pd\n",
        "from keras.models import Sequential\n",
        "from keras.layers import Dense\n",
        "from keras.wrappers.scikit_learn import KerasClassifier\n",
        "from keras.utils import np_utils\n",
        "from sklearn.model_selection import cross_val_score\n",
        "from sklearn.model_selection import KFold\n",
        "from sklearn.preprocessing import LabelEncoder\n",
        "from sklearn.pipeline import Pipeline\n",
        "import matplotlib.pyplot as plt"
      ],
      "execution_count": 117,
      "outputs": []
    },
    {
      "cell_type": "markdown",
      "metadata": {
        "id": "-vb9-l5IBRah"
      },
      "source": [
        "**Importing the Dataset**"
      ]
    },
    {
      "cell_type": "code",
      "metadata": {
        "colab": {
          "base_uri": "https://localhost:8080/",
          "height": 292
        },
        "id": "5voQddgVFCgm",
        "outputId": "0c90cfc8-f116-4c5e-c380-6dce6cfaec00"
      },
      "source": [
        "data = pd.read_csv('metrics_database.csv',parse_dates=True) \n",
        "data.sample(5)"
      ],
      "execution_count": 118,
      "outputs": [
        {
          "output_type": "execute_result",
          "data": {
            "text/html": [
              "<div>\n",
              "<style scoped>\n",
              "    .dataframe tbody tr th:only-of-type {\n",
              "        vertical-align: middle;\n",
              "    }\n",
              "\n",
              "    .dataframe tbody tr th {\n",
              "        vertical-align: top;\n",
              "    }\n",
              "\n",
              "    .dataframe thead th {\n",
              "        text-align: right;\n",
              "    }\n",
              "</style>\n",
              "<table border=\"1\" class=\"dataframe\">\n",
              "  <thead>\n",
              "    <tr style=\"text-align: right;\">\n",
              "      <th></th>\n",
              "      <th>_id</th>\n",
              "      <th>Broker_availability</th>\n",
              "      <th>Average_response_time</th>\n",
              "      <th>flowConsumer</th>\n",
              "      <th>flowPublisher</th>\n",
              "      <th>Average_execution_delay</th>\n",
              "      <th>goodPut</th>\n",
              "      <th>Broker_reactivity</th>\n",
              "      <th>Network_delay</th>\n",
              "      <th>Conformity_rate</th>\n",
              "      <th>Broker_failure_rate</th>\n",
              "      <th>Rate_of_messages_transmitted</th>\n",
              "      <th>existence_of_problem</th>\n",
              "      <th>type_of_problem</th>\n",
              "    </tr>\n",
              "  </thead>\n",
              "  <tbody>\n",
              "    <tr>\n",
              "      <th>27</th>\n",
              "      <td>ObjectId(611e63d36766078ecb18aa83)</td>\n",
              "      <td>0.0</td>\n",
              "      <td>2.3779</td>\n",
              "      <td>0.9103</td>\n",
              "      <td>0.3828</td>\n",
              "      <td>0.7732</td>\n",
              "      <td>0.0012</td>\n",
              "      <td>1.0984</td>\n",
              "      <td>781</td>\n",
              "      <td>100.0</td>\n",
              "      <td>40.7920</td>\n",
              "      <td>29.6039</td>\n",
              "      <td>yes</td>\n",
              "      <td>Low response time</td>\n",
              "    </tr>\n",
              "    <tr>\n",
              "      <th>23</th>\n",
              "      <td>ObjectId(611e63d36766078ecb18aa80)</td>\n",
              "      <td>0.0</td>\n",
              "      <td>1.0000</td>\n",
              "      <td>1.7845</td>\n",
              "      <td>1.7845</td>\n",
              "      <td>0.4700</td>\n",
              "      <td>0.0050</td>\n",
              "      <td>0.9200</td>\n",
              "      <td>541</td>\n",
              "      <td>100.0</td>\n",
              "      <td>0.0000</td>\n",
              "      <td>100.0000</td>\n",
              "      <td>no</td>\n",
              "      <td>no problem</td>\n",
              "    </tr>\n",
              "    <tr>\n",
              "      <th>6</th>\n",
              "      <td>ObjectId(611e63d36766078ecb18aa12)</td>\n",
              "      <td>0.0</td>\n",
              "      <td>9.4708</td>\n",
              "      <td>1.8665</td>\n",
              "      <td>0.1970</td>\n",
              "      <td>0.4845</td>\n",
              "      <td>0.0018</td>\n",
              "      <td>0.5357</td>\n",
              "      <td>959</td>\n",
              "      <td>100.0</td>\n",
              "      <td>23.8994</td>\n",
              "      <td>4.5502</td>\n",
              "      <td>yes</td>\n",
              "      <td>Consumption stopped</td>\n",
              "    </tr>\n",
              "    <tr>\n",
              "      <th>0</th>\n",
              "      <td>ObjectId(611e63d36766078ecb18aa70)</td>\n",
              "      <td>0.0</td>\n",
              "      <td>2.0169</td>\n",
              "      <td>0.3986</td>\n",
              "      <td>0.1976</td>\n",
              "      <td>1.6769</td>\n",
              "      <td>0.0016</td>\n",
              "      <td>2.5084</td>\n",
              "      <td>597</td>\n",
              "      <td>100.0</td>\n",
              "      <td>33.7078</td>\n",
              "      <td>33.1460</td>\n",
              "      <td>yes</td>\n",
              "      <td>Missing consumer partner</td>\n",
              "    </tr>\n",
              "    <tr>\n",
              "      <th>2</th>\n",
              "      <td>ObjectId(611e63d36766078ecb18aa66)</td>\n",
              "      <td>0.0</td>\n",
              "      <td>2.0169</td>\n",
              "      <td>0.3986</td>\n",
              "      <td>0.1976</td>\n",
              "      <td>1.6769</td>\n",
              "      <td>0.0016</td>\n",
              "      <td>2.5084</td>\n",
              "      <td>597</td>\n",
              "      <td>100.0</td>\n",
              "      <td>3.7546</td>\n",
              "      <td>2.3546</td>\n",
              "      <td>yes</td>\n",
              "      <td>Missing consumer partner</td>\n",
              "    </tr>\n",
              "  </tbody>\n",
              "</table>\n",
              "</div>"
            ],
            "text/plain": [
              "                                   _id  ...           type_of_problem\n",
              "27  ObjectId(611e63d36766078ecb18aa83)  ...         Low response time\n",
              "23  ObjectId(611e63d36766078ecb18aa80)  ...                no problem\n",
              "6   ObjectId(611e63d36766078ecb18aa12)  ...       Consumption stopped\n",
              "0   ObjectId(611e63d36766078ecb18aa70)  ...  Missing consumer partner\n",
              "2   ObjectId(611e63d36766078ecb18aa66)  ...  Missing consumer partner\n",
              "\n",
              "[5 rows x 14 columns]"
            ]
          },
          "metadata": {},
          "execution_count": 118
        }
      ]
    },
    {
      "cell_type": "markdown",
      "metadata": {
        "id": "x6n6-iKYGmQP"
      },
      "source": [
        "**Data processing**"
      ]
    },
    {
      "cell_type": "code",
      "metadata": {
        "colab": {
          "base_uri": "https://localhost:8080/"
        },
        "id": "HED8GZjqGlrv",
        "outputId": "12ff33f8-4fdc-4ed6-da59-a0e8682d06ea"
      },
      "source": [
        "data.isna().sum() #Checking for missing values"
      ],
      "execution_count": 119,
      "outputs": [
        {
          "output_type": "execute_result",
          "data": {
            "text/plain": [
              "_id                             0\n",
              "Broker_availability             0\n",
              "Average_response_time           0\n",
              "flowConsumer                    0\n",
              "flowPublisher                   0\n",
              "Average_execution_delay         0\n",
              "goodPut                         0\n",
              "Broker_reactivity               0\n",
              "Network_delay                   0\n",
              "Conformity_rate                 0\n",
              "Broker_failure_rate             0\n",
              "Rate_of_messages_transmitted    0\n",
              "existence_of_problem            0\n",
              "type_of_problem                 0\n",
              "dtype: int64"
            ]
          },
          "metadata": {},
          "execution_count": 119
        }
      ]
    },
    {
      "cell_type": "code",
      "metadata": {
        "colab": {
          "base_uri": "https://localhost:8080/"
        },
        "id": "SfvwFsSCF4ib",
        "outputId": "e175ef59-8f66-4b22-fe48-b7834fa3bbda"
      },
      "source": [
        "data.info()"
      ],
      "execution_count": 120,
      "outputs": [
        {
          "output_type": "stream",
          "text": [
            "<class 'pandas.core.frame.DataFrame'>\n",
            "RangeIndex: 50 entries, 0 to 49\n",
            "Data columns (total 14 columns):\n",
            " #   Column                        Non-Null Count  Dtype  \n",
            "---  ------                        --------------  -----  \n",
            " 0   _id                           50 non-null     object \n",
            " 1   Broker_availability           50 non-null     float64\n",
            " 2   Average_response_time         50 non-null     float64\n",
            " 3   flowConsumer                  50 non-null     float64\n",
            " 4   flowPublisher                 50 non-null     float64\n",
            " 5   Average_execution_delay       50 non-null     float64\n",
            " 6   goodPut                       50 non-null     float64\n",
            " 7   Broker_reactivity             50 non-null     float64\n",
            " 8   Network_delay                 50 non-null     int64  \n",
            " 9   Conformity_rate               50 non-null     float64\n",
            " 10  Broker_failure_rate           50 non-null     float64\n",
            " 11  Rate_of_messages_transmitted  50 non-null     float64\n",
            " 12  existence_of_problem          50 non-null     object \n",
            " 13  type_of_problem               50 non-null     object \n",
            "dtypes: float64(10), int64(1), object(3)\n",
            "memory usage: 5.6+ KB\n"
          ],
          "name": "stdout"
        }
      ]
    },
    {
      "cell_type": "code",
      "metadata": {
        "colab": {
          "base_uri": "https://localhost:8080/"
        },
        "id": "dszaHogZgkgS",
        "outputId": "1dd9968e-3823-4243-be99-a3670d7d54bd"
      },
      "source": [
        "data.type_of_problem.value_counts()"
      ],
      "execution_count": 121,
      "outputs": [
        {
          "output_type": "execute_result",
          "data": {
            "text/plain": [
              "Expected data not available                         4\n",
              "Long data transmission delay                        4\n",
              "Data loss                                           4\n",
              "Lack of interaction                                 4\n",
              "Missing acknowledgment for an exchange process      4\n",
              "Low response time                                   4\n",
              "inability of conscumers to receive more messages    4\n",
              "Missing producer partner                            4\n",
              "Invalid exchange format                             4\n",
              "Missing consumer partner                            4\n",
              "Low exchange rate                                   4\n",
              "no problem                                          4\n",
              "Consumption stopped                                 2\n",
              "Name: type_of_problem, dtype: int64"
            ]
          },
          "metadata": {},
          "execution_count": 121
        }
      ]
    },
    {
      "cell_type": "code",
      "metadata": {
        "colab": {
          "base_uri": "https://localhost:8080/",
          "height": 317
        },
        "id": "rxOvIe62F9Jx",
        "outputId": "43a05db9-f261-42db-deb1-d850c5785a1b"
      },
      "source": [
        "data.describe()"
      ],
      "execution_count": 124,
      "outputs": [
        {
          "output_type": "execute_result",
          "data": {
            "text/html": [
              "<div>\n",
              "<style scoped>\n",
              "    .dataframe tbody tr th:only-of-type {\n",
              "        vertical-align: middle;\n",
              "    }\n",
              "\n",
              "    .dataframe tbody tr th {\n",
              "        vertical-align: top;\n",
              "    }\n",
              "\n",
              "    .dataframe thead th {\n",
              "        text-align: right;\n",
              "    }\n",
              "</style>\n",
              "<table border=\"1\" class=\"dataframe\">\n",
              "  <thead>\n",
              "    <tr style=\"text-align: right;\">\n",
              "      <th></th>\n",
              "      <th>Broker_availability</th>\n",
              "      <th>Average_response_time</th>\n",
              "      <th>flowConsumer</th>\n",
              "      <th>flowPublisher</th>\n",
              "      <th>Average_execution_delay</th>\n",
              "      <th>goodPut</th>\n",
              "      <th>Broker_reactivity</th>\n",
              "      <th>Network_delay</th>\n",
              "      <th>Conformity_rate</th>\n",
              "      <th>Broker_failure_rate</th>\n",
              "      <th>Rate_of_messages_transmitted</th>\n",
              "    </tr>\n",
              "  </thead>\n",
              "  <tbody>\n",
              "    <tr>\n",
              "      <th>count</th>\n",
              "      <td>50.000000</td>\n",
              "      <td>50.000000</td>\n",
              "      <td>50.000000</td>\n",
              "      <td>50.000000</td>\n",
              "      <td>50.000000</td>\n",
              "      <td>50.000000</td>\n",
              "      <td>50.000000</td>\n",
              "      <td>50.000000</td>\n",
              "      <td>50.000000</td>\n",
              "      <td>50.000000</td>\n",
              "      <td>50.000000</td>\n",
              "    </tr>\n",
              "    <tr>\n",
              "      <th>mean</th>\n",
              "      <td>9.972512</td>\n",
              "      <td>6.100292</td>\n",
              "      <td>1.488042</td>\n",
              "      <td>0.589316</td>\n",
              "      <td>0.910486</td>\n",
              "      <td>0.015828</td>\n",
              "      <td>1.287931</td>\n",
              "      <td>1083.400000</td>\n",
              "      <td>96.060000</td>\n",
              "      <td>36.473708</td>\n",
              "      <td>30.188324</td>\n",
              "    </tr>\n",
              "    <tr>\n",
              "      <th>std</th>\n",
              "      <td>23.871385</td>\n",
              "      <td>6.639567</td>\n",
              "      <td>1.370576</td>\n",
              "      <td>0.438323</td>\n",
              "      <td>0.806993</td>\n",
              "      <td>0.091655</td>\n",
              "      <td>1.204064</td>\n",
              "      <td>965.176033</td>\n",
              "      <td>15.846889</td>\n",
              "      <td>33.656523</td>\n",
              "      <td>30.288952</td>\n",
              "    </tr>\n",
              "    <tr>\n",
              "      <th>min</th>\n",
              "      <td>0.000000</td>\n",
              "      <td>0.908000</td>\n",
              "      <td>0.197600</td>\n",
              "      <td>0.133000</td>\n",
              "      <td>0.126800</td>\n",
              "      <td>0.000700</td>\n",
              "      <td>0.135600</td>\n",
              "      <td>380.000000</td>\n",
              "      <td>14.250000</td>\n",
              "      <td>0.000000</td>\n",
              "      <td>1.654800</td>\n",
              "    </tr>\n",
              "    <tr>\n",
              "      <th>25%</th>\n",
              "      <td>0.000000</td>\n",
              "      <td>1.009725</td>\n",
              "      <td>0.721525</td>\n",
              "      <td>0.197600</td>\n",
              "      <td>0.439700</td>\n",
              "      <td>0.001000</td>\n",
              "      <td>0.539750</td>\n",
              "      <td>597.000000</td>\n",
              "      <td>100.000000</td>\n",
              "      <td>4.800000</td>\n",
              "      <td>5.875400</td>\n",
              "    </tr>\n",
              "    <tr>\n",
              "      <th>50%</th>\n",
              "      <td>0.000000</td>\n",
              "      <td>2.197400</td>\n",
              "      <td>1.106200</td>\n",
              "      <td>0.414400</td>\n",
              "      <td>0.495000</td>\n",
              "      <td>0.001400</td>\n",
              "      <td>0.920000</td>\n",
              "      <td>781.000000</td>\n",
              "      <td>100.000000</td>\n",
              "      <td>23.180700</td>\n",
              "      <td>19.386400</td>\n",
              "    </tr>\n",
              "    <tr>\n",
              "      <th>75%</th>\n",
              "      <td>0.000000</td>\n",
              "      <td>11.545375</td>\n",
              "      <td>1.854700</td>\n",
              "      <td>0.924125</td>\n",
              "      <td>1.470375</td>\n",
              "      <td>0.001800</td>\n",
              "      <td>1.098400</td>\n",
              "      <td>1201.000000</td>\n",
              "      <td>100.000000</td>\n",
              "      <td>72.065750</td>\n",
              "      <td>49.740000</td>\n",
              "    </tr>\n",
              "    <tr>\n",
              "      <th>max</th>\n",
              "      <td>90.300000</td>\n",
              "      <td>25.066600</td>\n",
              "      <td>7.369600</td>\n",
              "      <td>1.784500</td>\n",
              "      <td>2.890000</td>\n",
              "      <td>0.650300</td>\n",
              "      <td>5.058800</td>\n",
              "      <td>5421.000000</td>\n",
              "      <td>100.000000</td>\n",
              "      <td>99.454500</td>\n",
              "      <td>100.000000</td>\n",
              "    </tr>\n",
              "  </tbody>\n",
              "</table>\n",
              "</div>"
            ],
            "text/plain": [
              "       Broker_availability  ...  Rate_of_messages_transmitted\n",
              "count            50.000000  ...                     50.000000\n",
              "mean              9.972512  ...                     30.188324\n",
              "std              23.871385  ...                     30.288952\n",
              "min               0.000000  ...                      1.654800\n",
              "25%               0.000000  ...                      5.875400\n",
              "50%               0.000000  ...                     19.386400\n",
              "75%               0.000000  ...                     49.740000\n",
              "max              90.300000  ...                    100.000000\n",
              "\n",
              "[8 rows x 11 columns]"
            ]
          },
          "metadata": {},
          "execution_count": 124
        }
      ]
    },
    {
      "cell_type": "code",
      "metadata": {
        "colab": {
          "base_uri": "https://localhost:8080/",
          "height": 602
        },
        "id": "agxYBUrXdBuK",
        "outputId": "de1ffe32-8b17-4cd0-c57e-93c07a1fa38b"
      },
      "source": [
        "import pylab as pl\n",
        "data.drop('type_of_problem' ,axis=1).hist(bins=30, figsize=(9,9))\n",
        "pl.suptitle(\"Histogram for each numeric input variable\")\n",
        "plt.savefig('data_hist')\n",
        "plt.show()"
      ],
      "execution_count": 123,
      "outputs": [
        {
          "output_type": "display_data",
          "data": {
            "image/png": "[encoded data removed]",
            "text/plain": [
              "<Figure size 648x648 with 12 Axes>"
            ]
          },
          "metadata": {
            "needs_background": "light"
          }
        }
      ]
    },
    {
      "cell_type": "markdown",
      "metadata": {
        "id": "VeL8FcsVqkSb"
      },
      "source": [
        "there is not a strong correlation relation between the attributes"
      ]
    },
    {
      "cell_type": "markdown",
      "metadata": {
        "id": "WFI1G4KDppuv"
      },
      "source": [
        "**Separating features and target**"
      ]
    },
    {
      "cell_type": "code",
      "metadata": {
        "id": "x9WSecMOoOVl"
      },
      "source": [
        "data=data.values\n",
        "X = data[:,1:11].astype(float)\n",
        "Y = data[:,13]"
      ],
      "execution_count": 84,
      "outputs": []
    },
    {
      "cell_type": "code",
      "metadata": {
        "colab": {
          "base_uri": "https://localhost:8080/"
        },
        "id": "ysN0AIRvoy6f",
        "outputId": "e882c3ad-7cd7-492b-d472-ffc45fe8a2d3"
      },
      "source": [
        "X"
      ],
      "execution_count": 85,
      "outputs": [
        {
          "output_type": "execute_result",
          "data": {
            "text/plain": [
              "array([[0.00000e+00, 2.01690e+00, 3.98600e-01, 1.97600e-01, 1.67690e+00,\n",
              "        1.60000e-03, 2.50840e+00, 5.97000e+02, 1.00000e+02, 3.37078e+01],\n",
              "       [0.00000e+00, 2.01690e+00, 3.98600e-01, 1.97600e-01, 1.67690e+00,\n",
              "        1.60000e-03, 2.50840e+00, 5.97000e+02, 1.00000e+02, 4.70780e+00],\n",
              "       [0.00000e+00, 2.01690e+00, 3.98600e-01, 1.97600e-01, 1.67690e+00,\n",
              "        1.60000e-03, 2.50840e+00, 5.97000e+02, 1.00000e+02, 3.75460e+00],\n",
              "       [0.00000e+00, 2.01690e+00, 3.98600e-01, 1.97600e-01, 1.67690e+00,\n",
              "        1.60000e-03, 2.50840e+00, 5.97000e+02, 1.00000e+02, 6.76570e+00],\n",
              "       [0.00000e+00, 8.47480e+00, 1.44600e+00, 1.65700e-01, 6.36700e-01,\n",
              "        9.00000e-04, 4.53780e+00, 1.08000e+03, 1.00000e+02, 7.88915e+01],\n",
              "       [0.00000e+00, 9.47080e+00, 1.86650e+00, 1.97000e-01, 4.84500e-01,\n",
              "        1.80000e-03, 5.35700e-01, 9.59000e+02, 1.00000e+02, 8.08994e+01],\n",
              "       [0.00000e+00, 9.47080e+00, 1.86650e+00, 1.97000e-01, 4.84500e-01,\n",
              "        1.80000e-03, 5.35700e-01, 9.59000e+02, 1.00000e+02, 2.38994e+01],\n",
              "       [0.00000e+00, 1.42836e+01, 7.36960e+00, 1.55900e-01, 1.26800e-01,\n",
              "        1.80000e-03, 1.35600e-01, 5.33000e+02, 1.00000e+02, 8.69140e+01],\n",
              "       [0.00000e+00, 1.60833e+01, 2.13960e+00, 1.33000e-01, 4.40000e-01,\n",
              "        1.10000e-03, 4.67300e-01, 9.02000e+02, 1.00000e+02, 8.82926e+01],\n",
              "       [0.00000e+00, 1.00000e+00, 1.22450e+00, 1.22450e+00, 4.70000e-01,\n",
              "        3.00000e-03, 9.20000e-01, 6.01000e+02, 1.00000e+02, 0.00000e+00],\n",
              "       [0.00000e+00, 1.29666e+01, 1.84790e+00, 1.42500e-01, 5.02300e-01,\n",
              "        1.10000e-03, 5.41100e-01, 8.42000e+02, 1.00000e+02, 8.56801e+01],\n",
              "       [0.00000e+00, 4.79690e+00, 1.88220e+00, 3.26900e-01, 4.39600e-01,\n",
              "        1.10000e-03, 5.31200e-01, 8.41000e+02, 1.00000e+02, 6.54992e+01],\n",
              "       [0.00000e+00, 1.10080e+00, 2.20100e-01, 2.00000e-01, 2.38000e+00,\n",
              "        1.60000e-03, 4.54190e+00, 5.95000e+02, 1.00000e+02, 4.80000e+00],\n",
              "       [0.00000e+00, 9.08000e-01, 1.97600e-01, 2.17600e-01, 2.40800e+00,\n",
              "        1.60000e-03, 5.05880e+00, 6.02000e+02, 1.00000e+02, 4.80000e+00],\n",
              "       [0.00000e+00, 9.41790e+00, 1.85410e+00, 1.96800e-01, 4.87500e-01,\n",
              "        1.80000e-03, 5.39300e-01, 9.60000e+02, 1.00000e+02, 8.05987e+01],\n",
              "       [0.00000e+00, 1.00000e+00, 1.47140e+00, 1.47140e+00, 2.30000e-01,\n",
              "        4.60000e-03, 8.99000e-01, 6.84000e+02, 1.00000e+02, 0.00000e+00],\n",
              "       [0.00000e+00, 4.62150e+00, 9.65800e-01, 2.08900e-01, 8.51100e-01,\n",
              "        8.00000e-04, 1.03530e+00, 1.20100e+03, 1.00000e+02, 6.44223e+01],\n",
              "       [0.00000e+00, 1.94759e+01, 1.25790e+00, 7.89400e-01, 3.26500e-01,\n",
              "        9.00000e-04, 4.45610e+00, 1.07400e+03, 1.00000e+02, 1.86549e+01],\n",
              "       [0.00000e+00, 1.22369e+01, 6.58600e-01, 1.94600e-01, 1.67680e+00,\n",
              "        1.60000e-02, 2.50240e+00, 5.97000e+02, 1.00000e+02, 3.57078e+01],\n",
              "       [0.00000e+00, 1.22369e+01, 6.58600e-01, 1.94600e-01, 1.67680e+00,\n",
              "        1.60000e-02, 2.15024e+00, 5.97000e+02, 1.00000e+02, 3.57078e+01],\n",
              "       [0.00000e+00, 1.90666e+01, 4.76260e+00, 2.49700e-01, 1.99500e-01,\n",
              "        8.00000e-04, 2.09900e-01, 1.20100e+03, 1.00000e+02, 9.00332e+01],\n",
              "       [0.00000e+00, 2.50666e+01, 4.76260e+00, 2.49700e-01, 1.99500e-01,\n",
              "        8.00000e-04, 2.09900e-01, 1.20100e+03, 1.00000e+02, 3.32000e-02],\n",
              "       [0.00000e+00, 1.90666e+01, 4.76260e+00, 2.49700e-01, 1.99500e-01,\n",
              "        8.00000e-04, 2.09900e-01, 1.20100e+03, 1.00000e+02, 1.03320e+00],\n",
              "       [0.00000e+00, 1.00000e+00, 1.78450e+00, 1.78450e+00, 4.70000e-01,\n",
              "        5.00000e-03, 9.20000e-01, 5.41000e+02, 1.00000e+02, 0.00000e+00],\n",
              "       [0.00000e+00, 4.15820e+00, 1.85490e+00, 4.46000e-01, 4.34500e-01,\n",
              "        9.00000e-04, 5.39100e-01, 1.02000e+03, 1.00000e+02, 6.12270e+01],\n",
              "       [0.00000e+00, 3.54678e+00, 1.85490e+00, 4.76000e-01, 4.34500e-01,\n",
              "        1.45000e-02, 5.39100e-01, 2.25400e+03, 1.00000e+02, 1.42270e+01],\n",
              "       [0.00000e+00, 1.03890e+00, 2.26100e-01, 5.40000e-01, 2.70200e+00,\n",
              "        1.60000e-03, 1.54740e+00, 5.59000e+02, 7.82500e+01, 3.70000e+00],\n",
              "       [0.00000e+00, 2.37790e+00, 9.10300e-01, 3.82800e-01, 7.73200e-01,\n",
              "        1.20000e-03, 1.09840e+00, 7.81000e+02, 1.00000e+02, 4.07920e+01],\n",
              "       [0.00000e+00, 2.37790e+00, 9.10300e-01, 3.82800e-01, 7.73200e-01,\n",
              "        1.20000e-03, 1.09840e+00, 7.81000e+02, 1.00000e+02, 2.57920e+01],\n",
              "       [0.00000e+00, 2.37790e+00, 9.10300e-01, 3.82800e-01, 7.73200e-01,\n",
              "        1.20000e-03, 1.09840e+00, 7.81000e+02, 1.00000e+02, 1.87920e+01],\n",
              "       [0.00000e+00, 2.37790e+00, 9.10300e-01, 3.82800e-01, 7.73200e-01,\n",
              "        1.20000e-03, 1.09840e+00, 7.81000e+02, 1.00000e+02, 2.57920e+01],\n",
              "       [0.00000e+00, 1.28559e+01, 1.12550e+00, 9.65500e-01, 7.68800e-01,\n",
              "        1.10000e-03, 5.63400e-01, 8.46000e+02, 1.00000e+02, 8.58845e+01],\n",
              "       [0.00000e+00, 1.60350e+00, 9.26000e-01, 5.77500e-01, 6.65000e-01,\n",
              "        7.00000e-04, 1.07980e+00, 1.38000e+03, 1.00000e+02, 2.31807e+01],\n",
              "       [0.00000e+00, 1.60350e+00, 9.26000e-01, 5.77500e-01, 6.65000e-01,\n",
              "        7.00000e-04, 1.07980e+00, 5.42100e+03, 1.00000e+02, 2.31807e+01],\n",
              "       [0.00000e+00, 1.60350e+00, 9.26000e-01, 5.77500e-01, 6.65000e-01,\n",
              "        7.00000e-04, 1.07980e+00, 4.56900e+03, 1.00000e+02, 2.31807e+01],\n",
              "       [5.08790e+01, 1.00000e+00, 2.05660e+00, 1.05460e+00, 2.00000e-01,\n",
              "        1.00000e-03, 9.20000e-01, 6.80000e+02, 1.00000e+02, 2.06954e+01],\n",
              "       [0.00000e+00, 1.00000e+00, 1.08690e+00, 1.08690e+00, 4.60000e-01,\n",
              "        9.00000e-04, 9.20000e-01, 3.80000e+02, 1.00000e+02, 0.00000e+00],\n",
              "       [6.52135e+01, 1.00000e+00, 1.22450e+00, 1.22450e+00, 4.70000e-01,\n",
              "        3.00000e-03, 9.20000e-01, 1.40100e+03, 1.00000e+02, 7.95484e+01],\n",
              "       [0.00000e+00, 1.22369e+01, 6.58600e-01, 1.94600e-01, 1.67680e+00,\n",
              "        1.60000e-02, 2.50240e+00, 5.97000e+02, 1.00000e+02, 3.57078e+01],\n",
              "       [0.00000e+00, 1.66985e+01, 2.76950e+00, 6.95100e-01, 4.74000e-01,\n",
              "        1.10000e-03, 3.25400e-01, 1.20500e+03, 1.00000e+02, 8.88695e+01],\n",
              "       [0.00000e+00, 1.66985e+01, 2.76950e+00, 6.95100e-01, 4.74000e-01,\n",
              "        1.10000e-03, 3.25400e-01, 1.20500e+03, 1.00000e+02, 4.86950e+00],\n",
              "       [0.00000e+00, 1.54890e+00, 2.26100e-01, 8.00000e-01, 2.89000e+00,\n",
              "        1.60000e-03, 5.47400e-01, 4.89000e+02, 1.42500e+01, 4.70000e+00],\n",
              "       [0.00000e+00, 1.54890e+00, 2.26100e-01, 8.00000e-01, 2.89000e+00,\n",
              "        1.60000e-03, 5.47400e-01, 4.89000e+02, 8.02500e+01, 4.70000e+00],\n",
              "       [0.00000e+00, 1.54890e+00, 2.26100e-01, 8.00000e-01, 2.89000e+00,\n",
              "        1.60000e-03, 5.47400e-01, 4.89000e+02, 3.02500e+01, 4.70000e+00],\n",
              "       [4.23000e+01, 1.00000e+00, 1.05660e+00, 1.05660e+00, 2.20000e-01,\n",
              "        1.00000e-03, 9.20000e-01, 6.80000e+02, 1.00000e+02, 2.26954e+01],\n",
              "       [9.03000e+01, 1.00000e+00, 1.05660e+00, 1.05660e+00, 2.20000e-01,\n",
              "        1.00000e-03, 9.20000e-01, 6.80000e+02, 1.00000e+02, 2.26954e+01],\n",
              "       [6.53000e+01, 1.00000e+00, 1.05660e+00, 1.05660e+00, 2.20000e-01,\n",
              "        1.00000e-03, 9.20000e-01, 6.80000e+02, 1.00000e+02, 2.26954e+01],\n",
              "       [7.88793e+01, 1.00000e+00, 1.22450e+00, 1.22450e+00, 4.70000e-01,\n",
              "        3.00000e-03, 9.20000e-01, 1.35200e+03, 1.00000e+02, 9.94545e+01],\n",
              "       [5.68793e+01, 1.00000e+00, 1.45670e+00, 1.45670e+00, 6.57000e-01,\n",
              "        1.25000e-02, 5.78900e-01, 1.45700e+03, 1.00000e+02, 7.42546e+01],\n",
              "       [4.88745e+01, 1.00000e+00, 1.23300e+00, 1.23300e+00, 4.87700e-01,\n",
              "        6.50300e-01, 7.89500e-01, 3.65400e+03, 1.00000e+02, 9.75477e+01]])"
            ]
          },
          "metadata": {},
          "execution_count": 85
        }
      ]
    },
    {
      "cell_type": "code",
      "metadata": {
        "colab": {
          "base_uri": "https://localhost:8080/"
        },
        "id": "uq2tEAabdlrV",
        "outputId": "4800b7d6-fa36-4c96-9000-34a0bd8dcb3b"
      },
      "source": [
        "Y"
      ],
      "execution_count": 87,
      "outputs": [
        {
          "output_type": "execute_result",
          "data": {
            "text/plain": [
              "array(['Missing consumer partner', 'Missing consumer partner',\n",
              "       'Missing consumer partner', 'Missing consumer partner',\n",
              "       'Lack of interaction', 'Consumption stopped',\n",
              "       'Consumption stopped',\n",
              "       'inability of conscumers to receive more messages',\n",
              "       'Lack of interaction', 'no problem', 'Lack of interaction',\n",
              "       'inability of conscumers to receive more messages',\n",
              "       'Low exchange rate', 'Long data transmission delay',\n",
              "       'Expected data not available ', 'no problem',\n",
              "       'Lack of interaction', 'Long data transmission delay',\n",
              "       'Long data transmission delay', 'Long data transmission delay',\n",
              "       'Expected data not available ', 'Expected data not available ',\n",
              "       'Expected data not available ', 'no problem',\n",
              "       'inability of conscumers to receive more messages',\n",
              "       'inability of conscumers to receive more messages',\n",
              "       'Invalid exchange format', 'Low response time',\n",
              "       'Low response time', 'Low response time', 'Low response time',\n",
              "       'Missing acknowledgment for an exchange process',\n",
              "       'Low exchange rate', 'Low exchange rate', 'Low exchange rate',\n",
              "       'Missing producer partner', 'no problem', 'Data loss',\n",
              "       'Missing acknowledgment for an exchange process',\n",
              "       'Missing acknowledgment for an exchange process',\n",
              "       'Missing acknowledgment for an exchange process',\n",
              "       'Invalid exchange format', 'Invalid exchange format',\n",
              "       'Invalid exchange format', 'Missing producer partner',\n",
              "       'Missing producer partner', 'Missing producer partner',\n",
              "       'Data loss', 'Data loss', 'Data loss'], dtype=object)"
            ]
          },
          "metadata": {},
          "execution_count": 87
        }
      ]
    },
    {
      "cell_type": "markdown",
      "metadata": {
        "id": "E5pIB4qypWif"
      },
      "source": [
        ""
      ]
    },
    {
      "cell_type": "markdown",
      "metadata": {
        "id": "NUjJ4uzfpUYP"
      },
      "source": [
        "**Encoding dummy variables**:Scikit-learn will not accept categorical features by default we need to encode them numerically"
      ]
    },
    {
      "cell_type": "code",
      "metadata": {
        "id": "1FFz7fGJuX67"
      },
      "source": [
        "# encode class values as integers\n",
        "encoder = LabelEncoder()\n",
        "encoder.fit(Y)\n",
        "encoded_Y = encoder.transform(Y)\n",
        "# convert integers to dummy variables \n",
        "dummy_y = np_utils.to_categorical(encoded_Y)"
      ],
      "execution_count": 88,
      "outputs": []
    },
    {
      "cell_type": "code",
      "metadata": {
        "colab": {
          "base_uri": "https://localhost:8080/"
        },
        "id": "i6MjFXgVUgZa",
        "outputId": "803039a9-8176-45f6-ecdf-4cbaf163b1cb"
      },
      "source": [
        "dummy_y"
      ],
      "execution_count": 89,
      "outputs": [
        {
          "output_type": "execute_result",
          "data": {
            "text/plain": [
              "array([[0., 0., 0., 0., 0., 0., 0., 0., 0., 1., 0., 0., 0.],\n",
              "       [0., 0., 0., 0., 0., 0., 0., 0., 0., 1., 0., 0., 0.],\n",
              "       [0., 0., 0., 0., 0., 0., 0., 0., 0., 1., 0., 0., 0.],\n",
              "       [0., 0., 0., 0., 0., 0., 0., 0., 0., 1., 0., 0., 0.],\n",
              "       [0., 0., 0., 0., 1., 0., 0., 0., 0., 0., 0., 0., 0.],\n",
              "       [1., 0., 0., 0., 0., 0., 0., 0., 0., 0., 0., 0., 0.],\n",
              "       [1., 0., 0., 0., 0., 0., 0., 0., 0., 0., 0., 0., 0.],\n",
              "       [0., 0., 0., 0., 0., 0., 0., 0., 0., 0., 0., 1., 0.],\n",
              "       [0., 0., 0., 0., 1., 0., 0., 0., 0., 0., 0., 0., 0.],\n",
              "       [0., 0., 0., 0., 0., 0., 0., 0., 0., 0., 0., 0., 1.],\n",
              "       [0., 0., 0., 0., 1., 0., 0., 0., 0., 0., 0., 0., 0.],\n",
              "       [0., 0., 0., 0., 0., 0., 0., 0., 0., 0., 0., 1., 0.],\n",
              "       [0., 0., 0., 0., 0., 0., 1., 0., 0., 0., 0., 0., 0.],\n",
              "       [0., 0., 0., 0., 0., 1., 0., 0., 0., 0., 0., 0., 0.],\n",
              "       [0., 0., 1., 0., 0., 0., 0., 0., 0., 0., 0., 0., 0.],\n",
              "       [0., 0., 0., 0., 0., 0., 0., 0., 0., 0., 0., 0., 1.],\n",
              "       [0., 0., 0., 0., 1., 0., 0., 0., 0., 0., 0., 0., 0.],\n",
              "       [0., 0., 0., 0., 0., 1., 0., 0., 0., 0., 0., 0., 0.],\n",
              "       [0., 0., 0., 0., 0., 1., 0., 0., 0., 0., 0., 0., 0.],\n",
              "       [0., 0., 0., 0., 0., 1., 0., 0., 0., 0., 0., 0., 0.],\n",
              "       [0., 0., 1., 0., 0., 0., 0., 0., 0., 0., 0., 0., 0.],\n",
              "       [0., 0., 1., 0., 0., 0., 0., 0., 0., 0., 0., 0., 0.],\n",
              "       [0., 0., 1., 0., 0., 0., 0., 0., 0., 0., 0., 0., 0.],\n",
              "       [0., 0., 0., 0., 0., 0., 0., 0., 0., 0., 0., 0., 1.],\n",
              "       [0., 0., 0., 0., 0., 0., 0., 0., 0., 0., 0., 1., 0.],\n",
              "       [0., 0., 0., 0., 0., 0., 0., 0., 0., 0., 0., 1., 0.],\n",
              "       [0., 0., 0., 1., 0., 0., 0., 0., 0., 0., 0., 0., 0.],\n",
              "       [0., 0., 0., 0., 0., 0., 0., 1., 0., 0., 0., 0., 0.],\n",
              "       [0., 0., 0., 0., 0., 0., 0., 1., 0., 0., 0., 0., 0.],\n",
              "       [0., 0., 0., 0., 0., 0., 0., 1., 0., 0., 0., 0., 0.],\n",
              "       [0., 0., 0., 0., 0., 0., 0., 1., 0., 0., 0., 0., 0.],\n",
              "       [0., 0., 0., 0., 0., 0., 0., 0., 1., 0., 0., 0., 0.],\n",
              "       [0., 0., 0., 0., 0., 0., 1., 0., 0., 0., 0., 0., 0.],\n",
              "       [0., 0., 0., 0., 0., 0., 1., 0., 0., 0., 0., 0., 0.],\n",
              "       [0., 0., 0., 0., 0., 0., 1., 0., 0., 0., 0., 0., 0.],\n",
              "       [0., 0., 0., 0., 0., 0., 0., 0., 0., 0., 1., 0., 0.],\n",
              "       [0., 0., 0., 0., 0., 0., 0., 0., 0., 0., 0., 0., 1.],\n",
              "       [0., 1., 0., 0., 0., 0., 0., 0., 0., 0., 0., 0., 0.],\n",
              "       [0., 0., 0., 0., 0., 0., 0., 0., 1., 0., 0., 0., 0.],\n",
              "       [0., 0., 0., 0., 0., 0., 0., 0., 1., 0., 0., 0., 0.],\n",
              "       [0., 0., 0., 0., 0., 0., 0., 0., 1., 0., 0., 0., 0.],\n",
              "       [0., 0., 0., 1., 0., 0., 0., 0., 0., 0., 0., 0., 0.],\n",
              "       [0., 0., 0., 1., 0., 0., 0., 0., 0., 0., 0., 0., 0.],\n",
              "       [0., 0., 0., 1., 0., 0., 0., 0., 0., 0., 0., 0., 0.],\n",
              "       [0., 0., 0., 0., 0., 0., 0., 0., 0., 0., 1., 0., 0.],\n",
              "       [0., 0., 0., 0., 0., 0., 0., 0., 0., 0., 1., 0., 0.],\n",
              "       [0., 0., 0., 0., 0., 0., 0., 0., 0., 0., 1., 0., 0.],\n",
              "       [0., 1., 0., 0., 0., 0., 0., 0., 0., 0., 0., 0., 0.],\n",
              "       [0., 1., 0., 0., 0., 0., 0., 0., 0., 0., 0., 0., 0.],\n",
              "       [0., 1., 0., 0., 0., 0., 0., 0., 0., 0., 0., 0., 0.]],\n",
              "      dtype=float32)"
            ]
          },
          "metadata": {},
          "execution_count": 89
        }
      ]
    },
    {
      "cell_type": "markdown",
      "metadata": {
        "id": "LWZ_P0C0rPdH"
      },
      "source": [
        "spliting the data 80% for training and 20% for testing"
      ]
    },
    {
      "cell_type": "code",
      "metadata": {
        "id": "bBLnaj10TP-T"
      },
      "source": [
        "from sklearn.model_selection import train_test_split\n",
        "X_train, X_test, y_train, y_test = train_test_split(X, Y, test_size=0.2,random_state=15)"
      ],
      "execution_count": 95,
      "outputs": []
    },
    {
      "cell_type": "markdown",
      "metadata": {
        "id": "bopujHCAr0fr"
      },
      "source": [
        "Random state ensures that the generated splits are reproducible. Scikit-learn uses random permutations to generate the splits. The random state that I provide is used as a seed to the random number generator. This ensures that the random numbers are generated in the same order\n",
        "then no matter how many times I execute my code the result would be the same .i.e, same values in train and test datasets.\n",
        "\n",
        "I set the value of random_state based on the best accuracy I had"
      ]
    },
    {
      "cell_type": "markdown",
      "metadata": {
        "id": "kovNhYdPafQ8"
      },
      "source": [
        "**Model creation**: For each model I defined:\n",
        "1.   accuracy during training\n",
        "2.   accuracy during the test\n",
        "3.   classification report for the comparison\n",
        "\n",
        "\n",
        "\n",
        "\n",
        "\n"
      ]
    },
    {
      "cell_type": "markdown",
      "metadata": {
        "id": "ALYt-5mLuuYk"
      },
      "source": [
        "**Decision Tree**"
      ]
    },
    {
      "cell_type": "code",
      "metadata": {
        "colab": {
          "base_uri": "https://localhost:8080/"
        },
        "id": "es0V-bIJUpxW",
        "outputId": "2a02eeef-ffcb-493b-81fc-256c19d8834d"
      },
      "source": [
        "from sklearn.tree import DecisionTreeClassifier\n",
        "clf = DecisionTreeClassifier().fit(X_train, y_train)\n",
        "print('Accuracy of Decision Tree classifier on training set: {:.2f}'\n",
        "     .format(clf.score(X_train, y_train)))\n",
        "print('Accuracy of Decision Tree classifier on test set: {:.2f}'\n",
        "     .format(clf.score(X_test, y_test)))"
      ],
      "execution_count": 125,
      "outputs": [
        {
          "output_type": "stream",
          "text": [
            "Accuracy of Decision Tree classifier on training set: 1.00\n",
            "Accuracy of Decision Tree classifier on test set: 0.80\n"
          ],
          "name": "stdout"
        }
      ]
    },
    {
      "cell_type": "code",
      "metadata": {
        "colab": {
          "base_uri": "https://localhost:8080/"
        },
        "id": "X7H5POwqUwKM",
        "outputId": "272490e6-71a0-45c0-a954-462545658ddd"
      },
      "source": [
        "from sklearn.metrics import classification_report\n",
        "from sklearn.metrics import confusion_matrix\n",
        "pred = clf.predict(X_test)\n",
        "print(confusion_matrix(y_test, pred))\n",
        "print(classification_report(y_test, pred, labels=np.unique(pred)))"
      ],
      "execution_count": 98,
      "outputs": [
        {
          "output_type": "stream",
          "text": [
            "[[1 0 0 0 0 0 0 0 0]\n",
            " [0 2 0 1 0 0 0 0 0]\n",
            " [0 0 0 0 0 0 0 0 0]\n",
            " [0 0 0 1 0 0 0 0 0]\n",
            " [0 0 0 0 1 0 0 0 0]\n",
            " [0 0 1 0 0 0 0 0 0]\n",
            " [0 0 0 0 0 0 1 0 0]\n",
            " [0 0 0 0 0 0 0 1 0]\n",
            " [0 0 0 0 0 0 0 0 1]]\n",
            "                              precision    recall  f1-score   support\n",
            "\n",
            "                   Data loss       1.00      1.00      1.00         1\n",
            "     Invalid exchange format       1.00      0.67      0.80         3\n",
            "Long data transmission delay       0.00      0.00      0.00         0\n",
            "           Low exchange rate       0.50      1.00      0.67         1\n",
            "           Low response time       1.00      1.00      1.00         1\n",
            "    Missing consumer partner       1.00      1.00      1.00         1\n",
            "    Missing producer partner       1.00      1.00      1.00         1\n",
            "                  no problem       1.00      1.00      1.00         1\n",
            "\n",
            "                   micro avg       0.80      0.89      0.84         9\n",
            "                   macro avg       0.81      0.83      0.81         9\n",
            "                weighted avg       0.94      0.89      0.90         9\n",
            "\n"
          ],
          "name": "stdout"
        },
        {
          "output_type": "stream",
          "text": [
            "/usr/local/lib/python3.7/dist-packages/sklearn/metrics/_classification.py:1272: UndefinedMetricWarning: Recall and F-score are ill-defined and being set to 0.0 in labels with no true samples. Use `zero_division` parameter to control this behavior.\n",
            "  _warn_prf(average, modifier, msg_start, len(result))\n"
          ],
          "name": "stderr"
        }
      ]
    },
    {
      "cell_type": "markdown",
      "metadata": {
        "id": "-qPuRy1Xu0TO"
      },
      "source": [
        "**Random Forest**"
      ]
    },
    {
      "cell_type": "code",
      "metadata": {
        "colab": {
          "base_uri": "https://localhost:8080/"
        },
        "id": "MRlR2CHkTfVe",
        "outputId": "3a49f592-737d-4f8f-fc93-d5e94f92b54b"
      },
      "source": [
        "from sklearn.ensemble import RandomForestClassifier\n",
        "logreg = RandomForestClassifier()\n",
        "logreg.fit(X_train, y_train)\n",
        "print('Accuracy of Random forest classifier on training set: {:.2f}'.format(logreg.score(X_train, y_train)))\n",
        "print('Accuracy of Random forest classifier on test set: {:.2f}'.format(logreg.score(X_test, y_test)))"
      ],
      "execution_count": 99,
      "outputs": [
        {
          "output_type": "stream",
          "text": [
            "Accuracy of Random forest classifier on training set: 1.00\n",
            "Accuracy of Random forest classifier on test set: 0.90\n"
          ],
          "name": "stdout"
        }
      ]
    },
    {
      "cell_type": "code",
      "metadata": {
        "colab": {
          "base_uri": "https://localhost:8080/"
        },
        "id": "CLMN7EaTTqSX",
        "outputId": "fee50ff6-a507-4907-bb46-dc5cac133c82"
      },
      "source": [
        "from sklearn.metrics import classification_report\n",
        "from sklearn.metrics import confusion_matrix\n",
        "pred = logreg.predict(X_test)\n",
        "print(confusion_matrix(y_test, pred))\n",
        "print(classification_report(y_test, pred,labels=np.unique(pred)))"
      ],
      "execution_count": 101,
      "outputs": [
        {
          "output_type": "stream",
          "text": [
            "[[1 0 0 0 0 0 0 0 0]\n",
            " [0 3 0 0 0 0 0 0 0]\n",
            " [0 0 0 0 0 0 0 0 0]\n",
            " [0 0 0 1 0 0 0 0 0]\n",
            " [0 0 0 0 1 0 0 0 0]\n",
            " [0 0 1 0 0 0 0 0 0]\n",
            " [0 0 0 0 0 0 1 0 0]\n",
            " [0 0 0 0 0 0 0 1 0]\n",
            " [0 0 0 0 0 0 0 0 1]]\n",
            "                              precision    recall  f1-score   support\n",
            "\n",
            "                   Data loss       1.00      1.00      1.00         1\n",
            "     Invalid exchange format       1.00      1.00      1.00         3\n",
            "Long data transmission delay       0.00      0.00      0.00         0\n",
            "           Low exchange rate       1.00      1.00      1.00         1\n",
            "           Low response time       1.00      1.00      1.00         1\n",
            "    Missing consumer partner       1.00      1.00      1.00         1\n",
            "    Missing producer partner       1.00      1.00      1.00         1\n",
            "                  no problem       1.00      1.00      1.00         1\n",
            "\n",
            "                   micro avg       0.90      1.00      0.95         9\n",
            "                   macro avg       0.88      0.88      0.88         9\n",
            "                weighted avg       1.00      1.00      1.00         9\n",
            "\n"
          ],
          "name": "stdout"
        },
        {
          "output_type": "stream",
          "text": [
            "/usr/local/lib/python3.7/dist-packages/sklearn/metrics/_classification.py:1272: UndefinedMetricWarning: Recall and F-score are ill-defined and being set to 0.0 in labels with no true samples. Use `zero_division` parameter to control this behavior.\n",
            "  _warn_prf(average, modifier, msg_start, len(result))\n"
          ],
          "name": "stderr"
        }
      ]
    },
    {
      "cell_type": "markdown",
      "metadata": {
        "id": "qwXVDT6su-1C"
      },
      "source": [
        "**KNN** :we start by looking for the best neighbors in range [1,10] in our case the best neighbor is the first since our database is clean"
      ]
    },
    {
      "cell_type": "code",
      "metadata": {
        "colab": {
          "base_uri": "https://localhost:8080/",
          "height": 381
        },
        "id": "-CFnsCnlVIep",
        "outputId": "c47ba666-4f17-473d-86c9-00980a5cb4cc"
      },
      "source": [
        "k_range = range(1, 10)\n",
        "scores = []\n",
        "for k in k_range:\n",
        "    knn = KNeighborsClassifier(n_neighbors = k)\n",
        "    knn.fit(X_train, y_train)\n",
        "    scores.append(knn.score(X_test, y_test))\n",
        "plt.figure()\n",
        "plt.xlabel('k')\n",
        "plt.ylabel('accuracy')\n",
        "plt.scatter(k_range, scores)\n",
        "plt.xticks([0,5,10,15,20])"
      ],
      "execution_count": 102,
      "outputs": [
        {
          "output_type": "execute_result",
          "data": {
            "text/plain": [
              "([<matplotlib.axis.XTick at 0x7fcb8c5f8ad0>,\n",
              "  <matplotlib.axis.XTick at 0x7fcb8c5f8c10>,\n",
              "  <matplotlib.axis.XTick at 0x7fcb8c32a990>,\n",
              "  <matplotlib.axis.XTick at 0x7fcb8c5ea150>,\n",
              "  <matplotlib.axis.XTick at 0x7fcb8c5eaad0>],\n",
              " <a list of 5 Text major ticklabel objects>)"
            ]
          },
          "metadata": {},
          "execution_count": 102
        },
        {
          "output_type": "display_data",
          "data": {
            "image/png": "[encoded data removed]",
            "text/plain": [
              "<Figure size 432x288 with 1 Axes>"
            ]
          },
          "metadata": {
            "needs_background": "light"
          }
        }
      ]
    },
    {
      "cell_type": "code",
      "metadata": {
        "colab": {
          "base_uri": "https://localhost:8080/"
        },
        "id": "kdvsej5aU_HJ",
        "outputId": "9980d9fe-4bd6-423a-ccab-434f1bcfcb81"
      },
      "source": [
        "from sklearn.neighbors import KNeighborsClassifier\n",
        "knn = KNeighborsClassifier(n_neighbors=1)\n",
        "knn.fit(X_train, y_train)\n",
        "print('Accuracy of K-NN classifier on training set: {:.2f}'\n",
        "     .format(knn.score(X_train, y_train)))\n",
        "print('Accuracy of K-NN classifier on test set: {:.2f}'\n",
        "     .format(knn.score(X_test, y_test)))"
      ],
      "execution_count": 126,
      "outputs": [
        {
          "output_type": "stream",
          "text": [
            "Accuracy of K-NN classifier on training set: 1.00\n",
            "Accuracy of K-NN classifier on test set: 0.70\n"
          ],
          "name": "stdout"
        }
      ]
    },
    {
      "cell_type": "code",
      "metadata": {
        "colab": {
          "base_uri": "https://localhost:8080/"
        },
        "id": "1F-pjKspVR5n",
        "outputId": "7b23adea-da00-4389-f300-fbcf923d533d"
      },
      "source": [
        "from sklearn.metrics import classification_report\n",
        "from sklearn.metrics import confusion_matrix\n",
        "pred = knn.predict(X_test)\n",
        "print(confusion_matrix(y_test, pred))\n",
        "print(classification_report(y_test, pred,labels=np.unique(pred)))"
      ],
      "execution_count": 127,
      "outputs": [
        {
          "output_type": "stream",
          "text": [
            "[[1 0 0 0 0 0 0 0 0]\n",
            " [0 2 0 0 0 0 0 0 1]\n",
            " [0 0 0 0 0 0 0 0 0]\n",
            " [0 0 0 1 0 0 0 0 0]\n",
            " [0 0 0 0 1 0 0 0 0]\n",
            " [0 0 1 0 0 0 0 0 0]\n",
            " [0 0 0 0 0 0 1 0 0]\n",
            " [0 0 0 0 0 0 0 1 0]\n",
            " [0 1 0 0 0 0 0 0 0]]\n",
            "                              precision    recall  f1-score   support\n",
            "\n",
            "                   Data loss       1.00      1.00      1.00         1\n",
            "     Invalid exchange format       0.67      0.67      0.67         3\n",
            "Long data transmission delay       0.00      0.00      0.00         0\n",
            "           Low exchange rate       1.00      1.00      1.00         1\n",
            "           Low response time       1.00      1.00      1.00         1\n",
            "    Missing consumer partner       1.00      1.00      1.00         1\n",
            "    Missing producer partner       1.00      1.00      1.00         1\n",
            "                  no problem       0.00      0.00      0.00         1\n",
            "\n",
            "                   micro avg       0.70      0.78      0.74         9\n",
            "                   macro avg       0.71      0.71      0.71         9\n",
            "                weighted avg       0.78      0.78      0.78         9\n",
            "\n"
          ],
          "name": "stdout"
        },
        {
          "output_type": "stream",
          "text": [
            "/usr/local/lib/python3.7/dist-packages/sklearn/metrics/_classification.py:1272: UndefinedMetricWarning: Recall and F-score are ill-defined and being set to 0.0 in labels with no true samples. Use `zero_division` parameter to control this behavior.\n",
            "  _warn_prf(average, modifier, msg_start, len(result))\n"
          ],
          "name": "stderr"
        }
      ]
    },
    {
      "cell_type": "markdown",
      "metadata": {
        "id": "dO5Fnh2zwVvn"
      },
      "source": [
        "**GaussinNB**"
      ]
    },
    {
      "cell_type": "code",
      "metadata": {
        "colab": {
          "base_uri": "https://localhost:8080/"
        },
        "id": "ZgJ5tKfSVrXz",
        "outputId": "0cfb51fc-5546-463d-e502-ce7270eee60d"
      },
      "source": [
        "from sklearn.naive_bayes import GaussianNB\n",
        "gnb = GaussianNB()\n",
        "gnb.fit(X_train, y_train)\n",
        "print('Accuracy of GNB classifier on training set: {:.2f}'\n",
        "     .format(gnb.score(X_train, y_train,)))\n",
        "print('Accuracy of GNB classifier on test set: {:.2f}'\n",
        "     .format(gnb.score(X_test, y_test)))"
      ],
      "execution_count": 106,
      "outputs": [
        {
          "output_type": "stream",
          "text": [
            "Accuracy of GNB classifier on training set: 0.95\n",
            "Accuracy of GNB classifier on test set: 0.70\n"
          ],
          "name": "stdout"
        }
      ]
    },
    {
      "cell_type": "code",
      "metadata": {
        "colab": {
          "base_uri": "https://localhost:8080/"
        },
        "id": "tqJWDGACV0bY",
        "outputId": "04d879d8-000e-4218-c722-f5101743c897"
      },
      "source": [
        "from sklearn.metrics import classification_report\n",
        "from sklearn.metrics import confusion_matrix\n",
        "pred = gnb.predict(X_test)\n",
        "print(confusion_matrix(y_test, pred))\n",
        "print(classification_report(y_test, pred ,labels=np.unique(pred)))"
      ],
      "execution_count": 128,
      "outputs": [
        {
          "output_type": "stream",
          "text": [
            "[[1 0 0 0 0 0 0 0 0]\n",
            " [0 2 0 1 0 0 0 0 0]\n",
            " [0 0 0 0 0 0 0 0 0]\n",
            " [0 0 0 1 0 0 0 0 0]\n",
            " [0 0 0 0 1 0 0 0 0]\n",
            " [0 0 1 0 0 0 0 0 0]\n",
            " [0 0 0 0 0 0 1 0 0]\n",
            " [1 0 0 0 0 0 0 0 0]\n",
            " [0 0 0 0 0 0 0 0 1]]\n",
            "                              precision    recall  f1-score   support\n",
            "\n",
            "                   Data loss       0.50      1.00      0.67         1\n",
            "     Invalid exchange format       1.00      0.67      0.80         3\n",
            "Long data transmission delay       0.00      0.00      0.00         0\n",
            "           Low exchange rate       0.50      1.00      0.67         1\n",
            "           Low response time       1.00      1.00      1.00         1\n",
            "    Missing consumer partner       1.00      1.00      1.00         1\n",
            "                  no problem       1.00      1.00      1.00         1\n",
            "\n",
            "                   micro avg       0.70      0.88      0.78         8\n",
            "                   macro avg       0.71      0.81      0.73         8\n",
            "                weighted avg       0.88      0.88      0.84         8\n",
            "\n"
          ],
          "name": "stdout"
        },
        {
          "output_type": "stream",
          "text": [
            "/usr/local/lib/python3.7/dist-packages/sklearn/metrics/_classification.py:1272: UndefinedMetricWarning: Recall and F-score are ill-defined and being set to 0.0 in labels with no true samples. Use `zero_division` parameter to control this behavior.\n",
            "  _warn_prf(average, modifier, msg_start, len(result))\n"
          ],
          "name": "stderr"
        }
      ]
    },
    {
      "cell_type": "markdown",
      "metadata": {
        "id": "r7MsPMcxwiEA"
      },
      "source": [
        "**SVM**"
      ]
    },
    {
      "cell_type": "code",
      "metadata": {
        "colab": {
          "base_uri": "https://localhost:8080/"
        },
        "id": "DBgD_f_if5Fn",
        "outputId": "52011b17-5f97-427c-f947-a9d042de177a"
      },
      "source": [
        "from sklearn.svm import SVC\n",
        "svm = SVC()\n",
        "svm.fit(X_train, y_train)\n",
        "print('Accuracy of SVM classifier on training set: {:.2f}'\n",
        "     .format(svm.score(X_train, y_train)))\n",
        "print('Accuracy of SVM classifier on test set: {:.2f}'\n",
        "     .format(svm.score(X_test, y_test)))"
      ],
      "execution_count": 129,
      "outputs": [
        {
          "output_type": "stream",
          "text": [
            "Accuracy of SVM classifier on training set: 0.25\n",
            "Accuracy of SVM classifier on test set: 0.10\n"
          ],
          "name": "stdout"
        }
      ]
    },
    {
      "cell_type": "markdown",
      "metadata": {
        "id": "69dbL7J2wyCu"
      },
      "source": [
        "Looking for the best parameters using Grid search:\n",
        "Grid-searching is the process of scanning the data to configure optimal parameters for a given model. Grid-Search will build a model on each parameter combination possible. It iterates through every parameter combination and stores a model for each combination."
      ]
    },
    {
      "cell_type": "code",
      "metadata": {
        "colab": {
          "base_uri": "https://localhost:8080/"
        },
        "id": "Xyh8L_jKxZkg",
        "outputId": "5162c558-20d2-4162-e786-d7fdf8f24e1a"
      },
      "source": [
        "from sklearn.model_selection import GridSearchCV\n",
        "\n",
        "param_grid = {'kernel': ('linear', 'rbf','poly'),'gamma': [0.001, 0.01, 0.1, 1],'C':[0.001, 0.01, 0.1, 1, 10]}\n",
        "svm = SVC()\n",
        "svm_cv = GridSearchCV(svm, param_grid, cv=3)\n",
        "svm_cv.fit(X_train, y_train)"
      ],
      "execution_count": 133,
      "outputs": [
        {
          "output_type": "stream",
          "text": [
            "/usr/local/lib/python3.7/dist-packages/sklearn/model_selection/_split.py:667: UserWarning: The least populated class in y has only 1 members, which is less than n_splits=3.\n",
            "  % (min_groups, self.n_splits)), UserWarning)\n"
          ],
          "name": "stderr"
        },
        {
          "output_type": "execute_result",
          "data": {
            "text/plain": [
              "GridSearchCV(cv=3, error_score=nan,\n",
              "             estimator=SVC(C=1.0, break_ties=False, cache_size=200,\n",
              "                           class_weight=None, coef0=0.0,\n",
              "                           decision_function_shape='ovr', degree=3,\n",
              "                           gamma='scale', kernel='rbf', max_iter=-1,\n",
              "                           probability=False, random_state=None, shrinking=True,\n",
              "                           tol=0.001, verbose=False),\n",
              "             iid='deprecated', n_jobs=None,\n",
              "             param_grid={'C': [0.001, 0.01, 0.1, 1, 10],\n",
              "                         'gamma': [0.001, 0.01, 0.1, 1],\n",
              "                         'kernel': ('linear', 'rbf', 'poly')},\n",
              "             pre_dispatch='2*n_jobs', refit=True, return_train_score=False,\n",
              "             scoring=None, verbose=0)"
            ]
          },
          "metadata": {},
          "execution_count": 133
        }
      ]
    },
    {
      "cell_type": "code",
      "metadata": {
        "id": "pL2UK6LNxx2K"
      },
      "source": [
        "df = pd.DataFrame.from_dict(svm_cv.cv_results_)"
      ],
      "execution_count": 134,
      "outputs": []
    },
    {
      "cell_type": "code",
      "metadata": {
        "colab": {
          "base_uri": "https://localhost:8080/"
        },
        "id": "M0NCentBx0fL",
        "outputId": "295d89f0-c7cc-4a16-ac59-e44427f438b0"
      },
      "source": [
        "svm_cv.best_params_"
      ],
      "execution_count": 135,
      "outputs": [
        {
          "output_type": "execute_result",
          "data": {
            "text/plain": [
              "{'C': 1, 'gamma': 0.001, 'kernel': 'linear'}"
            ]
          },
          "metadata": {},
          "execution_count": 135
        }
      ]
    },
    {
      "cell_type": "code",
      "metadata": {
        "colab": {
          "base_uri": "https://localhost:8080/"
        },
        "id": "ECa1pMIlx4s7",
        "outputId": "cd0c66a5-e55a-461a-f94e-d59aab8f9532"
      },
      "source": [
        "from sklearn.svm import SVC\n",
        "svm = SVC(kernel='linear',C=1,gamma = 0.001)\n",
        "svm.fit(X_train, y_train)\n",
        "print('Accuracy of SVM classifier on training set: {:.2f}'\n",
        "     .format(svm.score(X_train, y_train)))\n",
        "print('Accuracy of SVM classifier on test set: {:.2f}'\n",
        "     .format(svm.score(X_test, y_test)))"
      ],
      "execution_count": 136,
      "outputs": [
        {
          "output_type": "stream",
          "text": [
            "Accuracy of SVM classifier on training set: 0.93\n",
            "Accuracy of SVM classifier on test set: 0.70\n"
          ],
          "name": "stdout"
        }
      ]
    },
    {
      "cell_type": "code",
      "metadata": {
        "colab": {
          "base_uri": "https://localhost:8080/"
        },
        "id": "8CKcR1ZVyIw1",
        "outputId": "6fa6f993-8eb9-4500-a5af-23363c4ecb43"
      },
      "source": [
        "from sklearn.metrics import classification_report\n",
        "from sklearn.metrics import confusion_matrix\n",
        "pred = svm.predict(X_test)\n",
        "print(confusion_matrix(y_test, pred))\n",
        "print(classification_report(y_test, pred ,labels=np.unique(pred)))"
      ],
      "execution_count": 137,
      "outputs": [
        {
          "output_type": "stream",
          "text": [
            "[[1 0 0 0 0 0 0 0 0]\n",
            " [0 2 0 0 0 0 1 0 0]\n",
            " [0 0 0 0 0 0 0 0 0]\n",
            " [0 0 0 1 0 0 0 0 0]\n",
            " [0 0 0 0 1 0 0 0 0]\n",
            " [0 0 1 0 0 0 0 0 0]\n",
            " [0 0 0 0 0 0 1 0 0]\n",
            " [0 0 0 0 0 0 0 1 0]\n",
            " [0 1 0 0 0 0 0 0 0]]\n",
            "                              precision    recall  f1-score   support\n",
            "\n",
            "                   Data loss       1.00      1.00      1.00         1\n",
            "     Invalid exchange format       0.67      0.67      0.67         3\n",
            "Long data transmission delay       0.00      0.00      0.00         0\n",
            "           Low exchange rate       1.00      1.00      1.00         1\n",
            "           Low response time       1.00      1.00      1.00         1\n",
            "    Missing consumer partner       0.50      1.00      0.67         1\n",
            "    Missing producer partner       1.00      1.00      1.00         1\n",
            "\n",
            "                   micro avg       0.70      0.88      0.78         8\n",
            "                   macro avg       0.74      0.81      0.76         8\n",
            "                weighted avg       0.81      0.88      0.83         8\n",
            "\n"
          ],
          "name": "stdout"
        },
        {
          "output_type": "stream",
          "text": [
            "/usr/local/lib/python3.7/dist-packages/sklearn/metrics/_classification.py:1272: UndefinedMetricWarning: Recall and F-score are ill-defined and being set to 0.0 in labels with no true samples. Use `zero_division` parameter to control this behavior.\n",
            "  _warn_prf(average, modifier, msg_start, len(result))\n"
          ],
          "name": "stderr"
        }
      ]
    }
  ]
}