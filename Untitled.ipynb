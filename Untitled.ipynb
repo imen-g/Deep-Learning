{
 "cells": [
  {
   "cell_type": "code",
   "execution_count": 2,
   "metadata": {},
   "outputs": [
    {
     "name": "stdout",
     "output_type": "stream",
     "text": [
      "(28, 28)\n"
     ]
    },
    {
     "data": {
      "text/plain": [
       "<matplotlib.image.AxesImage at 0x10412dd8>"
      ]
     },
     "execution_count": 2,
     "metadata": {},
     "output_type": "execute_result"
    },
    {
     "data": {
      "image/png": "[encoded data removed]",
      "text/plain": [
       "<matplotlib.figure.Figure at 0x49e05c0>"
      ]
     },
     "metadata": {},
     "output_type": "display_data"
    }
   ],
   "source": [
    "import numpy as np\n",
    "from PIL import Image\n",
    "import os\n",
    "import matplotlib.pyplot as plt\n",
    "%matplotlib inline\n",
    "import keras\n",
    "from keras.preprocessing.image import  \n",
    "ins = Image.open(\"mnist/0/0.png\")\n",
    "ins = np.array(ins)\n",
    "#print(ins.shape)\n",
    "plt.imshow(ins,cmap=\"gray\")"
   ]
  },
  {
   "cell_type": "code",
   "execution_count": 5,
   "metadata": {},
   "outputs": [],
   "source": [
    "#calcule de nombre de fichiers dans le dossier mnist\n",
    "def read_data():\n",
    "    data=[]\n",
    "    path=\"mnist\"\n",
    "    for dirs in os.listdir(path): #donne la liste des dossiers sous path\n",
    "        for file in os.listdir(os.path.join(path,dirs)): #donne la liste des fichiers et dossiers sur path/dirs\n",
    "            data.append([os.path.join(path,dirs,file),dirs])\n",
    "    return  data"
   ]
  },
  {
   "cell_type": "code",
   "execution_count": 6,
   "metadata": {},
   "outputs": [
    {
     "name": "stdout",
     "output_type": "stream",
     "text": [
      "<class 'list'>\n",
      "<class 'numpy.ndarray'>\n"
     ]
    }
   ],
   "source": [
    "data1=read_data()\n",
    "print(type(data1))\n",
    "data1=np.array(data1)\n",
    "print(type(data1))"
   ]
  },
  {
   "cell_type": "code",
   "execution_count": 7,
   "metadata": {},
   "outputs": [
    {
     "name": "stdout",
     "output_type": "stream",
     "text": [
      "(70000, 2)\n"
     ]
    }
   ],
   "source": [
    "print(data1.shape)"
   ]
  },
  {
   "cell_type": "code",
   "execution_count": 8,
   "metadata": {},
   "outputs": [],
   "source": [
    "from sklearn.model_selection import train_test_split\n",
    "def split_data(data_list,train_ratio,test_ratio,val_ratio):\n",
    "    train_list,test_l= train_test_split(data_list, test_size =test_ratio )\n",
    "    test_list,val_list=train_test_split(test_l, test_size =val_ratio )\n",
    "    return train_list,test_list,val_list\n",
    "\n",
    "#autre méthode\n",
    "#def split_data2(data_list,train_ratio,test_ratio,val_ratio):\n",
    "    #np.random.shuffle(data_list)\n",
    "    #train_list=data_list[:round(len(data_list)*train_ratio)]\n",
    "    #test_list=data_list[round(len(data_list)*train_ratio):round(len(data_list)*(train_ratio+test_ratio))]\n",
    "    #val_list=data_list[-round(len(data_list)*val_ratio):]\n",
    "    #return train_list,test_list,val_list\n",
    "    "
   ]
  },
  {
   "cell_type": "code",
   "execution_count": 33,
   "metadata": {},
   "outputs": [
    {
     "data": {
      "text/plain": [
       "(array([['mnist\\\\7\\\\46095.png', '7'],\n",
       "        ['mnist\\\\5\\\\33288.png', '5'],\n",
       "        ['mnist\\\\9\\\\59889.png', '9'],\n",
       "        ...,\n",
       "        ['mnist\\\\8\\\\68169.png', '8'],\n",
       "        ['mnist\\\\3\\\\24259.png', '3'],\n",
       "        ['mnist\\\\0\\\\1997.png', '0']], dtype='<U17'),\n",
       " array([['mnist\\\\1\\\\61183.png', '1'],\n",
       "        ['mnist\\\\8\\\\52118.png', '8'],\n",
       "        ['mnist\\\\8\\\\48459.png', '8'],\n",
       "        ...,\n",
       "        ['mnist\\\\1\\\\6548.png', '1'],\n",
       "        ['mnist\\\\1\\\\12220.png', '1'],\n",
       "        ['mnist\\\\4\\\\28944.png', '4']], dtype='<U17'),\n",
       " array([['mnist\\\\7\\\\46869.png', '7'],\n",
       "        ['mnist\\\\8\\\\50099.png', '8'],\n",
       "        ['mnist\\\\3\\\\24121.png', '3'],\n",
       "        ...,\n",
       "        ['mnist\\\\7\\\\42660.png', '7'],\n",
       "        ['mnist\\\\0\\\\300.png', '0'],\n",
       "        ['mnist\\\\4\\\\29165.png', '4']], dtype='<U17'))"
      ]
     },
     "execution_count": 33,
     "metadata": {},
     "output_type": "execute_result"
    }
   ],
   "source": []
  },
  {
   "cell_type": "code",
   "execution_count": 13,
   "metadata": {},
   "outputs": [],
   "source": [
    "l1,l2,l3=split_data(data1,0.6,0.3,0.1)"
   ]
  },
  {
   "cell_type": "code",
   "execution_count": 14,
   "metadata": {},
   "outputs": [
    {
     "data": {
      "text/plain": [
       "49000"
      ]
     },
     "execution_count": 14,
     "metadata": {},
     "output_type": "execute_result"
    }
   ],
   "source": [
    "len(l1)"
   ]
  },
  {
   "cell_type": "code",
   "execution_count": 15,
   "metadata": {},
   "outputs": [
    {
     "data": {
      "text/plain": [
       "70000"
      ]
     },
     "execution_count": 15,
     "metadata": {},
     "output_type": "execute_result"
    }
   ],
   "source": [
    "len(l1)+len(l2)+len(l3)"
   ]
  },
  {
   "cell_type": "code",
   "execution_count": 16,
   "metadata": {},
   "outputs": [
    {
     "data": {
      "text/plain": [
       "array([['mnist\\\\6\\\\37140.png', '6'],\n",
       "       ['mnist\\\\9\\\\55647.png', '9'],\n",
       "       ['mnist\\\\3\\\\64132.png', '3'],\n",
       "       ...,\n",
       "       ['mnist\\\\7\\\\44132.png', '7'],\n",
       "       ['mnist\\\\5\\\\32048.png', '5'],\n",
       "       ['mnist\\\\3\\\\18629.png', '3']], dtype='<U17')"
      ]
     },
     "execution_count": 16,
     "metadata": {},
     "output_type": "execute_result"
    }
   ],
   "source": [
    "l1"
   ]
  },
  {
   "cell_type": "code",
   "execution_count": 17,
   "metadata": {},
   "outputs": [
    {
     "data": {
      "text/plain": [
       "array([['mnist\\\\3\\\\21961.png', '3'],\n",
       "       ['mnist\\\\3\\\\63881.png', '3'],\n",
       "       ['mnist\\\\5\\\\31017.png', '5'],\n",
       "       ...,\n",
       "       ['mnist\\\\2\\\\16788.png', '2'],\n",
       "       ['mnist\\\\3\\\\23290.png', '3'],\n",
       "       ['mnist\\\\8\\\\52887.png', '8']], dtype='<U17')"
      ]
     },
     "execution_count": 17,
     "metadata": {},
     "output_type": "execute_result"
    }
   ],
   "source": [
    "l2"
   ]
  },
  {
   "cell_type": "code",
   "execution_count": null,
   "metadata": {},
   "outputs": [],
   "source": []
  }
 ],
 "metadata": {
  "kernelspec": {
   "display_name": "Python 3",
   "language": "python",
   "name": "python3"
  },
  "language_info": {
   "codemirror_mode": {
    "name": "ipython",
    "version": 3
   },
   "file_extension": ".py",
   "mimetype": "text/x-python",
   "name": "python",
   "nbconvert_exporter": "python",
   "pygments_lexer": "ipython3",
   "version": "3.6.5"
  }
 },
 "nbformat": 4,
 "nbformat_minor": 2
}
